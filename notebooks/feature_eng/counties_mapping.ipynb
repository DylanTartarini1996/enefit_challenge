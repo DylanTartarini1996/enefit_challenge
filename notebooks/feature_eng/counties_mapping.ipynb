{
 "cells": [
  {
   "cell_type": "code",
   "execution_count": 1,
   "metadata": {},
   "outputs": [],
   "source": [
    "import pandas as pd\n",
    "from pathlib import Path\n",
    "import json\n",
    "from geopy.geocoders import Nominatim"
   ]
  },
  {
   "cell_type": "code",
   "execution_count": 3,
   "metadata": {},
   "outputs": [
    {
     "data": {
      "text/plain": [
       "{0: 'HARJUMAA',\n",
       " 1: 'HIIUMAA',\n",
       " 2: 'IDA-VIRUMAA',\n",
       " 3: 'JÄRVAMAA',\n",
       " 4: 'JÕGEVAMAA',\n",
       " 5: 'LÄÄNE-VIRUMAA',\n",
       " 6: 'LÄÄNEMAA',\n",
       " 7: 'PÄRNUMAA',\n",
       " 8: 'PÕLVAMAA',\n",
       " 9: 'RAPLAMAA',\n",
       " 10: 'SAAREMAA',\n",
       " 11: 'TARTUMAA',\n",
       " 12: 'UNKNOWN',\n",
       " 13: 'VALGAMAA',\n",
       " 14: 'VILJANDIMAA',\n",
       " 15: 'VÕRUMAA'}"
      ]
     },
     "execution_count": 3,
     "metadata": {},
     "output_type": "execute_result"
    }
   ],
   "source": [
    "f = open('../../input/county_id_to_name_map.json')\n",
    "county_map = json.load(f)\n",
    "county_map = {int(key): value for key, value in county_map.items()}\n",
    "county_map"
   ]
  },
  {
   "cell_type": "code",
   "execution_count": 4,
   "metadata": {},
   "outputs": [
    {
     "data": {
      "text/plain": [
       "{'harju': 0,\n",
       " 'hiiu': 1,\n",
       " 'ida-viru': 2,\n",
       " 'järv': 3,\n",
       " 'jõgev': 4,\n",
       " 'lääne-viru': 5,\n",
       " 'lääne': 6,\n",
       " 'pärnu': 7,\n",
       " 'põlv': 8,\n",
       " 'rapl': 9,\n",
       " 'saare': 10,\n",
       " 'tartu': 11,\n",
       " 'unknown': 12,\n",
       " 'valg': 13,\n",
       " 'viljandi': 14,\n",
       " 'võru': 15}"
      ]
     },
     "execution_count": 4,
     "metadata": {},
     "output_type": "execute_result"
    }
   ],
   "source": [
    "parsed = {c.lower().rstrip(\"maa\"): k for k, c in county_map.items()}\n",
    "parsed"
   ]
  },
  {
   "cell_type": "code",
   "execution_count": 5,
   "metadata": {},
   "outputs": [],
   "source": [
    "df_weather_fc = pd.read_csv('../../input/forecast_weather.csv')"
   ]
  },
  {
   "cell_type": "code",
   "execution_count": 6,
   "metadata": {},
   "outputs": [
    {
     "name": "stdout",
     "output_type": "stream",
     "text": [
      "county: 'saare', county code: 10 (57.6, 23.2)\n",
      "county: 'võru', county code: 15 (57.6, 26.7)\n",
      "county: 'võru', county code: 15 (57.6, 27.2)\n",
      "county: 'saare', county code: 10 (57.9, 21.7)\n",
      "county: 'saare', county code: 10 (57.9, 22.2)\n",
      "county: 'saare', county code: 10 (57.9, 23.2)\n",
      "county: 'pärnu', county code: 7 (57.9, 23.7)\n",
      "county: 'pärnu', county code: 7 (57.9, 24.2)\n",
      "county: 'valg', county code: 13 (57.9, 26.2)\n",
      "county: 'võru', county code: 15 (57.9, 26.7)\n",
      "county: 'võru', county code: 15 (57.9, 27.2)\n",
      "county: 'võru', county code: 15 (57.9, 27.7)\n",
      "county: 'saare', county code: 10 (58.2, 21.7)\n",
      "county: 'saare', county code: 10 (58.2, 22.2)\n",
      "county: 'saare', county code: 10 (58.2, 22.7)\n",
      "county: 'saare', county code: 10 (58.2, 23.2)\n",
      "county: 'pärnu', county code: 7 (58.2, 23.7)\n",
      "county: 'pärnu', county code: 7 (58.2, 24.2)\n",
      "county: 'pärnu', county code: 7 (58.2, 24.7)\n",
      "county: 'pärnu', county code: 7 (58.2, 25.2)\n",
      "county: 'viljandi', county code: 14 (58.2, 25.7)\n",
      "county: 'tartu', county code: 11 (58.2, 26.2)\n",
      "county: 'tartu', county code: 11 (58.2, 26.7)\n",
      "county: 'põlv', county code: 8 (58.2, 27.2)\n",
      "county: 'saare', county code: 10 (58.5, 21.7)\n",
      "county: 'saare', county code: 10 (58.5, 22.2)\n",
      "county: 'saare', county code: 10 (58.5, 22.7)\n",
      "county: 'saare', county code: 10 (58.5, 23.2)\n",
      "county: 'pärnu', county code: 7 (58.5, 23.7)\n",
      "county: 'pärnu', county code: 7 (58.5, 24.2)\n",
      "county: 'pärnu', county code: 7 (58.5, 24.7)\n",
      "county: 'viljandi', county code: 14 (58.5, 25.2)\n",
      "county: 'viljandi', county code: 14 (58.5, 25.7)\n",
      "county: 'jõgev', county code: 4 (58.5, 26.2)\n",
      "county: 'tartu', county code: 11 (58.5, 26.7)\n",
      "county: 'tartu', county code: 11 (58.5, 27.2)\n",
      "county: 'hiiu', county code: 1 (58.8, 21.7)\n",
      "county: 'hiiu', county code: 1 (58.8, 22.2)\n",
      "county: 'hiiu', county code: 1 (58.8, 22.7)\n",
      "county: 'hiiu', county code: 1 (58.8, 23.2)\n",
      "county: 'lääne', county code: 6 (58.8, 23.7)\n",
      "county: 'rapl', county code: 9 (58.8, 24.2)\n",
      "county: 'rapl', county code: 9 (58.8, 24.7)\n",
      "county: 'järv', county code: 3 (58.8, 25.2)\n",
      "county: 'järv', county code: 3 (58.8, 25.7)\n",
      "county: 'jõgev', county code: 4 (58.8, 26.2)\n",
      "county: 'jõgev', county code: 4 (58.8, 26.7)\n",
      "county: 'jõgev', county code: 4 (58.8, 27.2)\n",
      "county: 'hiiu', county code: 1 (59.1, 22.2)\n",
      "county: 'hiiu', county code: 1 (59.1, 22.7)\n",
      "county: 'lääne', county code: 6 (59.1, 23.2)\n",
      "county: 'lääne', county code: 6 (59.1, 23.7)\n",
      "county: 'harju', county code: 0 (59.1, 24.2)\n",
      "county: 'rapl', county code: 9 (59.1, 24.7)\n",
      "county: 'harju', county code: 0 (59.1, 25.2)\n",
      "county: 'järv', county code: 3 (59.1, 25.7)\n",
      "county: 'lääne-viru', county code: 5 (59.1, 26.2)\n",
      "county: 'lääne-viru', county code: 5 (59.1, 26.7)\n",
      "county: 'ida-viru', county code: 2 (59.1, 27.2)\n",
      "county: 'ida-viru', county code: 2 (59.1, 27.7)\n",
      "county: 'lääne', county code: 6 (59.4, 23.2)\n",
      "county: 'harju', county code: 0 (59.4, 23.7)\n",
      "county: 'harju', county code: 0 (59.4, 24.2)\n",
      "county: 'harju', county code: 0 (59.4, 24.7)\n",
      "county: 'harju', county code: 0 (59.4, 25.2)\n",
      "county: 'harju', county code: 0 (59.4, 25.7)\n",
      "county: 'lääne-viru', county code: 5 (59.4, 26.2)\n",
      "county: 'lääne-viru', county code: 5 (59.4, 26.7)\n",
      "county: 'ida-viru', county code: 2 (59.4, 27.2)\n",
      "county: 'ida-viru', county code: 2 (59.4, 27.7)\n",
      "county: 'harju', county code: 0 (59.7, 24.7)\n",
      "county: 'harju', county code: 0 (59.7, 25.2)\n",
      "county: 'harju', county code: 0 (59.7, 25.7)\n",
      "county: 'lääne-viru', county code: 5 (59.7, 26.2)\n",
      "county: 'lääne-viru', county code: 5 (59.7, 26.7)\n"
     ]
    }
   ],
   "source": [
    "county_names_mapping = {\n",
    "    \"valga\": \"valg\",\n",
    "    \"põlva\": \"põlv\",\n",
    "    \"jõgeva\": \"jõgev\",\n",
    "    \"rapla\": \"rapl\",\n",
    "    \"järva\": \"järv\"\n",
    "}\n",
    "\n",
    "loc_mapping = {}\n",
    "\n",
    "for i, coords in  df_weather_fc[[\"latitude\", \"longitude\"]].drop_duplicates().iterrows():\n",
    "    \n",
    "    lat, lon = coords[\"latitude\"], coords[\"longitude\"]\n",
    "    \n",
    "    geoLoc = Nominatim(user_agent=\"GetLoc\")\n",
    "     \n",
    "    # passing the coordinates\n",
    "    locname = geoLoc.reverse(f\"{lat}, {lon}\")   # lat, lon\n",
    "    if locname is None: continue\n",
    "\n",
    "    location = locname.raw[\"address\"]\n",
    "    if location[\"country\"] == \"Eesti\":\n",
    "        county = location['county'].split()[0].lower()\n",
    "        county = county_names_mapping.get(county, county)\n",
    "        print(f\"county: '{county}', county code:\", parsed[county], (lat, lon))"
   ]
  }
 ],
 "metadata": {
  "kernelspec": {
   "display_name": "enefit",
   "language": "python",
   "name": "python3"
  },
  "language_info": {
   "codemirror_mode": {
    "name": "ipython",
    "version": 3
   },
   "file_extension": ".py",
   "mimetype": "text/x-python",
   "name": "python",
   "nbconvert_exporter": "python",
   "pygments_lexer": "ipython3",
   "version": "3.11.0"
  }
 },
 "nbformat": 4,
 "nbformat_minor": 2
}
