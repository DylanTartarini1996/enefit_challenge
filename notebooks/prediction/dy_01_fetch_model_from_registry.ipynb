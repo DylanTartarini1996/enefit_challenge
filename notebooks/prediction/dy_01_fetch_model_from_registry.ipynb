{
 "cells": [
  {
   "cell_type": "markdown",
   "metadata": {},
   "source": [
    "## Loading a model from mlflow\n",
    "Loading a model from the mlflow's backend for our purposes (predicting on new data) can be done at least in three ways:\n",
    "* load the best run available (according to a rule, i.e. a metric)\n",
    "* load a registered version of the model (this needs the model to be registered)\n",
    "* load a model from a given environment (this needs the model to be registered AND transitioned to a different stage)"
   ]
  },
  {
   "cell_type": "code",
   "execution_count": 1,
   "metadata": {},
   "outputs": [],
   "source": [
    "import numpy as np \n",
    "import pandas as pd \n",
    "import mlflow\n",
    "import mlflow.xgboost\n",
    "from mlflow.models import infer_signature\n",
    "from mlflow.tracking import MlflowClient\n",
    "\n",
    "import warnings\n",
    "warnings.filterwarnings('ignore')"
   ]
  },
  {
   "cell_type": "markdown",
   "metadata": {},
   "source": [
    "### Loading given the **stage**\n",
    "needs the model to be registered **AND** in a specific environment"
   ]
  },
  {
   "cell_type": "code",
   "execution_count": 2,
   "metadata": {},
   "outputs": [],
   "source": [
    "TRACKING_URI = \"http://127.0.0.1:5000/\"\n",
    "\n",
    "REG_MODEL_NAME = \"enefit_xgboost\""
   ]
  },
  {
   "cell_type": "code",
   "execution_count": 3,
   "metadata": {},
   "outputs": [],
   "source": [
    "client = MlflowClient(tracking_uri=TRACKING_URI)"
   ]
  },
  {
   "cell_type": "code",
   "execution_count": 4,
   "metadata": {},
   "outputs": [
    {
     "data": {
      "text/plain": [
       "[<ModelVersion: aliases=[], creation_timestamp=1703780670169, current_stage='Staging', description='', last_updated_timestamp=1703780759271, name='enefit_xgboost', run_id='a2ca85cf93ab48a29c6cce33ffb0cb50', run_link='', source='mlflow-artifacts:/927635481385254895/a2ca85cf93ab48a29c6cce33ffb0cb50/artifacts/xgboost_model', status='READY', status_message='', tags={}, user_id='', version='1'>]"
      ]
     },
     "execution_count": 4,
     "metadata": {},
     "output_type": "execute_result"
    }
   ],
   "source": [
    "model_metadata = client.get_latest_versions(name=REG_MODEL_NAME, stages=[\"Staging\"])\n",
    "model_metadata"
   ]
  },
  {
   "cell_type": "code",
   "execution_count": 5,
   "metadata": {},
   "outputs": [
    {
     "data": {
      "text/plain": [
       "'1'"
      ]
     },
     "execution_count": 5,
     "metadata": {},
     "output_type": "execute_result"
    }
   ],
   "source": [
    "version = model_metadata[0].version\n",
    "version"
   ]
  },
  {
   "cell_type": "code",
   "execution_count": 6,
   "metadata": {},
   "outputs": [
    {
     "data": {
      "text/plain": [
       "'a2ca85cf93ab48a29c6cce33ffb0cb50'"
      ]
     },
     "execution_count": 6,
     "metadata": {},
     "output_type": "execute_result"
    }
   ],
   "source": [
    "run_id = model_metadata[0].run_id\n",
    "run_id"
   ]
  },
  {
   "cell_type": "code",
   "execution_count": 7,
   "metadata": {},
   "outputs": [
    {
     "name": "stderr",
     "output_type": "stream",
     "text": [
      "Downloading artifacts: 100%|██████████| 5/5 [00:00<00:00, 21.89it/s]   \n"
     ]
    }
   ],
   "source": [
    "mlflow.set_tracking_uri(\"http://127.0.0.1:5000\")\n",
    "artifact_path = \"xgboost_model\"\n",
    "model = mlflow.xgboost.load_model(model_uri=f\"runs:/{run_id}/{artifact_path}\")"
   ]
  },
  {
   "cell_type": "code",
   "execution_count": 8,
   "metadata": {},
   "outputs": [
    {
     "name": "stderr",
     "output_type": "stream",
     "text": [
      "Downloading artifacts: 100%|██████████| 5/5 [00:00<00:00, 21.17it/s] \n"
     ]
    },
    {
     "data": {
      "text/plain": [
       "{'inputs': '[{\"type\": \"long\", \"name\": \"is_business\"}, {\"type\": \"long\", \"name\": \"is_consumption\"}, {\"type\": \"integer\", \"name\": \"year\"}, {\"type\": \"long\", \"name\": \"datediff_in_days\"}, {\"type\": \"integer\", \"name\": \"hour\"}, {\"type\": \"double\", \"name\": \"hour_cosine\"}, {\"type\": \"integer\", \"name\": \"dayofweek\"}, {\"type\": \"double\", \"name\": \"dayofweek_cosine\"}, {\"type\": \"integer\", \"name\": \"week\"}, {\"type\": \"double\", \"name\": \"week_cosine\"}, {\"type\": \"integer\", \"name\": \"month\"}, {\"type\": \"double\", \"name\": \"month_sine\"}, {\"type\": \"double\", \"name\": \"target_1_days_ago\"}, {\"type\": \"double\", \"name\": \"target_7_days_ago\"}, {\"type\": \"double\", \"name\": \"installed_capacity\"}, {\"type\": \"double\", \"name\": \"lowest_price_per_mwh\"}, {\"type\": \"double\", \"name\": \"temperature_mean_f\"}, {\"type\": \"double\", \"name\": \"temperature_max_f\"}, {\"type\": \"double\", \"name\": \"dewpoint_min_f\"}, {\"type\": \"double\", \"name\": \"dewpoint_mean_f\"}, {\"type\": \"double\", \"name\": \"dewpoint_max_f\"}, {\"type\": \"double\", \"name\": \"dewpoint_std_f\"}, {\"type\": \"double\", \"name\": \"cloudcover_high_min_f\"}, {\"type\": \"double\", \"name\": \"cloudcover_high_max_f\"}, {\"type\": \"double\", \"name\": \"cloudcover_low_max_f\"}, {\"type\": \"double\", \"name\": \"cloudcover_mid_min_f\"}, {\"type\": \"double\", \"name\": \"cloudcover_mid_mean_f\"}, {\"type\": \"double\", \"name\": \"cloudcover_mid_max_f\"}, {\"type\": \"double\", \"name\": \"cloudcover_total_min_f\"}, {\"type\": \"double\", \"name\": \"cloudcover_total_mean_f\"}, {\"type\": \"double\", \"name\": \"cloudcover_total_max_f\"}, {\"type\": \"double\", \"name\": \"10_metre_u_wind_component_max_f\"}, {\"type\": \"double\", \"name\": \"10_metre_u_wind_component_std_f\"}, {\"type\": \"double\", \"name\": \"10_metre_v_wind_component_mean_f\"}, {\"type\": \"double\", \"name\": \"direct_solar_radiation_mean_f\"}, {\"type\": \"double\", \"name\": \"surface_solar_radiation_downwards_min_f\"}, {\"type\": \"double\", \"name\": \"surface_solar_radiation_downwards_mean_f\"}, {\"type\": \"double\", \"name\": \"surface_solar_radiation_downwards_max_f\"}, {\"type\": \"double\", \"name\": \"surface_solar_radiation_downwards_std_f\"}, {\"type\": \"double\", \"name\": \"snowfall_min_f\"}, {\"type\": \"double\", \"name\": \"snowfall_mean_f\"}, {\"type\": \"double\", \"name\": \"snowfall_std_f\"}, {\"type\": \"double\", \"name\": \"total_precipitation_mean_f\"}, {\"type\": \"boolean\", \"name\": \"county_0\"}, {\"type\": \"boolean\", \"name\": \"county_1\"}, {\"type\": \"boolean\", \"name\": \"county_2\"}, {\"type\": \"boolean\", \"name\": \"county_4\"}, {\"type\": \"boolean\", \"name\": \"county_5\"}, {\"type\": \"boolean\", \"name\": \"county_6\"}, {\"type\": \"boolean\", \"name\": \"county_7\"}, {\"type\": \"boolean\", \"name\": \"county_8\"}, {\"type\": \"boolean\", \"name\": \"county_10\"}, {\"type\": \"boolean\", \"name\": \"county_11\"}, {\"type\": \"boolean\", \"name\": \"county_13\"}, {\"type\": \"boolean\", \"name\": \"county_14\"}, {\"type\": \"boolean\", \"name\": \"county_15\"}, {\"type\": \"boolean\", \"name\": \"product_type_0\"}, {\"type\": \"boolean\", \"name\": \"product_type_1\"}, {\"type\": \"boolean\", \"name\": \"product_type_2\"}]',\n",
       " 'outputs': '[{\"type\": \"tensor\", \"tensor-spec\": {\"dtype\": \"float32\", \"shape\": [-1]}}]',\n",
       " 'params': None}"
      ]
     },
     "execution_count": 8,
     "metadata": {},
     "output_type": "execute_result"
    }
   ],
   "source": [
    "# model signature\n",
    "model_info = mlflow.models.get_model_info(f\"runs:/{run_id}/{artifact_path}\")\n",
    "model_info.signature_dict"
   ]
  },
  {
   "cell_type": "code",
   "execution_count": 9,
   "metadata": {},
   "outputs": [
    {
     "data": {
      "text/plain": [
       "[{'type': 'long', 'name': 'is_business'},\n",
       " {'type': 'long', 'name': 'is_consumption'},\n",
       " {'type': 'integer', 'name': 'year'},\n",
       " {'type': 'long', 'name': 'datediff_in_days'},\n",
       " {'type': 'integer', 'name': 'hour'},\n",
       " {'type': 'double', 'name': 'hour_cosine'},\n",
       " {'type': 'integer', 'name': 'dayofweek'},\n",
       " {'type': 'double', 'name': 'dayofweek_cosine'},\n",
       " {'type': 'integer', 'name': 'week'},\n",
       " {'type': 'double', 'name': 'week_cosine'},\n",
       " {'type': 'integer', 'name': 'month'},\n",
       " {'type': 'double', 'name': 'month_sine'},\n",
       " {'type': 'double', 'name': 'target_1_days_ago'},\n",
       " {'type': 'double', 'name': 'target_7_days_ago'},\n",
       " {'type': 'double', 'name': 'installed_capacity'},\n",
       " {'type': 'double', 'name': 'lowest_price_per_mwh'},\n",
       " {'type': 'double', 'name': 'temperature_mean_f'},\n",
       " {'type': 'double', 'name': 'temperature_max_f'},\n",
       " {'type': 'double', 'name': 'dewpoint_min_f'},\n",
       " {'type': 'double', 'name': 'dewpoint_mean_f'},\n",
       " {'type': 'double', 'name': 'dewpoint_max_f'},\n",
       " {'type': 'double', 'name': 'dewpoint_std_f'},\n",
       " {'type': 'double', 'name': 'cloudcover_high_min_f'},\n",
       " {'type': 'double', 'name': 'cloudcover_high_max_f'},\n",
       " {'type': 'double', 'name': 'cloudcover_low_max_f'},\n",
       " {'type': 'double', 'name': 'cloudcover_mid_min_f'},\n",
       " {'type': 'double', 'name': 'cloudcover_mid_mean_f'},\n",
       " {'type': 'double', 'name': 'cloudcover_mid_max_f'},\n",
       " {'type': 'double', 'name': 'cloudcover_total_min_f'},\n",
       " {'type': 'double', 'name': 'cloudcover_total_mean_f'},\n",
       " {'type': 'double', 'name': 'cloudcover_total_max_f'},\n",
       " {'type': 'double', 'name': '10_metre_u_wind_component_max_f'},\n",
       " {'type': 'double', 'name': '10_metre_u_wind_component_std_f'},\n",
       " {'type': 'double', 'name': '10_metre_v_wind_component_mean_f'},\n",
       " {'type': 'double', 'name': 'direct_solar_radiation_mean_f'},\n",
       " {'type': 'double', 'name': 'surface_solar_radiation_downwards_min_f'},\n",
       " {'type': 'double', 'name': 'surface_solar_radiation_downwards_mean_f'},\n",
       " {'type': 'double', 'name': 'surface_solar_radiation_downwards_max_f'},\n",
       " {'type': 'double', 'name': 'surface_solar_radiation_downwards_std_f'},\n",
       " {'type': 'double', 'name': 'snowfall_min_f'},\n",
       " {'type': 'double', 'name': 'snowfall_mean_f'},\n",
       " {'type': 'double', 'name': 'snowfall_std_f'},\n",
       " {'type': 'double', 'name': 'total_precipitation_mean_f'},\n",
       " {'type': 'boolean', 'name': 'county_0'},\n",
       " {'type': 'boolean', 'name': 'county_1'},\n",
       " {'type': 'boolean', 'name': 'county_2'},\n",
       " {'type': 'boolean', 'name': 'county_4'},\n",
       " {'type': 'boolean', 'name': 'county_5'},\n",
       " {'type': 'boolean', 'name': 'county_6'},\n",
       " {'type': 'boolean', 'name': 'county_7'},\n",
       " {'type': 'boolean', 'name': 'county_8'},\n",
       " {'type': 'boolean', 'name': 'county_10'},\n",
       " {'type': 'boolean', 'name': 'county_11'},\n",
       " {'type': 'boolean', 'name': 'county_13'},\n",
       " {'type': 'boolean', 'name': 'county_14'},\n",
       " {'type': 'boolean', 'name': 'county_15'},\n",
       " {'type': 'boolean', 'name': 'product_type_0'},\n",
       " {'type': 'boolean', 'name': 'product_type_1'},\n",
       " {'type': 'boolean', 'name': 'product_type_2'}]"
      ]
     },
     "execution_count": 9,
     "metadata": {},
     "output_type": "execute_result"
    }
   ],
   "source": [
    "import ast\n",
    "ast.literal_eval(model_info.signature_dict[\"inputs\"])"
   ]
  },
  {
   "cell_type": "code",
   "execution_count": 10,
   "metadata": {},
   "outputs": [
    {
     "data": {
      "text/plain": [
       "['is_business',\n",
       " 'is_consumption',\n",
       " 'year',\n",
       " 'datediff_in_days',\n",
       " 'hour',\n",
       " 'hour_cosine',\n",
       " 'dayofweek',\n",
       " 'dayofweek_cosine',\n",
       " 'week',\n",
       " 'week_cosine',\n",
       " 'month',\n",
       " 'month_sine',\n",
       " 'target_1_days_ago',\n",
       " 'target_7_days_ago',\n",
       " 'installed_capacity',\n",
       " 'lowest_price_per_mwh',\n",
       " 'temperature_mean_f',\n",
       " 'temperature_max_f',\n",
       " 'dewpoint_min_f',\n",
       " 'dewpoint_mean_f',\n",
       " 'dewpoint_max_f',\n",
       " 'dewpoint_std_f',\n",
       " 'cloudcover_high_min_f',\n",
       " 'cloudcover_high_max_f',\n",
       " 'cloudcover_low_max_f',\n",
       " 'cloudcover_mid_min_f',\n",
       " 'cloudcover_mid_mean_f',\n",
       " 'cloudcover_mid_max_f',\n",
       " 'cloudcover_total_min_f',\n",
       " 'cloudcover_total_mean_f',\n",
       " 'cloudcover_total_max_f',\n",
       " '10_metre_u_wind_component_max_f',\n",
       " '10_metre_u_wind_component_std_f',\n",
       " '10_metre_v_wind_component_mean_f',\n",
       " 'direct_solar_radiation_mean_f',\n",
       " 'surface_solar_radiation_downwards_min_f',\n",
       " 'surface_solar_radiation_downwards_mean_f',\n",
       " 'surface_solar_radiation_downwards_max_f',\n",
       " 'surface_solar_radiation_downwards_std_f',\n",
       " 'snowfall_min_f',\n",
       " 'snowfall_mean_f',\n",
       " 'snowfall_std_f',\n",
       " 'total_precipitation_mean_f',\n",
       " 'county_0',\n",
       " 'county_1',\n",
       " 'county_2',\n",
       " 'county_4',\n",
       " 'county_5',\n",
       " 'county_6',\n",
       " 'county_7',\n",
       " 'county_8',\n",
       " 'county_10',\n",
       " 'county_11',\n",
       " 'county_13',\n",
       " 'county_14',\n",
       " 'county_15',\n",
       " 'product_type_0',\n",
       " 'product_type_1',\n",
       " 'product_type_2']"
      ]
     },
     "execution_count": 10,
     "metadata": {},
     "output_type": "execute_result"
    }
   ],
   "source": [
    "inputs = ast.literal_eval(model_info.signature_dict[\"inputs\"])\n",
    "# features to use for prediction\n",
    "input_columns = [d['name'] for d in inputs]\n",
    "input_columns"
   ]
  },
  {
   "cell_type": "code",
   "execution_count": 11,
   "metadata": {},
   "outputs": [
    {
     "data": {
      "text/plain": [
       "59"
      ]
     },
     "execution_count": 11,
     "metadata": {},
     "output_type": "execute_result"
    }
   ],
   "source": [
    "len(input_columns)"
   ]
  },
  {
   "cell_type": "markdown",
   "metadata": {},
   "source": [
    "### Loading the **best experiment run**\n",
    "even if the model is not registered"
   ]
  },
  {
   "cell_type": "code",
   "execution_count": 12,
   "metadata": {},
   "outputs": [
    {
     "data": {
      "text/plain": [
       "[<Experiment: artifact_location='mlflow-artifacts:/927635481385254895', creation_time=1702141853548, experiment_id='927635481385254895', last_update_time=1702141853548, lifecycle_stage='active', name='xgboost', tags={}>]"
      ]
     },
     "execution_count": 12,
     "metadata": {},
     "output_type": "execute_result"
    }
   ],
   "source": [
    "experiment_name = \"xgboost\"\n",
    "experiment = mlflow.search_experiments(filter_string=f\"name='{experiment_name}'\")\n",
    "experiment"
   ]
  },
  {
   "cell_type": "code",
   "execution_count": 13,
   "metadata": {},
   "outputs": [
    {
     "data": {
      "text/plain": [
       "'927635481385254895'"
      ]
     },
     "execution_count": 13,
     "metadata": {},
     "output_type": "execute_result"
    }
   ],
   "source": [
    "exp_id = experiment[0]._experiment_id\n",
    "exp_id"
   ]
  },
  {
   "cell_type": "code",
   "execution_count": 14,
   "metadata": {},
   "outputs": [
    {
     "data": {
      "text/plain": [
       "<Run: data=<RunData: metrics={'MAE': 57.05648716686634,\n",
       " 'MAPE': 423135273277556.7,\n",
       " 'MASE': 0.12780456663038253,\n",
       " 'MSE': 41161.008579856454,\n",
       " 'RMSE': 201.46573537457948}, params={'alpha': '0.009465232755839163',\n",
       " 'colsample_bylevel': '0.7064194229926998',\n",
       " 'colsample_bynode': '0.7158440177982559',\n",
       " 'colsample_bytree': '0.9229606824866499',\n",
       " 'eta': '0.041159428141083886',\n",
       " 'eval_metric': 'mae',\n",
       " 'lambda': '1.2908697628355246',\n",
       " 'max_depth': '12',\n",
       " 'min_child_weight': '0.031507317401508694',\n",
       " 'n_estimators': '122',\n",
       " 'num_boost_round': '19',\n",
       " 'num_leaves': '34',\n",
       " 'subsample': '0.7769186287426424'}, tags={'alpha_distribution': 'FloatDistribution(high=0.3, log=True, low=0.001, '\n",
       "                       'step=None)',\n",
       " 'colsample_bylevel_distribution': 'FloatDistribution(high=1.0, log=True, '\n",
       "                                   'low=0.5, step=None)',\n",
       " 'colsample_bynode_distribution': 'FloatDistribution(high=1.0, log=True, '\n",
       "                                  'low=0.5, step=None)',\n",
       " 'colsample_bytree_distribution': 'FloatDistribution(high=1.0, log=True, '\n",
       "                                  'low=0.5, step=None)',\n",
       " 'datetime_complete': '2023-12-09 22:11:54.790847',\n",
       " 'datetime_start': '2023-12-09 22:03:00.192612',\n",
       " 'direction': 'MINIMIZE',\n",
       " 'eta_distribution': 'FloatDistribution(high=0.2, log=True, low=0.01, '\n",
       "                     'step=None)',\n",
       " 'lambda_distribution': 'FloatDistribution(high=5.0, log=True, low=1.0, '\n",
       "                        'step=None)',\n",
       " 'max_depth_distribution': 'IntDistribution(high=15, log=True, low=1, step=1)',\n",
       " 'min_child_weight_distribution': 'FloatDistribution(high=0.05, log=True, '\n",
       "                                  'low=0.005, step=None)',\n",
       " 'mlflow.log-model.history': '[{\"run_id\": \"a2ca85cf93ab48a29c6cce33ffb0cb50\", '\n",
       "                             '\"artifact_path\": \"xgboost_model\", '\n",
       "                             '\"utc_time_created\": \"2023-12-09 '\n",
       "                             '21:04:30.241891\", \"flavors\": {\"python_function\": '\n",
       "                             '{\"loader_module\": \"mlflow.xgboost\", '\n",
       "                             '\"python_version\": \"3.11.0\", \"data\": \"model.xgb\", '\n",
       "                             '\"env\": {\"conda\": \"conda.yaml\", \"virtualenv\": '\n",
       "                             '\"python_env.yaml\"}}, \"xgboost\": {\"xgb_version\": '\n",
       "                             '\"1.7.6\", \"data\": \"model.xgb\", \"model_class\": '\n",
       "                             '\"xgboost.sklearn.XGBRegressor\", \"model_format\": '\n",
       "                             '\"xgb\", \"code\": null}}, \"model_uuid\": '\n",
       "                             '\"9cf213c7186d4c05b2cc87fe908f0486\", '\n",
       "                             '\"mlflow_version\": \"2.8.0\", \"signature\": '\n",
       "                             '{\"inputs\": \"[{\\\\\"type\\\\\": \\\\\"long\\\\\", '\n",
       "                             '\\\\\"name\\\\\": \\\\\"is_business\\\\\"}, {\\\\\"type\\\\\": '\n",
       "                             '\\\\\"long\\\\\", \\\\\"name\\\\\": \\\\\"is_consumption\\\\\"}, '\n",
       "                             '{\\\\\"type\\\\\": \\\\\"integer\\\\\", \\\\\"name\\\\\": '\n",
       "                             '\\\\\"year\\\\\"}, {\\\\\"type\\\\\": \\\\\"long\\\\\", '\n",
       "                             '\\\\\"name\\\\\": \\\\\"datediff_in_days\\\\\"}, '\n",
       "                             '{\\\\\"type\\\\\": \\\\\"integer\\\\\", \\\\\"name\\\\\": '\n",
       "                             '\\\\\"hour\\\\\"}, {\\\\\"type\\\\\": \\\\\"double\\\\\", '\n",
       "                             '\\\\\"name\\\\\": \\\\\"hour_cosine\\\\\"}, {\\\\\"type\\\\\": '\n",
       "                             '\\\\\"integer\\\\\", \\\\\"name\\\\\": \\\\\"dayofweek\\\\\"}, '\n",
       "                             '{\\\\\"type\\\\\": \\\\\"double\\\\\", \\\\\"name\\\\\": '\n",
       "                             '\\\\\"dayofweek_cosine\\\\\"}, {\\\\\"type\\\\\": '\n",
       "                             '\\\\\"integer\\\\\", \\\\\"name\\\\\": \\\\\"week\\\\\"}, '\n",
       "                             '{\\\\\"type\\\\\": \\\\\"double\\\\\", \\\\\"name\\\\\": '\n",
       "                             '\\\\\"week_cosine\\\\\"}, {\\\\\"type\\\\\": \\\\\"integer\\\\\", '\n",
       "                             '\\\\\"name\\\\\": \\\\\"month\\\\\"}, {\\\\\"type\\\\\": '\n",
       "                             '\\\\\"double\\\\\", \\\\\"name\\\\\": \\\\\"month_sine\\\\\"}, '\n",
       "                             '{\\\\\"type\\\\\": \\\\\"double\\\\\", \\\\\"name\\\\\": '\n",
       "                             '\\\\\"target_1_days_ago\\\\\"}, {\\\\\"type\\\\\": '\n",
       "                             '\\\\\"double\\\\\", \\\\\"name\\\\\": '\n",
       "                             '\\\\\"target_7_days_ago\\\\\"}, {\\\\\"type\\\\\": '\n",
       "                             '\\\\\"double\\\\\", \\\\\"name\\\\\": '\n",
       "                             '\\\\\"installed_capacity\\\\\"}, {\\\\\"type\\\\\": '\n",
       "                             '\\\\\"double\\\\\", \\\\\"name\\\\\": '\n",
       "                             '\\\\\"lowest_price_per_mwh\\\\\"}, {\\\\\"type\\\\\": '\n",
       "                             '\\\\\"double\\\\\", \\\\\"name\\\\\": '\n",
       "                             '\\\\\"temperature_mean_f\\\\\"}, {\\\\\"type\\\\\": '\n",
       "                             '\\\\\"double\\\\\", \\\\\"name\\\\\": '\n",
       "                             '\\\\\"temperature_max_f\\\\\"}, {\\\\\"type\\\\\": '\n",
       "                             '\\\\\"double\\\\\", \\\\\"name\\\\\": \\\\\"dewpoint_min_f\\\\\"}, '\n",
       "                             '{\\\\\"type\\\\\": \\\\\"double\\\\\", \\\\\"name\\\\\": '\n",
       "                             '\\\\\"dewpoint_mean_f\\\\\"}, {\\\\\"type\\\\\": '\n",
       "                             '\\\\\"double\\\\\", \\\\\"name\\\\\": \\\\\"dewpoint_max_f\\\\\"}, '\n",
       "                             '{\\\\\"type\\\\\": \\\\\"double\\\\\", \\\\\"name\\\\\": '\n",
       "                             '\\\\\"dewpoint_std_f\\\\\"}, {\\\\\"type\\\\\": '\n",
       "                             '\\\\\"double\\\\\", \\\\\"name\\\\\": '\n",
       "                             '\\\\\"cloudcover_high_min_f\\\\\"}, {\\\\\"type\\\\\": '\n",
       "                             '\\\\\"double\\\\\", \\\\\"name\\\\\": '\n",
       "                             '\\\\\"cloudcover_high_max_f\\\\\"}, {\\\\\"type\\\\\": '\n",
       "                             '\\\\\"double\\\\\", \\\\\"name\\\\\": '\n",
       "                             '\\\\\"cloudcover_low_max_f\\\\\"}, {\\\\\"type\\\\\": '\n",
       "                             '\\\\\"double\\\\\", \\\\\"name\\\\\": '\n",
       "                             '\\\\\"cloudcover_mid_min_f\\\\\"}, {\\\\\"type\\\\\": '\n",
       "                             '\\\\\"double\\\\\", \\\\\"name\\\\\": '\n",
       "                             '\\\\\"cloudcover_mid_mean_f\\\\\"}, {\\\\\"type\\\\\": '\n",
       "                             '\\\\\"double\\\\\", \\\\\"name\\\\\": '\n",
       "                             '\\\\\"cloudcover_mid_max_f\\\\\"}, {\\\\\"type\\\\\": '\n",
       "                             '\\\\\"double\\\\\", \\\\\"name\\\\\": '\n",
       "                             '\\\\\"cloudcover_total_min_f\\\\\"}, {\\\\\"type\\\\\": '\n",
       "                             '\\\\\"double\\\\\", \\\\\"name\\\\\": '\n",
       "                             '\\\\\"cloudcover_total_mean_f\\\\\"}, {\\\\\"type\\\\\": '\n",
       "                             '\\\\\"double\\\\\", \\\\\"name\\\\\": '\n",
       "                             '\\\\\"cloudcover_total_max_f\\\\\"}, {\\\\\"type\\\\\": '\n",
       "                             '\\\\\"double\\\\\", \\\\\"name\\\\\": '\n",
       "                             '\\\\\"10_metre_u_wind_component_max_f\\\\\"}, '\n",
       "                             '{\\\\\"type\\\\\": \\\\\"double\\\\\", \\\\\"name\\\\\": '\n",
       "                             '\\\\\"10_metre_u_wind_component_std_f\\\\\"}, '\n",
       "                             '{\\\\\"type\\\\\": \\\\\"double\\\\\", \\\\\"name\\\\\": '\n",
       "                             '\\\\\"10_metre_v_wind_component_mean_f\\\\\"}, '\n",
       "                             '{\\\\\"type\\\\\": \\\\\"double\\\\\", \\\\\"name\\\\\": '\n",
       "                             '\\\\\"direct_solar_radiation_mean_f\\\\\"}, '\n",
       "                             '{\\\\\"type\\\\\": \\\\\"double\\\\\", \\\\\"name\\\\\": '\n",
       "                             '\\\\\"surface_solar_radiation_downwards_min_f\\\\\"}, '\n",
       "                             '{\\\\\"type\\\\\": \\\\\"double\\\\\", \\\\\"name\\\\\": '\n",
       "                             '\\\\\"surface_solar_radiation_downwards_mean_f\\\\\"}, '\n",
       "                             '{\\\\\"type\\\\\": \\\\\"double\\\\\", \\\\\"name\\\\\": '\n",
       "                             '\\\\\"surface_solar_radiation_downwards_max_f\\\\\"}, '\n",
       "                             '{\\\\\"type\\\\\": \\\\\"double\\\\\", \\\\\"name\\\\\": '\n",
       "                             '\\\\\"surface_solar_radiation_downwards_std_f\\\\\"}, '\n",
       "                             '{\\\\\"type\\\\\": \\\\\"double\\\\\", \\\\\"name\\\\\": '\n",
       "                             '\\\\\"snowfall_min_f\\\\\"}, {\\\\\"type\\\\\": '\n",
       "                             '\\\\\"double\\\\\", \\\\\"name\\\\\": '\n",
       "                             '\\\\\"snowfall_mean_f\\\\\"}, {\\\\\"type\\\\\": '\n",
       "                             '\\\\\"double\\\\\", \\\\\"name\\\\\": \\\\\"snowfall_std_f\\\\\"}, '\n",
       "                             '{\\\\\"type\\\\\": \\\\\"double\\\\\", \\\\\"name\\\\\": '\n",
       "                             '\\\\\"total_precipitation_mean_f\\\\\"}, {\\\\\"type\\\\\": '\n",
       "                             '\\\\\"boolean\\\\\", \\\\\"name\\\\\": \\\\\"county_0\\\\\"}, '\n",
       "                             '{\\\\\"type\\\\\": \\\\\"boolean\\\\\", \\\\\"name\\\\\": '\n",
       "                             '\\\\\"county_1\\\\\"}, {\\\\\"type\\\\\": \\\\\"boolean\\\\\", '\n",
       "                             '\\\\\"name\\\\\": \\\\\"county_2\\\\\"}, {\\\\\"type\\\\\": '\n",
       "                             '\\\\\"boolean\\\\\", \\\\\"name\\\\\": \\\\\"county_4\\\\\"}, '\n",
       "                             '{\\\\\"type\\\\\": \\\\\"boolean\\\\\", \\\\\"name\\\\\": '\n",
       "                             '\\\\\"county_5\\\\\"}, {\\\\\"type\\\\\": \\\\\"boolean\\\\\", '\n",
       "                             '\\\\\"name\\\\\": \\\\\"county_6\\\\\"}, {\\\\\"type\\\\\": '\n",
       "                             '\\\\\"boolean\\\\\", \\\\\"name\\\\\": \\\\\"county_7\\\\\"}, '\n",
       "                             '{\\\\\"type\\\\\": \\\\\"boolean\\\\\", \\\\\"name\\\\\": '\n",
       "                             '\\\\\"county_8\\\\\"}, {\\\\\"type\\\\\": \\\\\"boolean\\\\\", '\n",
       "                             '\\\\\"name\\\\\": \\\\\"county_10\\\\\"}, {\\\\\"type\\\\\": '\n",
       "                             '\\\\\"boolean\\\\\", \\\\\"name\\\\\": \\\\\"county_11\\\\\"}, '\n",
       "                             '{\\\\\"type\\\\\": \\\\\"boolean\\\\\", \\\\\"name\\\\\": '\n",
       "                             '\\\\\"county_13\\\\\"}, {\\\\\"type\\\\\": \\\\\"boolean\\\\\", '\n",
       "                             '\\\\\"name\\\\\": \\\\\"county_14\\\\\"}, {\\\\\"type\\\\\": '\n",
       "                             '\\\\\"boolean\\\\\", \\\\\"name\\\\\": \\\\\"county_15\\\\\"}, '\n",
       "                             '{\\\\\"type\\\\\": \\\\\"boolean\\\\\", \\\\\"name\\\\\": '\n",
       "                             '\\\\\"product_type_0\\\\\"}, {\\\\\"type\\\\\": '\n",
       "                             '\\\\\"boolean\\\\\", \\\\\"name\\\\\": '\n",
       "                             '\\\\\"product_type_1\\\\\"}, {\\\\\"type\\\\\": '\n",
       "                             '\\\\\"boolean\\\\\", \\\\\"name\\\\\": '\n",
       "                             '\\\\\"product_type_2\\\\\"}]\", \"outputs\": '\n",
       "                             '\"[{\\\\\"type\\\\\": \\\\\"tensor\\\\\", \\\\\"tensor-spec\\\\\": '\n",
       "                             '{\\\\\"dtype\\\\\": \\\\\"float32\\\\\", \\\\\"shape\\\\\": '\n",
       "                             '[-1]}}]\", \"params\": null}, \"model_size_bytes\": '\n",
       "                             '13809858}, {\"run_id\": '\n",
       "                             '\"a2ca85cf93ab48a29c6cce33ffb0cb50\", '\n",
       "                             '\"artifact_path\": \"xgboost_model\", '\n",
       "                             '\"utc_time_created\": \"2023-12-09 '\n",
       "                             '21:07:26.455036\", \"flavors\": {\"python_function\": '\n",
       "                             '{\"loader_module\": \"mlflow.xgboost\", '\n",
       "                             '\"python_version\": \"3.11.0\", \"data\": \"model.xgb\", '\n",
       "                             '\"env\": {\"conda\": \"conda.yaml\", \"virtualenv\": '\n",
       "                             '\"python_env.yaml\"}}, \"xgboost\": {\"xgb_version\": '\n",
       "                             '\"1.7.6\", \"data\": \"model.xgb\", \"model_class\": '\n",
       "                             '\"xgboost.sklearn.XGBRegressor\", \"model_format\": '\n",
       "                             '\"xgb\", \"code\": null}}, \"model_uuid\": '\n",
       "                             '\"18a13176977f497da5990c4fd13ed324\", '\n",
       "                             '\"mlflow_version\": \"2.8.0\", \"signature\": '\n",
       "                             '{\"inputs\": \"[{\\\\\"type\\\\\": \\\\\"long\\\\\", '\n",
       "                             '\\\\\"name\\\\\": \\\\\"is_business\\\\\"}, {\\\\\"type\\\\\": '\n",
       "                             '\\\\\"long\\\\\", \\\\\"name\\\\\": \\\\\"is_consumption\\\\\"}, '\n",
       "                             '{\\\\\"type\\\\\": \\\\\"integer\\\\\", \\\\\"name\\\\\": '\n",
       "                             '\\\\\"year\\\\\"}, {\\\\\"type\\\\\": \\\\\"long\\\\\", '\n",
       "                             '\\\\\"name\\\\\": \\\\\"datediff_in_days\\\\\"}, '\n",
       "                             '{\\\\\"type\\\\\": \\\\\"integer\\\\\", \\\\\"name\\\\\": '\n",
       "                             '\\\\\"hour\\\\\"}, {\\\\\"type\\\\\": \\\\\"double\\\\\", '\n",
       "                             '\\\\\"name\\\\\": \\\\\"hour_cosine\\\\\"}, {\\\\\"type\\\\\": '\n",
       "                             '\\\\\"integer\\\\\", \\\\\"name\\\\\": \\\\\"dayofweek\\\\\"}, '\n",
       "                             '{\\\\\"type\\\\\": \\\\\"double\\\\\", \\\\\"name\\\\\": '\n",
       "                             '\\\\\"dayofweek_cosine\\\\\"}, {\\\\\"type\\\\\": '\n",
       "                             '\\\\\"integer\\\\\", \\\\\"name\\\\\": \\\\\"week\\\\\"}, '\n",
       "                             '{\\\\\"type\\\\\": \\\\\"double\\\\\", \\\\\"name\\\\\": '\n",
       "                             '\\\\\"week_cosine\\\\\"}, {\\\\\"type\\\\\": \\\\\"integer\\\\\", '\n",
       "                             '\\\\\"name\\\\\": \\\\\"month\\\\\"}, {\\\\\"type\\\\\": '\n",
       "                             '\\\\\"double\\\\\", \\\\\"name\\\\\": \\\\\"month_sine\\\\\"}, '\n",
       "                             '{\\\\\"type\\\\\": \\\\\"double\\\\\", \\\\\"name\\\\\": '\n",
       "                             '\\\\\"target_1_days_ago\\\\\"}, {\\\\\"type\\\\\": '\n",
       "                             '\\\\\"double\\\\\", \\\\\"name\\\\\": '\n",
       "                             '\\\\\"target_7_days_ago\\\\\"}, {\\\\\"type\\\\\": '\n",
       "                             '\\\\\"double\\\\\", \\\\\"name\\\\\": '\n",
       "                             '\\\\\"installed_capacity\\\\\"}, {\\\\\"type\\\\\": '\n",
       "                             '\\\\\"double\\\\\", \\\\\"name\\\\\": '\n",
       "                             '\\\\\"lowest_price_per_mwh\\\\\"}, {\\\\\"type\\\\\": '\n",
       "                             '\\\\\"double\\\\\", \\\\\"name\\\\\": '\n",
       "                             '\\\\\"temperature_mean_f\\\\\"}, {\\\\\"type\\\\\": '\n",
       "                             '\\\\\"double\\\\\", \\\\\"name\\\\\": '\n",
       "                             '\\\\\"temperature_max_f\\\\\"}, {\\\\\"type\\\\\": '\n",
       "                             '\\\\\"double\\\\\", \\\\\"name\\\\\": \\\\\"dewpoint_min_f\\\\\"}, '\n",
       "                             '{\\\\\"type\\\\\": \\\\\"double\\\\\", \\\\\"name\\\\\": '\n",
       "                             '\\\\\"dewpoint_mean_f\\\\\"}, {\\\\\"type\\\\\": '\n",
       "                             '\\\\\"double\\\\\", \\\\\"name\\\\\": \\\\\"dewpoint_max_f\\\\\"}, '\n",
       "                             '{\\\\\"type\\\\\": \\\\\"double\\\\\", \\\\\"name\\\\\": '\n",
       "                             '\\\\\"dewpoint_std_f\\\\\"}, {\\\\\"type\\\\\": '\n",
       "                             '\\\\\"double\\\\\", \\\\\"name\\\\\": '\n",
       "                             '\\\\\"cloudcover_high_min_f\\\\\"}, {\\\\\"type\\\\\": '\n",
       "                             '\\\\\"double\\\\\", \\\\\"name\\\\\": '\n",
       "                             '\\\\\"cloudcover_high_max_f\\\\\"}, {\\\\\"type\\\\\": '\n",
       "                             '\\\\\"double\\\\\", \\\\\"name\\\\\": '\n",
       "                             '\\\\\"cloudcover_low_max_f\\\\\"}, {\\\\\"type\\\\\": '\n",
       "                             '\\\\\"double\\\\\", \\\\\"name\\\\\": '\n",
       "                             '\\\\\"cloudcover_mid_min_f\\\\\"}, {\\\\\"type\\\\\": '\n",
       "                             '\\\\\"double\\\\\", \\\\\"name\\\\\": '\n",
       "                             '\\\\\"cloudcover_mid_mean_f\\\\\"}, {\\\\\"type\\\\\": '\n",
       "                             '\\\\\"double\\\\\", \\\\\"name\\\\\": '\n",
       "                             '\\\\\"cloudcover_mid_max_f\\\\\"}, {\\\\\"type\\\\\": '\n",
       "                             '\\\\\"double\\\\\", \\\\\"name\\\\\": '\n",
       "                             '\\\\\"cloudcover_total_min_f\\\\\"}, {\\\\\"type\\\\\": '\n",
       "                             '\\\\\"double\\\\\", \\\\\"name\\\\\": '\n",
       "                             '\\\\\"cloudcover_total_mean_f\\\\\"}, {\\\\\"type\\\\\": '\n",
       "                             '\\\\\"double\\\\\", \\\\\"name\\\\\": '\n",
       "                             '\\\\\"cloudcover_total_max_f\\\\\"}, {\\\\\"type\\\\\": '\n",
       "                             '\\\\\"double\\\\\", \\\\\"name\\\\\": '\n",
       "                             '\\\\\"10_metre_u_wind_component_max_f\\\\\"}, '\n",
       "                             '{\\\\\"type\\\\\": \\\\\"double\\\\\", \\\\\"name\\\\\": '\n",
       "                             '\\\\\"10_metre_u_wind_component_std_f\\\\\"}, '\n",
       "                             '{\\\\\"type\\\\\": \\\\\"double\\\\\", \\\\\"name\\\\\": '\n",
       "                             '\\\\\"10_metre_v_wind_component_mean_f\\\\\"}, '\n",
       "                             '{\\\\\"type\\\\\": \\\\\"double\\\\\", \\\\\"name\\\\\": '\n",
       "                             '\\\\\"direct_solar_radiation_mean_f\\\\\"}, '\n",
       "                             '{\\\\\"type\\\\\": \\\\\"double\\\\\", \\\\\"name\\\\\": '\n",
       "                             '\\\\\"surface_solar_radiation_downwards_min_f\\\\\"}, '\n",
       "                             '{\\\\\"type\\\\\": \\\\\"double\\\\\", \\\\\"name\\\\\": '\n",
       "                             '\\\\\"surface_solar_radiation_downwards_mean_f\\\\\"}, '\n",
       "                             '{\\\\\"type\\\\\": \\\\\"double\\\\\", \\\\\"name\\\\\": '\n",
       "                             '\\\\\"surface_solar_radiation_downwards_max_f\\\\\"}, '\n",
       "                             '{\\\\\"type\\\\\": \\\\\"double\\\\\", \\\\\"name\\\\\": '\n",
       "                             '\\\\\"surface_solar_radiation_downwards_std_f\\\\\"}, '\n",
       "                             '{\\\\\"type\\\\\": \\\\\"double\\\\\", \\\\\"name\\\\\": '\n",
       "                             '\\\\\"snowfall_min_f\\\\\"}, {\\\\\"type\\\\\": '\n",
       "                             '\\\\\"double\\\\\", \\\\\"name\\\\\": '\n",
       "                             '\\\\\"snowfall_mean_f\\\\\"}, {\\\\\"type\\\\\": '\n",
       "                             '\\\\\"double\\\\\", \\\\\"name\\\\\": \\\\\"snowfall_std_f\\\\\"}, '\n",
       "                             '{\\\\\"type\\\\\": \\\\\"double\\\\\", \\\\\"name\\\\\": '\n",
       "                             '\\\\\"total_precipitation_mean_f\\\\\"}, {\\\\\"type\\\\\": '\n",
       "                             '\\\\\"boolean\\\\\", \\\\\"name\\\\\": \\\\\"county_0\\\\\"}, '\n",
       "                             '{\\\\\"type\\\\\": \\\\\"boolean\\\\\", \\\\\"name\\\\\": '\n",
       "                             '\\\\\"county_1\\\\\"}, {\\\\\"type\\\\\": \\\\\"boolean\\\\\", '\n",
       "                             '\\\\\"name\\\\\": \\\\\"county_2\\\\\"}, {\\\\\"type\\\\\": '\n",
       "                             '\\\\\"boolean\\\\\", \\\\\"name\\\\\": \\\\\"county_4\\\\\"}, '\n",
       "                             '{\\\\\"type\\\\\": \\\\\"boolean\\\\\", \\\\\"name\\\\\": '\n",
       "                             '\\\\\"county_5\\\\\"}, {\\\\\"type\\\\\": \\\\\"boolean\\\\\", '\n",
       "                             '\\\\\"name\\\\\": \\\\\"county_6\\\\\"}, {\\\\\"type\\\\\": '\n",
       "                             '\\\\\"boolean\\\\\", \\\\\"name\\\\\": \\\\\"county_7\\\\\"}, '\n",
       "                             '{\\\\\"type\\\\\": \\\\\"boolean\\\\\", \\\\\"name\\\\\": '\n",
       "                             '\\\\\"county_8\\\\\"}, {\\\\\"type\\\\\": \\\\\"boolean\\\\\", '\n",
       "                             '\\\\\"name\\\\\": \\\\\"county_10\\\\\"}, {\\\\\"type\\\\\": '\n",
       "                             '\\\\\"boolean\\\\\", \\\\\"name\\\\\": \\\\\"county_11\\\\\"}, '\n",
       "                             '{\\\\\"type\\\\\": \\\\\"boolean\\\\\", \\\\\"name\\\\\": '\n",
       "                             '\\\\\"county_13\\\\\"}, {\\\\\"type\\\\\": \\\\\"boolean\\\\\", '\n",
       "                             '\\\\\"name\\\\\": \\\\\"county_14\\\\\"}, {\\\\\"type\\\\\": '\n",
       "                             '\\\\\"boolean\\\\\", \\\\\"name\\\\\": \\\\\"county_15\\\\\"}, '\n",
       "                             '{\\\\\"type\\\\\": \\\\\"boolean\\\\\", \\\\\"name\\\\\": '\n",
       "                             '\\\\\"product_type_0\\\\\"}, {\\\\\"type\\\\\": '\n",
       "                             '\\\\\"boolean\\\\\", \\\\\"name\\\\\": '\n",
       "                             '\\\\\"product_type_1\\\\\"}, {\\\\\"type\\\\\": '\n",
       "                             '\\\\\"boolean\\\\\", \\\\\"name\\\\\": '\n",
       "                             '\\\\\"product_type_2\\\\\"}]\", \"outputs\": '\n",
       "                             '\"[{\\\\\"type\\\\\": \\\\\"tensor\\\\\", \\\\\"tensor-spec\\\\\": '\n",
       "                             '{\\\\\"dtype\\\\\": \\\\\"float32\\\\\", \\\\\"shape\\\\\": '\n",
       "                             '[-1]}}]\", \"params\": null}, \"model_size_bytes\": '\n",
       "                             '17647674}, {\"run_id\": '\n",
       "                             '\"a2ca85cf93ab48a29c6cce33ffb0cb50\", '\n",
       "                             '\"artifact_path\": \"xgboost_model\", '\n",
       "                             '\"utc_time_created\": \"2023-12-09 '\n",
       "                             '21:11:53.029980\", \"flavors\": {\"python_function\": '\n",
       "                             '{\"loader_module\": \"mlflow.xgboost\", '\n",
       "                             '\"python_version\": \"3.11.0\", \"data\": \"model.xgb\", '\n",
       "                             '\"env\": {\"conda\": \"conda.yaml\", \"virtualenv\": '\n",
       "                             '\"python_env.yaml\"}}, \"xgboost\": {\"xgb_version\": '\n",
       "                             '\"1.7.6\", \"data\": \"model.xgb\", \"model_class\": '\n",
       "                             '\"xgboost.sklearn.XGBRegressor\", \"model_format\": '\n",
       "                             '\"xgb\", \"code\": null}}, \"model_uuid\": '\n",
       "                             '\"c272ca85cb924d86ac3f43a5bd56f993\", '\n",
       "                             '\"mlflow_version\": \"2.8.0\", \"signature\": '\n",
       "                             '{\"inputs\": \"[{\\\\\"type\\\\\": \\\\\"long\\\\\", '\n",
       "                             '\\\\\"name\\\\\": \\\\\"is_business\\\\\"}, {\\\\\"type\\\\\": '\n",
       "                             '\\\\\"long\\\\\", \\\\\"name\\\\\": \\\\\"is_consumption\\\\\"}, '\n",
       "                             '{\\\\\"type\\\\\": \\\\\"integer\\\\\", \\\\\"name\\\\\": '\n",
       "                             '\\\\\"year\\\\\"}, {\\\\\"type\\\\\": \\\\\"long\\\\\", '\n",
       "                             '\\\\\"name\\\\\": \\\\\"datediff_in_days\\\\\"}, '\n",
       "                             '{\\\\\"type\\\\\": \\\\\"integer\\\\\", \\\\\"name\\\\\": '\n",
       "                             '\\\\\"hour\\\\\"}, {\\\\\"type\\\\\": \\\\\"double\\\\\", '\n",
       "                             '\\\\\"name\\\\\": \\\\\"hour_cosine\\\\\"}, {\\\\\"type\\\\\": '\n",
       "                             '\\\\\"integer\\\\\", \\\\\"name\\\\\": \\\\\"dayofweek\\\\\"}, '\n",
       "                             '{\\\\\"type\\\\\": \\\\\"double\\\\\", \\\\\"name\\\\\": '\n",
       "                             '\\\\\"dayofweek_cosine\\\\\"}, {\\\\\"type\\\\\": '\n",
       "                             '\\\\\"integer\\\\\", \\\\\"name\\\\\": \\\\\"week\\\\\"}, '\n",
       "                             '{\\\\\"type\\\\\": \\\\\"double\\\\\", \\\\\"name\\\\\": '\n",
       "                             '\\\\\"week_cosine\\\\\"}, {\\\\\"type\\\\\": \\\\\"integer\\\\\", '\n",
       "                             '\\\\\"name\\\\\": \\\\\"month\\\\\"}, {\\\\\"type\\\\\": '\n",
       "                             '\\\\\"double\\\\\", \\\\\"name\\\\\": \\\\\"month_sine\\\\\"}, '\n",
       "                             '{\\\\\"type\\\\\": \\\\\"double\\\\\", \\\\\"name\\\\\": '\n",
       "                             '\\\\\"target_1_days_ago\\\\\"}, {\\\\\"type\\\\\": '\n",
       "                             '\\\\\"double\\\\\", \\\\\"name\\\\\": '\n",
       "                             '\\\\\"target_7_days_ago\\\\\"}, {\\\\\"type\\\\\": '\n",
       "                             '\\\\\"double\\\\\", \\\\\"name\\\\\": '\n",
       "                             '\\\\\"installed_capacity\\\\\"}, {\\\\\"type\\\\\": '\n",
       "                             '\\\\\"double\\\\\", \\\\\"name\\\\\": '\n",
       "                             '\\\\\"lowest_price_per_mwh\\\\\"}, {\\\\\"type\\\\\": '\n",
       "                             '\\\\\"double\\\\\", \\\\\"name\\\\\": '\n",
       "                             '\\\\\"temperature_mean_f\\\\\"}, {\\\\\"type\\\\\": '\n",
       "                             '\\\\\"double\\\\\", \\\\\"name\\\\\": '\n",
       "                             '\\\\\"temperature_max_f\\\\\"}, {\\\\\"type\\\\\": '\n",
       "                             '\\\\\"double\\\\\", \\\\\"name\\\\\": \\\\\"dewpoint_min_f\\\\\"}, '\n",
       "                             '{\\\\\"type\\\\\": \\\\\"double\\\\\", \\\\\"name\\\\\": '\n",
       "                             '\\\\\"dewpoint_mean_f\\\\\"}, {\\\\\"type\\\\\": '\n",
       "                             '\\\\\"double\\\\\", \\\\\"name\\\\\": \\\\\"dewpoint_max_f\\\\\"}, '\n",
       "                             '{\\\\\"type\\\\\": \\\\\"double\\\\\", \\\\\"name\\\\\": '\n",
       "                             '\\\\\"dewpoint_std_f\\\\\"}, {\\\\\"type\\\\\": '\n",
       "                             '\\\\\"double\\\\\", \\\\\"name\\\\\": '\n",
       "                             '\\\\\"cloudcover_high_min_f\\\\\"}, {\\\\\"type\\\\\": '\n",
       "                             '\\\\\"double\\\\\", \\\\\"name\\\\\": '\n",
       "                             '\\\\\"cloudcover_high_max_f\\\\\"}, {\\\\\"type\\\\\": '\n",
       "                             '\\\\\"double\\\\\", \\\\\"name\\\\\": '\n",
       "                             '\\\\\"cloudcover_low_max_f\\\\\"}, {\\\\\"type\\\\\": '\n",
       "                             '\\\\\"double\\\\\", \\\\\"name\\\\\": '\n",
       "                             '\\\\\"cloudcover_mid_min_f\\\\\"}, {\\\\\"type\\\\\": '\n",
       "                             '\\\\\"double\\\\\", \\\\\"name\\\\\": '\n",
       "                             '\\\\\"cloudcover_mid_mean_f\\\\\"}, {\\\\\"type\\\\\": '\n",
       "                             '\\\\\"double\\\\\", \\\\\"name\\\\\": '\n",
       "                             '\\\\\"cloudcover_mid_max_f\\\\\"}, {\\\\\"type\\\\\": '\n",
       "                             '\\\\\"double\\\\\", \\\\\"name\\\\\": '\n",
       "                             '\\\\\"cloudcover_total_min_f\\\\\"}, {\\\\\"type\\\\\": '\n",
       "                             '\\\\\"double\\\\\", \\\\\"name\\\\\": '\n",
       "                             '\\\\\"cloudcover_total_mean_f\\\\\"}, {\\\\\"type\\\\\": '\n",
       "                             '\\\\\"double\\\\\", \\\\\"name\\\\\": '\n",
       "                             '\\\\\"cloudcover_total_max_f\\\\\"}, {\\\\\"type\\\\\": '\n",
       "                             '\\\\\"double\\\\\", \\\\\"name\\\\\": '\n",
       "                             '\\\\\"10_metre_u_wind_component_max_f\\\\\"}, '\n",
       "                             '{\\\\\"type\\\\\": \\\\\"double\\\\\", \\\\\"name\\\\\": '\n",
       "                             '\\\\\"10_metre_u_wind_component_std_f\\\\\"}, '\n",
       "                             '{\\\\\"type\\\\\": \\\\\"double\\\\\", \\\\\"name\\\\\": '\n",
       "                             '\\\\\"10_metre_v_wind_component_mean_f\\\\\"}, '\n",
       "                             '{\\\\\"type\\\\\": \\\\\"double\\\\\", \\\\\"name\\\\\": '\n",
       "                             '\\\\\"direct_solar_radiation_mean_f\\\\\"}, '\n",
       "                             '{\\\\\"type\\\\\": \\\\\"double\\\\\", \\\\\"name\\\\\": '\n",
       "                             '\\\\\"surface_solar_radiation_downwards_min_f\\\\\"}, '\n",
       "                             '{\\\\\"type\\\\\": \\\\\"double\\\\\", \\\\\"name\\\\\": '\n",
       "                             '\\\\\"surface_solar_radiation_downwards_mean_f\\\\\"}, '\n",
       "                             '{\\\\\"type\\\\\": \\\\\"double\\\\\", \\\\\"name\\\\\": '\n",
       "                             '\\\\\"surface_solar_radiation_downwards_max_f\\\\\"}, '\n",
       "                             '{\\\\\"type\\\\\": \\\\\"double\\\\\", \\\\\"name\\\\\": '\n",
       "                             '\\\\\"surface_solar_radiation_downwards_std_f\\\\\"}, '\n",
       "                             '{\\\\\"type\\\\\": \\\\\"double\\\\\", \\\\\"name\\\\\": '\n",
       "                             '\\\\\"snowfall_min_f\\\\\"}, {\\\\\"type\\\\\": '\n",
       "                             '\\\\\"double\\\\\", \\\\\"name\\\\\": '\n",
       "                             '\\\\\"snowfall_mean_f\\\\\"}, {\\\\\"type\\\\\": '\n",
       "                             '\\\\\"double\\\\\", \\\\\"name\\\\\": \\\\\"snowfall_std_f\\\\\"}, '\n",
       "                             '{\\\\\"type\\\\\": \\\\\"double\\\\\", \\\\\"name\\\\\": '\n",
       "                             '\\\\\"total_precipitation_mean_f\\\\\"}, {\\\\\"type\\\\\": '\n",
       "                             '\\\\\"boolean\\\\\", \\\\\"name\\\\\": \\\\\"county_0\\\\\"}, '\n",
       "                             '{\\\\\"type\\\\\": \\\\\"boolean\\\\\", \\\\\"name\\\\\": '\n",
       "                             '\\\\\"county_1\\\\\"}, {\\\\\"type\\\\\": \\\\\"boolean\\\\\", '\n",
       "                             '\\\\\"name\\\\\": \\\\\"county_2\\\\\"}, {\\\\\"type\\\\\": '\n",
       "                             '\\\\\"boolean\\\\\", \\\\\"name\\\\\": \\\\\"county_4\\\\\"}, '\n",
       "                             '{\\\\\"type\\\\\": \\\\\"boolean\\\\\", \\\\\"name\\\\\": '\n",
       "                             '\\\\\"county_5\\\\\"}, {\\\\\"type\\\\\": \\\\\"boolean\\\\\", '\n",
       "                             '\\\\\"name\\\\\": \\\\\"county_6\\\\\"}, {\\\\\"type\\\\\": '\n",
       "                             '\\\\\"boolean\\\\\", \\\\\"name\\\\\": \\\\\"county_7\\\\\"}, '\n",
       "                             '{\\\\\"type\\\\\": \\\\\"boolean\\\\\", \\\\\"name\\\\\": '\n",
       "                             '\\\\\"county_8\\\\\"}, {\\\\\"type\\\\\": \\\\\"boolean\\\\\", '\n",
       "                             '\\\\\"name\\\\\": \\\\\"county_10\\\\\"}, {\\\\\"type\\\\\": '\n",
       "                             '\\\\\"boolean\\\\\", \\\\\"name\\\\\": \\\\\"county_11\\\\\"}, '\n",
       "                             '{\\\\\"type\\\\\": \\\\\"boolean\\\\\", \\\\\"name\\\\\": '\n",
       "                             '\\\\\"county_13\\\\\"}, {\\\\\"type\\\\\": \\\\\"boolean\\\\\", '\n",
       "                             '\\\\\"name\\\\\": \\\\\"county_14\\\\\"}, {\\\\\"type\\\\\": '\n",
       "                             '\\\\\"boolean\\\\\", \\\\\"name\\\\\": \\\\\"county_15\\\\\"}, '\n",
       "                             '{\\\\\"type\\\\\": \\\\\"boolean\\\\\", \\\\\"name\\\\\": '\n",
       "                             '\\\\\"product_type_0\\\\\"}, {\\\\\"type\\\\\": '\n",
       "                             '\\\\\"boolean\\\\\", \\\\\"name\\\\\": '\n",
       "                             '\\\\\"product_type_1\\\\\"}, {\\\\\"type\\\\\": '\n",
       "                             '\\\\\"boolean\\\\\", \\\\\"name\\\\\": '\n",
       "                             '\\\\\"product_type_2\\\\\"}]\", \"outputs\": '\n",
       "                             '\"[{\\\\\"type\\\\\": \\\\\"tensor\\\\\", \\\\\"tensor-spec\\\\\": '\n",
       "                             '{\\\\\"dtype\\\\\": \\\\\"float32\\\\\", \\\\\"shape\\\\\": '\n",
       "                             '[-1]}}]\", \"params\": null}, \"model_size_bytes\": '\n",
       "                             '18998610}]',\n",
       " 'mlflow.runName': '31',\n",
       " 'mlflow.source.name': '/Users/dylantartarini/miniconda3/envs/enefit/lib/python3.11/site-packages/ipykernel_launcher.py',\n",
       " 'mlflow.source.type': 'LOCAL',\n",
       " 'mlflow.user': 'dylantartarini',\n",
       " 'n_estimators_distribution': 'IntDistribution(high=200, log=True, low=50, '\n",
       "                              'step=1)',\n",
       " 'num_boost_round_distribution': 'IntDistribution(high=100, log=True, low=10, '\n",
       "                                 'step=1)',\n",
       " 'num_leaves_distribution': 'IntDistribution(high=50, log=True, low=20, '\n",
       "                            'step=1)',\n",
       " 'number': '31',\n",
       " 'split_mae': '[66.52162242364784, 43.671984178470545, 60.975854898480634]',\n",
       " 'split_mape': '[396223382022253.4, 480753204201409.0, 392429233609007.7]',\n",
       " 'split_mase': '[0.14722891941023408, 0.10035534524973383, 0.1358294352311797]',\n",
       " 'split_mse': '[43063.7332861709, 28766.191730860937, 51653.10072253752]',\n",
       " 'split_rmse': '[207.51803123143517, 169.6059896668185, 227.2731852254848]',\n",
       " 'state': 'COMPLETE',\n",
       " 'subsample_distribution': 'FloatDistribution(high=0.85, log=True, low=0.5, '\n",
       "                           'step=None)'}>, info=<RunInfo: artifact_uri='mlflow-artifacts:/927635481385254895/a2ca85cf93ab48a29c6cce33ffb0cb50/artifacts', end_time=1702156314821, experiment_id='927635481385254895', lifecycle_stage='active', run_id='a2ca85cf93ab48a29c6cce33ffb0cb50', run_name='31', run_uuid='a2ca85cf93ab48a29c6cce33ffb0cb50', start_time=1702155780197, status='FINISHED', user_id='dylantartarini'>, inputs=<RunInputs: dataset_inputs=[]>>"
      ]
     },
     "execution_count": 14,
     "metadata": {},
     "output_type": "execute_result"
    }
   ],
   "source": [
    "best_run = client.search_runs(\n",
    "    experiment_ids=[exp_id],\n",
    "    filter_string=\"\",\n",
    "    max_results=1,\n",
    "    order_by=[\"metrics.MAE ASC\"], # according to MAE\n",
    ")[0]\n",
    "\n",
    "best_run"
   ]
  },
  {
   "cell_type": "code",
   "execution_count": 15,
   "metadata": {},
   "outputs": [
    {
     "data": {
      "text/plain": [
       "'a2ca85cf93ab48a29c6cce33ffb0cb50'"
      ]
     },
     "execution_count": 15,
     "metadata": {},
     "output_type": "execute_result"
    }
   ],
   "source": [
    "best_run.info.run_id"
   ]
  },
  {
   "cell_type": "code",
   "execution_count": 16,
   "metadata": {},
   "outputs": [
    {
     "data": {
      "text/plain": [
       "'mlflow-artifacts:/927635481385254895/a2ca85cf93ab48a29c6cce33ffb0cb50/artifacts'"
      ]
     },
     "execution_count": 16,
     "metadata": {},
     "output_type": "execute_result"
    }
   ],
   "source": [
    "best_run.info.artifact_uri"
   ]
  },
  {
   "cell_type": "code",
   "execution_count": 17,
   "metadata": {},
   "outputs": [
    {
     "name": "stderr",
     "output_type": "stream",
     "text": [
      "Downloading artifacts:  80%|████████  | 4/5 [00:00<00:00, 221.66it/s]"
     ]
    },
    {
     "name": "stderr",
     "output_type": "stream",
     "text": [
      "Downloading artifacts: 100%|██████████| 5/5 [00:00<00:00, 21.38it/s] \n"
     ]
    }
   ],
   "source": [
    "model = mlflow.xgboost.load_model(model_uri=f\"runs:/{best_run.info.run_id}/{artifact_path}\")"
   ]
  },
  {
   "cell_type": "code",
   "execution_count": 18,
   "metadata": {},
   "outputs": [
    {
     "name": "stderr",
     "output_type": "stream",
     "text": [
      "Downloading artifacts: 100%|██████████| 5/5 [00:00<00:00, 22.01it/s] \n"
     ]
    },
    {
     "data": {
      "text/plain": [
       "{'inputs': '[{\"type\": \"long\", \"name\": \"is_business\"}, {\"type\": \"long\", \"name\": \"is_consumption\"}, {\"type\": \"integer\", \"name\": \"year\"}, {\"type\": \"long\", \"name\": \"datediff_in_days\"}, {\"type\": \"integer\", \"name\": \"hour\"}, {\"type\": \"double\", \"name\": \"hour_cosine\"}, {\"type\": \"integer\", \"name\": \"dayofweek\"}, {\"type\": \"double\", \"name\": \"dayofweek_cosine\"}, {\"type\": \"integer\", \"name\": \"week\"}, {\"type\": \"double\", \"name\": \"week_cosine\"}, {\"type\": \"integer\", \"name\": \"month\"}, {\"type\": \"double\", \"name\": \"month_sine\"}, {\"type\": \"double\", \"name\": \"target_1_days_ago\"}, {\"type\": \"double\", \"name\": \"target_7_days_ago\"}, {\"type\": \"double\", \"name\": \"installed_capacity\"}, {\"type\": \"double\", \"name\": \"lowest_price_per_mwh\"}, {\"type\": \"double\", \"name\": \"temperature_mean_f\"}, {\"type\": \"double\", \"name\": \"temperature_max_f\"}, {\"type\": \"double\", \"name\": \"dewpoint_min_f\"}, {\"type\": \"double\", \"name\": \"dewpoint_mean_f\"}, {\"type\": \"double\", \"name\": \"dewpoint_max_f\"}, {\"type\": \"double\", \"name\": \"dewpoint_std_f\"}, {\"type\": \"double\", \"name\": \"cloudcover_high_min_f\"}, {\"type\": \"double\", \"name\": \"cloudcover_high_max_f\"}, {\"type\": \"double\", \"name\": \"cloudcover_low_max_f\"}, {\"type\": \"double\", \"name\": \"cloudcover_mid_min_f\"}, {\"type\": \"double\", \"name\": \"cloudcover_mid_mean_f\"}, {\"type\": \"double\", \"name\": \"cloudcover_mid_max_f\"}, {\"type\": \"double\", \"name\": \"cloudcover_total_min_f\"}, {\"type\": \"double\", \"name\": \"cloudcover_total_mean_f\"}, {\"type\": \"double\", \"name\": \"cloudcover_total_max_f\"}, {\"type\": \"double\", \"name\": \"10_metre_u_wind_component_max_f\"}, {\"type\": \"double\", \"name\": \"10_metre_u_wind_component_std_f\"}, {\"type\": \"double\", \"name\": \"10_metre_v_wind_component_mean_f\"}, {\"type\": \"double\", \"name\": \"direct_solar_radiation_mean_f\"}, {\"type\": \"double\", \"name\": \"surface_solar_radiation_downwards_min_f\"}, {\"type\": \"double\", \"name\": \"surface_solar_radiation_downwards_mean_f\"}, {\"type\": \"double\", \"name\": \"surface_solar_radiation_downwards_max_f\"}, {\"type\": \"double\", \"name\": \"surface_solar_radiation_downwards_std_f\"}, {\"type\": \"double\", \"name\": \"snowfall_min_f\"}, {\"type\": \"double\", \"name\": \"snowfall_mean_f\"}, {\"type\": \"double\", \"name\": \"snowfall_std_f\"}, {\"type\": \"double\", \"name\": \"total_precipitation_mean_f\"}, {\"type\": \"boolean\", \"name\": \"county_0\"}, {\"type\": \"boolean\", \"name\": \"county_1\"}, {\"type\": \"boolean\", \"name\": \"county_2\"}, {\"type\": \"boolean\", \"name\": \"county_4\"}, {\"type\": \"boolean\", \"name\": \"county_5\"}, {\"type\": \"boolean\", \"name\": \"county_6\"}, {\"type\": \"boolean\", \"name\": \"county_7\"}, {\"type\": \"boolean\", \"name\": \"county_8\"}, {\"type\": \"boolean\", \"name\": \"county_10\"}, {\"type\": \"boolean\", \"name\": \"county_11\"}, {\"type\": \"boolean\", \"name\": \"county_13\"}, {\"type\": \"boolean\", \"name\": \"county_14\"}, {\"type\": \"boolean\", \"name\": \"county_15\"}, {\"type\": \"boolean\", \"name\": \"product_type_0\"}, {\"type\": \"boolean\", \"name\": \"product_type_1\"}, {\"type\": \"boolean\", \"name\": \"product_type_2\"}]',\n",
       " 'outputs': '[{\"type\": \"tensor\", \"tensor-spec\": {\"dtype\": \"float32\", \"shape\": [-1]}}]',\n",
       " 'params': None}"
      ]
     },
     "execution_count": 18,
     "metadata": {},
     "output_type": "execute_result"
    }
   ],
   "source": [
    "# model signature\n",
    "model_info = mlflow.models.get_model_info(f\"runs:/{best_run.info.run_id}/{artifact_path}\")\n",
    "model_info.signature_dict"
   ]
  },
  {
   "cell_type": "markdown",
   "metadata": {},
   "source": [
    "### Loading a specific **version**\n",
    "needs the model to be registered but does not need it to be in any specific environment"
   ]
  },
  {
   "cell_type": "code",
   "execution_count": 19,
   "metadata": {},
   "outputs": [
    {
     "data": {
      "text/plain": [
       "'xgboost'"
      ]
     },
     "execution_count": 19,
     "metadata": {},
     "output_type": "execute_result"
    }
   ],
   "source": [
    "experiment_name"
   ]
  },
  {
   "cell_type": "code",
   "execution_count": 20,
   "metadata": {},
   "outputs": [],
   "source": [
    "# mlflow.search_registered_models(filter_string=f\"name='{REG_MODEL_NAME}'\")"
   ]
  },
  {
   "cell_type": "code",
   "execution_count": 21,
   "metadata": {},
   "outputs": [
    {
     "name": "stderr",
     "output_type": "stream",
     "text": [
      "Downloading artifacts:  80%|████████  | 4/5 [00:00<00:00, 298.38it/s]"
     ]
    },
    {
     "name": "stderr",
     "output_type": "stream",
     "text": [
      "Downloading artifacts: 100%|██████████| 5/5 [00:00<00:00, 21.40it/s] \n"
     ]
    }
   ],
   "source": [
    "model_version=1\n",
    "model = mlflow.xgboost.load_model(f\"models:/{REG_MODEL_NAME}/{model_version}\")"
   ]
  },
  {
   "cell_type": "code",
   "execution_count": 22,
   "metadata": {},
   "outputs": [
    {
     "name": "stderr",
     "output_type": "stream",
     "text": [
      "Downloading artifacts:   0%|          | 0/5 [00:00<?, ?it/s]"
     ]
    },
    {
     "name": "stderr",
     "output_type": "stream",
     "text": [
      "Downloading artifacts: 100%|██████████| 5/5 [00:00<00:00, 19.26it/s] \n"
     ]
    },
    {
     "data": {
      "text/plain": [
       "{'inputs': '[{\"type\": \"long\", \"name\": \"is_business\"}, {\"type\": \"long\", \"name\": \"is_consumption\"}, {\"type\": \"integer\", \"name\": \"year\"}, {\"type\": \"long\", \"name\": \"datediff_in_days\"}, {\"type\": \"integer\", \"name\": \"hour\"}, {\"type\": \"double\", \"name\": \"hour_cosine\"}, {\"type\": \"integer\", \"name\": \"dayofweek\"}, {\"type\": \"double\", \"name\": \"dayofweek_cosine\"}, {\"type\": \"integer\", \"name\": \"week\"}, {\"type\": \"double\", \"name\": \"week_cosine\"}, {\"type\": \"integer\", \"name\": \"month\"}, {\"type\": \"double\", \"name\": \"month_sine\"}, {\"type\": \"double\", \"name\": \"target_1_days_ago\"}, {\"type\": \"double\", \"name\": \"target_7_days_ago\"}, {\"type\": \"double\", \"name\": \"installed_capacity\"}, {\"type\": \"double\", \"name\": \"lowest_price_per_mwh\"}, {\"type\": \"double\", \"name\": \"temperature_mean_f\"}, {\"type\": \"double\", \"name\": \"temperature_max_f\"}, {\"type\": \"double\", \"name\": \"dewpoint_min_f\"}, {\"type\": \"double\", \"name\": \"dewpoint_mean_f\"}, {\"type\": \"double\", \"name\": \"dewpoint_max_f\"}, {\"type\": \"double\", \"name\": \"dewpoint_std_f\"}, {\"type\": \"double\", \"name\": \"cloudcover_high_min_f\"}, {\"type\": \"double\", \"name\": \"cloudcover_high_max_f\"}, {\"type\": \"double\", \"name\": \"cloudcover_low_max_f\"}, {\"type\": \"double\", \"name\": \"cloudcover_mid_min_f\"}, {\"type\": \"double\", \"name\": \"cloudcover_mid_mean_f\"}, {\"type\": \"double\", \"name\": \"cloudcover_mid_max_f\"}, {\"type\": \"double\", \"name\": \"cloudcover_total_min_f\"}, {\"type\": \"double\", \"name\": \"cloudcover_total_mean_f\"}, {\"type\": \"double\", \"name\": \"cloudcover_total_max_f\"}, {\"type\": \"double\", \"name\": \"10_metre_u_wind_component_max_f\"}, {\"type\": \"double\", \"name\": \"10_metre_u_wind_component_std_f\"}, {\"type\": \"double\", \"name\": \"10_metre_v_wind_component_mean_f\"}, {\"type\": \"double\", \"name\": \"direct_solar_radiation_mean_f\"}, {\"type\": \"double\", \"name\": \"surface_solar_radiation_downwards_min_f\"}, {\"type\": \"double\", \"name\": \"surface_solar_radiation_downwards_mean_f\"}, {\"type\": \"double\", \"name\": \"surface_solar_radiation_downwards_max_f\"}, {\"type\": \"double\", \"name\": \"surface_solar_radiation_downwards_std_f\"}, {\"type\": \"double\", \"name\": \"snowfall_min_f\"}, {\"type\": \"double\", \"name\": \"snowfall_mean_f\"}, {\"type\": \"double\", \"name\": \"snowfall_std_f\"}, {\"type\": \"double\", \"name\": \"total_precipitation_mean_f\"}, {\"type\": \"boolean\", \"name\": \"county_0\"}, {\"type\": \"boolean\", \"name\": \"county_1\"}, {\"type\": \"boolean\", \"name\": \"county_2\"}, {\"type\": \"boolean\", \"name\": \"county_4\"}, {\"type\": \"boolean\", \"name\": \"county_5\"}, {\"type\": \"boolean\", \"name\": \"county_6\"}, {\"type\": \"boolean\", \"name\": \"county_7\"}, {\"type\": \"boolean\", \"name\": \"county_8\"}, {\"type\": \"boolean\", \"name\": \"county_10\"}, {\"type\": \"boolean\", \"name\": \"county_11\"}, {\"type\": \"boolean\", \"name\": \"county_13\"}, {\"type\": \"boolean\", \"name\": \"county_14\"}, {\"type\": \"boolean\", \"name\": \"county_15\"}, {\"type\": \"boolean\", \"name\": \"product_type_0\"}, {\"type\": \"boolean\", \"name\": \"product_type_1\"}, {\"type\": \"boolean\", \"name\": \"product_type_2\"}]',\n",
       " 'outputs': '[{\"type\": \"tensor\", \"tensor-spec\": {\"dtype\": \"float32\", \"shape\": [-1]}}]',\n",
       " 'params': None}"
      ]
     },
     "execution_count": 22,
     "metadata": {},
     "output_type": "execute_result"
    }
   ],
   "source": [
    "# model signature\n",
    "model_info = mlflow.models.get_model_info(f\"models:/{REG_MODEL_NAME}/{model_version}\")\n",
    "model_info.signature_dict"
   ]
  },
  {
   "cell_type": "markdown",
   "metadata": {},
   "source": [
    "### Query model parameters"
   ]
  },
  {
   "cell_type": "code",
   "execution_count": 24,
   "metadata": {},
   "outputs": [
    {
     "data": {
      "text/plain": [
       "{'objective': 'reg:squarederror',\n",
       " 'base_score': None,\n",
       " 'booster': None,\n",
       " 'callbacks': None,\n",
       " 'colsample_bylevel': 0.7064194229926998,\n",
       " 'colsample_bynode': 0.7158440177982559,\n",
       " 'colsample_bytree': 0.9229606824866499,\n",
       " 'early_stopping_rounds': None,\n",
       " 'enable_categorical': False,\n",
       " 'eval_metric': 'mae',\n",
       " 'feature_types': None,\n",
       " 'gamma': None,\n",
       " 'gpu_id': None,\n",
       " 'grow_policy': None,\n",
       " 'importance_type': None,\n",
       " 'interaction_constraints': None,\n",
       " 'learning_rate': None,\n",
       " 'max_bin': None,\n",
       " 'max_cat_threshold': None,\n",
       " 'max_cat_to_onehot': None,\n",
       " 'max_delta_step': None,\n",
       " 'max_depth': 12,\n",
       " 'max_leaves': None,\n",
       " 'min_child_weight': 0.031507317401508694,\n",
       " 'missing': nan,\n",
       " 'monotone_constraints': None,\n",
       " 'n_estimators': 122,\n",
       " 'n_jobs': None,\n",
       " 'num_parallel_tree': None,\n",
       " 'predictor': None,\n",
       " 'random_state': None,\n",
       " 'reg_alpha': None,\n",
       " 'reg_lambda': None,\n",
       " 'sampling_method': None,\n",
       " 'scale_pos_weight': None,\n",
       " 'subsample': 0.7769186287426424,\n",
       " 'tree_method': None,\n",
       " 'validate_parameters': None,\n",
       " 'verbosity': None,\n",
       " 'eta': 0.041159428141083886,\n",
       " 'num_leaves': 34,\n",
       " 'lambda': 1.2908697628355246,\n",
       " 'alpha': 0.009465232755839163,\n",
       " 'num_boost_round': 19}"
      ]
     },
     "execution_count": 24,
     "metadata": {},
     "output_type": "execute_result"
    }
   ],
   "source": [
    "model.get_params()"
   ]
  },
  {
   "cell_type": "markdown",
   "metadata": {},
   "source": [
    "### Query model artifacts"
   ]
  },
  {
   "cell_type": "code",
   "execution_count": 26,
   "metadata": {},
   "outputs": [
    {
     "data": {
      "text/plain": [
       "'a2ca85cf93ab48a29c6cce33ffb0cb50'"
      ]
     },
     "execution_count": 26,
     "metadata": {},
     "output_type": "execute_result"
    }
   ],
   "source": [
    "model_info.run_id"
   ]
  },
  {
   "cell_type": "code",
   "execution_count": 34,
   "metadata": {},
   "outputs": [
    {
     "data": {
      "text/plain": [
       "'mlflow-artifacts:/927635481385254895/a2ca85cf93ab48a29c6cce33ffb0cb50/artifacts'"
      ]
     },
     "execution_count": 34,
     "metadata": {},
     "output_type": "execute_result"
    }
   ],
   "source": [
    "artifact_uri = mlflow.search_runs(experiment_names=[\"xgboost\"], filter_string=f\"run_id='{model_info.run_id}'\")[\"artifact_uri\"][0]\n",
    "\n",
    "artifact_uri"
   ]
  },
  {
   "cell_type": "code",
   "execution_count": 33,
   "metadata": {},
   "outputs": [
    {
     "data": {
      "text/plain": [
       "'mlflow-artifacts:/927635481385254895/a2ca85cf93ab48a29c6cce33ffb0cb50/artifacts'"
      ]
     },
     "execution_count": 33,
     "metadata": {},
     "output_type": "execute_result"
    }
   ],
   "source": [
    "artifact_uri"
   ]
  },
  {
   "cell_type": "code",
   "execution_count": 35,
   "metadata": {},
   "outputs": [
    {
     "name": "stderr",
     "output_type": "stream",
     "text": [
      "Downloading artifacts: 100%|██████████| 1/1 [00:00<00:00, 122.45it/s]\n"
     ]
    },
    {
     "ename": "ValueError",
     "evalue": "Could not save to JPEG for display",
     "output_type": "error",
     "traceback": [
      "\u001b[0;31m---------------------------------------------------------------------------\u001b[0m",
      "\u001b[0;31mKeyError\u001b[0m                                  Traceback (most recent call last)",
      "File \u001b[0;32m~/miniconda3/envs/enefit/lib/python3.11/site-packages/PIL/JpegImagePlugin.py:639\u001b[0m, in \u001b[0;36m_save\u001b[0;34m(im, fp, filename)\u001b[0m\n\u001b[1;32m    638\u001b[0m \u001b[38;5;28;01mtry\u001b[39;00m:\n\u001b[0;32m--> 639\u001b[0m     rawmode \u001b[38;5;241m=\u001b[39m \u001b[43mRAWMODE\u001b[49m\u001b[43m[\u001b[49m\u001b[43mim\u001b[49m\u001b[38;5;241;43m.\u001b[39;49m\u001b[43mmode\u001b[49m\u001b[43m]\u001b[49m\n\u001b[1;32m    640\u001b[0m \u001b[38;5;28;01mexcept\u001b[39;00m \u001b[38;5;167;01mKeyError\u001b[39;00m \u001b[38;5;28;01mas\u001b[39;00m e:\n",
      "\u001b[0;31mKeyError\u001b[0m: 'RGBA'",
      "\nThe above exception was the direct cause of the following exception:\n",
      "\u001b[0;31mOSError\u001b[0m                                   Traceback (most recent call last)",
      "File \u001b[0;32m~/miniconda3/envs/enefit/lib/python3.11/site-packages/PIL/Image.py:643\u001b[0m, in \u001b[0;36mImage._repr_image\u001b[0;34m(self, image_format, **kwargs)\u001b[0m\n\u001b[1;32m    642\u001b[0m \u001b[38;5;28;01mtry\u001b[39;00m:\n\u001b[0;32m--> 643\u001b[0m     \u001b[38;5;28;43mself\u001b[39;49m\u001b[38;5;241;43m.\u001b[39;49m\u001b[43msave\u001b[49m\u001b[43m(\u001b[49m\u001b[43mb\u001b[49m\u001b[43m,\u001b[49m\u001b[43m \u001b[49m\u001b[43mimage_format\u001b[49m\u001b[43m,\u001b[49m\u001b[43m \u001b[49m\u001b[38;5;241;43m*\u001b[39;49m\u001b[38;5;241;43m*\u001b[39;49m\u001b[43mkwargs\u001b[49m\u001b[43m)\u001b[49m\n\u001b[1;32m    644\u001b[0m \u001b[38;5;28;01mexcept\u001b[39;00m \u001b[38;5;167;01mException\u001b[39;00m \u001b[38;5;28;01mas\u001b[39;00m e:\n",
      "File \u001b[0;32m~/miniconda3/envs/enefit/lib/python3.11/site-packages/PIL/Image.py:2413\u001b[0m, in \u001b[0;36mImage.save\u001b[0;34m(self, fp, format, **params)\u001b[0m\n\u001b[1;32m   2412\u001b[0m \u001b[38;5;28;01mtry\u001b[39;00m:\n\u001b[0;32m-> 2413\u001b[0m     \u001b[43msave_handler\u001b[49m\u001b[43m(\u001b[49m\u001b[38;5;28;43mself\u001b[39;49m\u001b[43m,\u001b[49m\u001b[43m \u001b[49m\u001b[43mfp\u001b[49m\u001b[43m,\u001b[49m\u001b[43m \u001b[49m\u001b[43mfilename\u001b[49m\u001b[43m)\u001b[49m\n\u001b[1;32m   2414\u001b[0m \u001b[38;5;28;01mexcept\u001b[39;00m \u001b[38;5;167;01mException\u001b[39;00m:\n",
      "File \u001b[0;32m~/miniconda3/envs/enefit/lib/python3.11/site-packages/PIL/JpegImagePlugin.py:642\u001b[0m, in \u001b[0;36m_save\u001b[0;34m(im, fp, filename)\u001b[0m\n\u001b[1;32m    641\u001b[0m     msg \u001b[38;5;241m=\u001b[39m \u001b[38;5;124mf\u001b[39m\u001b[38;5;124m\"\u001b[39m\u001b[38;5;124mcannot write mode \u001b[39m\u001b[38;5;132;01m{\u001b[39;00mim\u001b[38;5;241m.\u001b[39mmode\u001b[38;5;132;01m}\u001b[39;00m\u001b[38;5;124m as JPEG\u001b[39m\u001b[38;5;124m\"\u001b[39m\n\u001b[0;32m--> 642\u001b[0m     \u001b[38;5;28;01mraise\u001b[39;00m \u001b[38;5;167;01mOSError\u001b[39;00m(msg) \u001b[38;5;28;01mfrom\u001b[39;00m \u001b[38;5;21;01me\u001b[39;00m\n\u001b[1;32m    644\u001b[0m info \u001b[38;5;241m=\u001b[39m im\u001b[38;5;241m.\u001b[39mencoderinfo\n",
      "\u001b[0;31mOSError\u001b[0m: cannot write mode RGBA as JPEG",
      "\nThe above exception was the direct cause of the following exception:\n",
      "\u001b[0;31mValueError\u001b[0m                                Traceback (most recent call last)",
      "File \u001b[0;32m~/miniconda3/envs/enefit/lib/python3.11/site-packages/IPython/core/formatters.py:344\u001b[0m, in \u001b[0;36mBaseFormatter.__call__\u001b[0;34m(self, obj)\u001b[0m\n\u001b[1;32m    342\u001b[0m     method \u001b[38;5;241m=\u001b[39m get_real_method(obj, \u001b[38;5;28mself\u001b[39m\u001b[38;5;241m.\u001b[39mprint_method)\n\u001b[1;32m    343\u001b[0m     \u001b[38;5;28;01mif\u001b[39;00m method \u001b[38;5;129;01mis\u001b[39;00m \u001b[38;5;129;01mnot\u001b[39;00m \u001b[38;5;28;01mNone\u001b[39;00m:\n\u001b[0;32m--> 344\u001b[0m         \u001b[38;5;28;01mreturn\u001b[39;00m \u001b[43mmethod\u001b[49m\u001b[43m(\u001b[49m\u001b[43m)\u001b[49m\n\u001b[1;32m    345\u001b[0m     \u001b[38;5;28;01mreturn\u001b[39;00m \u001b[38;5;28;01mNone\u001b[39;00m\n\u001b[1;32m    346\u001b[0m \u001b[38;5;28;01melse\u001b[39;00m:\n",
      "File \u001b[0;32m~/miniconda3/envs/enefit/lib/python3.11/site-packages/PIL/Image.py:661\u001b[0m, in \u001b[0;36mImage._repr_jpeg_\u001b[0;34m(self)\u001b[0m\n\u001b[1;32m    656\u001b[0m \u001b[38;5;28;01mdef\u001b[39;00m \u001b[38;5;21m_repr_jpeg_\u001b[39m(\u001b[38;5;28mself\u001b[39m):\n\u001b[1;32m    657\u001b[0m \u001b[38;5;250m    \u001b[39m\u001b[38;5;124;03m\"\"\"iPython display hook support for JPEG format.\u001b[39;00m\n\u001b[1;32m    658\u001b[0m \n\u001b[1;32m    659\u001b[0m \u001b[38;5;124;03m    :returns: JPEG version of the image as bytes\u001b[39;00m\n\u001b[1;32m    660\u001b[0m \u001b[38;5;124;03m    \"\"\"\u001b[39;00m\n\u001b[0;32m--> 661\u001b[0m     \u001b[38;5;28;01mreturn\u001b[39;00m \u001b[38;5;28;43mself\u001b[39;49m\u001b[38;5;241;43m.\u001b[39;49m\u001b[43m_repr_image\u001b[49m\u001b[43m(\u001b[49m\u001b[38;5;124;43m\"\u001b[39;49m\u001b[38;5;124;43mJPEG\u001b[39;49m\u001b[38;5;124;43m\"\u001b[39;49m\u001b[43m)\u001b[49m\n",
      "File \u001b[0;32m~/miniconda3/envs/enefit/lib/python3.11/site-packages/PIL/Image.py:646\u001b[0m, in \u001b[0;36mImage._repr_image\u001b[0;34m(self, image_format, **kwargs)\u001b[0m\n\u001b[1;32m    644\u001b[0m \u001b[38;5;28;01mexcept\u001b[39;00m \u001b[38;5;167;01mException\u001b[39;00m \u001b[38;5;28;01mas\u001b[39;00m e:\n\u001b[1;32m    645\u001b[0m     msg \u001b[38;5;241m=\u001b[39m \u001b[38;5;124mf\u001b[39m\u001b[38;5;124m\"\u001b[39m\u001b[38;5;124mCould not save to \u001b[39m\u001b[38;5;132;01m{\u001b[39;00mimage_format\u001b[38;5;132;01m}\u001b[39;00m\u001b[38;5;124m for display\u001b[39m\u001b[38;5;124m\"\u001b[39m\n\u001b[0;32m--> 646\u001b[0m     \u001b[38;5;28;01mraise\u001b[39;00m \u001b[38;5;167;01mValueError\u001b[39;00m(msg) \u001b[38;5;28;01mfrom\u001b[39;00m \u001b[38;5;21;01me\u001b[39;00m\n\u001b[1;32m    647\u001b[0m \u001b[38;5;28;01mreturn\u001b[39;00m b\u001b[38;5;241m.\u001b[39mgetvalue()\n",
      "\u001b[0;31mValueError\u001b[0m: Could not save to JPEG for display"
     ]
    },
    {
     "data": {
      "image/png": "[encoded data removed]",
      "text/plain": [
       "<PIL.PngImagePlugin.PngImageFile image mode=RGBA size=640x1070>"
      ]
     },
     "execution_count": 35,
     "metadata": {},
     "output_type": "execute_result"
    }
   ],
   "source": [
    "mlflow.artifacts.load_image(artifact_uri=artifact_uri+\"/feature_importance_weight.png\")"
   ]
  }
 ],
 "metadata": {
  "kernelspec": {
   "display_name": "enefit",
   "language": "python",
   "name": "python3"
  },
  "language_info": {
   "codemirror_mode": {
    "name": "ipython",
    "version": 3
   },
   "file_extension": ".py",
   "mimetype": "text/x-python",
   "name": "python",
   "nbconvert_exporter": "python",
   "pygments_lexer": "ipython3",
   "version": "3.11.0"
  }
 },
 "nbformat": 4,
 "nbformat_minor": 2
}
