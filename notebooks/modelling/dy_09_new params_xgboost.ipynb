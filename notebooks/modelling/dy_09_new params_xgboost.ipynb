{
 "cells": [
  {
   "cell_type": "code",
   "execution_count": 1,
   "metadata": {},
   "outputs": [
    {
     "name": "stderr",
     "output_type": "stream",
     "text": [
      "/Users/dylantartarini/miniconda3/envs/enefit/lib/python3.11/site-packages/tqdm/auto.py:21: TqdmWarning: IProgress not found. Please update jupyter and ipywidgets. See https://ipywidgets.readthedocs.io/en/stable/user_install.html\n",
      "  from .autonotebook import tqdm as notebook_tqdm\n"
     ]
    }
   ],
   "source": [
    "import numpy as np \n",
    "import pandas as pd \n",
    "import mlflow\n",
    "import mlflow.xgboost\n",
    "from mlflow.models import infer_signature\n",
    "from mlflow.tracking import MlflowClient\n",
    "from sklearn.model_selection import TimeSeriesSplit\n",
    "from sktime.performance_metrics.forecasting import (MeanAbsoluteScaledError, \n",
    "    MeanAbsolutePercentageError, MeanAbsoluteError, MeanSquaredError)\n",
    "from xgboost import XGBRegressor\n",
    "\n",
    "import optuna\n",
    "from optuna.integration.mlflow import MLflowCallback\n",
    "import joblib\n",
    "\n",
    "from typing import Optional, Dict, Tuple, Literal\n",
    "from enefit_challenge.models.forecaster import Forecaster\n",
    "\n",
    "import warnings\n",
    "warnings.filterwarnings('ignore')\n",
    "\n",
    "\n",
    "TRACKING_URI = \"http://127.0.0.1:5000/\" # local tracking URI -> launch mlflow before training \n"
   ]
  },
  {
   "cell_type": "markdown",
   "metadata": {},
   "source": [
    "In this notebook we're going to do two things:\n",
    "1. inform the XGBoostForecaster of the uselessness of some features, according to previous model's iteration feature importance \n",
    "2. define a new subset of parameters to run experiments on, according to mlflow's parallel coordinates chart\n"
   ]
  },
  {
   "cell_type": "code",
   "execution_count": 2,
   "metadata": {},
   "outputs": [],
   "source": [
    "from enefit_challenge.utils.dataset import load_enefit_training_data\n",
    "not_feature_columns = ['datetime', 'row_id','prediction_unit_id','date','time', 'data_block_id']\n",
    "cat_columns = ['county', 'product_type']\n",
    "to_drop_cols = [\n",
    "    '10_metre_u_wind_component_mean_f',\n",
    "    '10_metre_v_wind_component_min_f',\n",
    "    'cloudcover_low_mean_f',\n",
    "    'dayofweek_sine',\n",
    "    'direct_solar_radiation_max_f',\n",
    "    'eic_count',\n",
    "    'euros_per_mwh', # not sure about this one\n",
    "    'hour_sine',\n",
    "    'temperature_min_f',\n",
    "    'total_precipitation_max_f',\n",
    "    'week_sine',\n",
    "    '10_metre_u_wind_component_min_f',\n",
    "    '10_metre_v_wind_component_max_f',\n",
    "    '10_metre_v_wind_component_std_f',\n",
    "    'cloudcover_high_mean_f',\n",
    "    'cloudcover_high_std_f',\n",
    "    'cloudcover_low_min_f',\n",
    "    'cloudcover_low_std_f',\n",
    "    'cloudcover_mid_std_f',\n",
    "    'cloudcover_total_std_f',\n",
    "    'county_12', # find a way to drop\n",
    "    'county_3', # find a way to drop\n",
    "    'county_9', # find a way to drop\n",
    "    'direct_solar_radiation_min_f',\n",
    "    'direct_solar_radiation_std_f',\n",
    "    'highest_price_per_mwh', # not sure about this one\n",
    "    # 'installed_capacity', #this one should alpo be dropped?\n",
    "    'month_cosine',\n",
    "    'product_type_3', # find a way to drop\n",
    "    'snowfall_max_f',\n",
    "    'temperature_std_f',\n",
    "    'total_precipitation_min_f',\n",
    "    'total_precipitation_std_f',\n",
    "    # 'year'\n",
    "]\n",
    "df_train = load_enefit_training_data()"
   ]
  },
  {
   "cell_type": "code",
   "execution_count": 5,
   "metadata": {},
   "outputs": [],
   "source": [
    "class XGBoostForecaster(Forecaster):\n",
    "    \"\"\"\n",
    "        Implementation of a Forecaster using `XGBRegressor` as base model, \n",
    "        `optuna` for hyperparameters optimization and `mlflow` as backend to track experiments\n",
    "        and register best-in-class model for time series prediction.\n",
    "    \"\"\"\n",
    "    def __init__(self)-> None:\n",
    "        self.tracking_uri = mlflow.set_tracking_uri(TRACKING_URI)\n",
    "        pass\n",
    "\n",
    "    def fit_model(\n",
    "        self,  \n",
    "        X:pd.DataFrame,\n",
    "        y:pd.Series,\n",
    "        params:Optional[Dict]=None,\n",
    "    ) -> XGBRegressor:\n",
    "        \"\"\"\n",
    "        Trains a `XGBRegressor`\n",
    "\n",
    "        -------     \n",
    "        params:\n",
    "        -------\n",
    "        `X`:`pd.DataFrame`\n",
    "            Features to use for fitting\n",
    "        `y`:`pd.Series`\n",
    "            Target variable\n",
    "        `params`: `Optional[Dict]`\n",
    "            optional dictionary of parameters to use\n",
    "        -------     \n",
    "        returns:\n",
    "        -------\n",
    "        fitted `XGBRegressor`\n",
    "        \"\"\"\n",
    "        model = XGBRegressor(\n",
    "            n_estimators=100, \n",
    "            objective='reg:squarederror',\n",
    "            eval_metric='mae'\n",
    "        )\n",
    "        if params:\n",
    "            model.set_params(**params)\n",
    "\n",
    "        model.fit(X, y)\n",
    "    \n",
    "        return model\n",
    "    \n",
    "    def fit_and_test_fold(\n",
    "        self, \n",
    "        params:Dict,\n",
    "        X: pd.DataFrame, \n",
    "        y: pd.Series, \n",
    "        year_month_train, \n",
    "        year_month_test,\n",
    "        experiment_name: str=\"xgboost\",\n",
    "        artifact_path: str=\"xgboost_model\",\n",
    "        metrics: list=[\"mae\"]\n",
    "    ) -> float:\n",
    "        \"\"\"\n",
    "        Used for cross validation on different time splits; \n",
    "        also in charge of logging every experiment run / study trial into the backend.\n",
    "        \"\"\"\n",
    "        \n",
    "        first_dates_month = pd.to_datetime(X[['year', 'month']].assign(day=1))\n",
    "        train_index = first_dates_month.isin(year_month_train)\n",
    "        test_index = first_dates_month.isin(year_month_test)\n",
    "\n",
    "        X_train = X[train_index]\n",
    "        X_test = X[test_index]\n",
    "        y_train = y[train_index]\n",
    "        y_test = y[test_index]\n",
    "\n",
    "        # fit model on training data\n",
    "        mlflow.xgboost.autolog(log_datasets=False, log_models=False)\n",
    "        model = self.fit_model(\n",
    "            X_train, \n",
    "            y_train, \n",
    "            params\n",
    "        )\n",
    "        \n",
    "        # generate predictions\n",
    "        y_test_pred = model.predict(X_test)\n",
    "        self.signature = infer_signature(X_train, y_test_pred)\n",
    "        MAE = MeanAbsoluteError()\n",
    "        mae = MAE(y_test, y_test_pred)\n",
    "        MASE = MeanAbsoluteScaledError()\n",
    "        mase = MASE(y_test, y_test_pred, y_train=y_train)\n",
    "        MAPE = MeanAbsolutePercentageError()\n",
    "        mape = MAPE(y_test, y_test_pred)\n",
    "        MSE = MeanSquaredError()\n",
    "        mse = MSE(y_test, y_test_pred)\n",
    "        RMSE = MeanSquaredError(square_root=True)\n",
    "        rmse = RMSE(y_test, y_test_pred)\n",
    "\n",
    "        mlflow.xgboost.log_model(\n",
    "            model, \n",
    "            artifact_path=artifact_path,\n",
    "            signature=self.signature\n",
    "        )\n",
    "        mlflow.log_params(params)\n",
    "\n",
    "        return mae, mase, mse, rmse, mape\n",
    "\n",
    "    def train_model(\n",
    "        self, \n",
    "        train_df: pd.DataFrame, \n",
    "        target_col: str,\n",
    "        model_name: str,\n",
    "        exclude_cols: list=[],\n",
    "        categorical_features: list=[],\n",
    "        experiment_name: str=\"xgboost\",\n",
    "        artifact_path: str=\"xgboost_model\",\n",
    "        params: Optional[Dict]=None\n",
    "    ) -> None:\n",
    "        \"\"\" \n",
    "        Takes an instance of `XGBRegressor` model and tracks the hyperparameter tuning\n",
    "        experiment on training set using `mlflow` and `optuna`.  \n",
    "        Registers the best version of the model according to a specified metric (to be implemented).\n",
    "        \n",
    "        -------     \n",
    "        params:\n",
    "        -------\n",
    "        `experiment_name`: `str`\n",
    "            the name of the experiment used to store runs in mlflow, \n",
    "            as well as the name of the optuna study\n",
    "        `model_name`: `str`\n",
    "            the name the final model will have in the registry\n",
    "        `train_df`: `pd.DataFrame`\n",
    "            the training data for the model.\n",
    "        `target_col`: `str`\n",
    "            the time-series target column\n",
    "        `exclude_cols`: `list`  \n",
    "            columns in dataset that should not be used\n",
    "        `categorical_features`: `list`\n",
    "            list of categorical features in the dataset\n",
    "        `artifact_path`: `str`\n",
    "            the path pointing to the mlflow artifact\n",
    "        `params`: `Optional[Dict]`\n",
    "            optional dictionary of parameters to use\n",
    "        \"\"\"\n",
    "        self.model_name = model_name\n",
    "\n",
    "        if len(categorical_features) > 0: \n",
    "           train_df = pd.get_dummies(train_df, columns=categorical_features)\n",
    "\n",
    "        X = train_df.drop([target_col] + exclude_cols, axis=1)\n",
    "        y = train_df[target_col]\n",
    "        # unique year-month combinations -> to be used in cross-validation\n",
    "        timesteps = np.sort(np.array(\n",
    "            pd.to_datetime(X[['year', 'month']].assign(day=1)).unique().tolist()\n",
    "        ))\n",
    "        \n",
    "        # define mlflow callback Handler for optuna \n",
    "        mlflc = MLflowCallback(\n",
    "            metric_name=[\"MAE\"]\n",
    "        )\n",
    "    \n",
    "        @mlflc.track_in_mlflow() # decorator to allow mlflow logging\n",
    "        def objective(trial):\n",
    "            params = {\n",
    "                'eval_metric': 'mae',\n",
    "                'n_estimators': trial.suggest_int('n_estimators', 50, 200, log=True),\n",
    "                'eta': trial.suggest_float('eta', 0.01, 0.2,log=True),\n",
    "                'num_leaves': trial.suggest_int('num_leaves', 20, 50, log=True),\n",
    "                'max_depth': trial.suggest_int('max_depth', 1, 15, log=True),\n",
    "                # 'min_child_weight': trial.suggest_int('min_child_weight', 1, 25, log=True),\n",
    "                'min_child_weight': trial.suggest_float('min_child_weight', 0.005, 0.05, log=True),\n",
    "                'colsample_bytree': trial.suggest_float(\"colsample_bytree\", 0.5, 1, log=True),\n",
    "                'colsample_bylevel': trial.suggest_float(\"colsample_bylevel\", 0.5, 1, log=True),\n",
    "                'colsample_bynode': trial.suggest_float(\"colsample_bynode\", 0.5, 1, log=True),\n",
    "                'subsample': trial.suggest_float(\"subsample\", 0.5, 0.85, log=True),\n",
    "                'lambda': trial.suggest_float('lambda', 1, 5, log=True),\n",
    "                'alpha': trial.suggest_float('alpha', 1e-3, 0.3, log=True),\n",
    "                'num_boost_round': trial.suggest_int('num_boost_round', 10, 100, log=True)\n",
    "\n",
    "            }\n",
    "            cv = TimeSeriesSplit(n_splits=3) # cross validation\n",
    "            cv_mae = [None]*3\n",
    "            cv_mase = [None]*3\n",
    "            cv_mse = [None]*3\n",
    "            cv_rmse = [None]*3\n",
    "            cv_mape = [None]*3\n",
    "            for i, (train_index, test_index) in enumerate(cv.split(timesteps)):\n",
    "                cv_mae[i], cv_mase[i], cv_mse[i], cv_rmse[i], cv_mape[i] = self.fit_and_test_fold(\n",
    "                    params,\n",
    "                    X, \n",
    "                    y, \n",
    "                    timesteps[train_index], \n",
    "                    timesteps[test_index]\n",
    "                )\n",
    "            trial.set_user_attr('split_mae', cv_mae)\n",
    "            trial.set_user_attr('split_mase', cv_mase)\n",
    "            trial.set_user_attr('split_mse', cv_mse)\n",
    "            trial.set_user_attr('split_rmse', cv_rmse)\n",
    "            trial.set_user_attr('split_mape', cv_mape)\n",
    "\n",
    "            mlflow.log_metrics(\n",
    "                {\n",
    "                    \"MAE\":np.mean(cv_mae),\n",
    "                    \"MASE\": np.mean(cv_mase),\n",
    "                    \"MSE\": np.mean(cv_mse),\n",
    "                    \"RMSE\":np.mean(cv_rmse),\n",
    "                    \"MAPE\":np.mean(cv_mape)\n",
    "                }\n",
    "            )\n",
    "            return np.mean(cv_mae) \n",
    "\n",
    "        \n",
    "        sampler = optuna.samplers.TPESampler(\n",
    "            n_startup_trials=10, \n",
    "            seed=0\n",
    "        )\n",
    "\n",
    "        self.study = optuna.create_study(\n",
    "            directions=['minimize'],\n",
    "            sampler=sampler,\n",
    "            study_name=experiment_name\n",
    "        )\n",
    "\n",
    "        self.study.optimize(objective, n_trials=100, timeout= 7200, callbacks=[mlflc]) \n",
    "        \n",
    "        # # search for the best run at the end of the experiment # not implemented now bc of callback bug\n",
    "        # best_run = mlflow.search_runs(max_results=1,order_by=[\"metrics.MAE\"]).run_id\n",
    "        # # register new model version in mlflow\n",
    "        # self.result = mlflow.register_model(\n",
    "        #     model_uri=f\"runs:/{best_run}/{artifact_path}\",\n",
    "        #     name=self.model_name\n",
    "        # )\n",
    "\n",
    "    def forecast(\n",
    "        self, \n",
    "        input_data: pd.DataFrame,\n",
    "        use_best_from_run: bool=True,\n",
    "        use_env_model: Literal[\"Staging\", \"Production\", None]=None,\n",
    "        use_version: int=None\n",
    "        ) -> pd.DataFrame:\n",
    "        \"\"\" \n",
    "        Fetches a version of the model from the mlflow backend and uses it\n",
    "        to perform prediction on new input data.  \n",
    "        What version is used depends on params settings, \n",
    "        defaults to using the best version from the last experiment run (currently not implemented). \n",
    "        -------     \n",
    "        params:\n",
    "        -------\n",
    "        `input_data`: `pd.DataFrame`\n",
    "            the input data for prediction,\n",
    "              must have the same schema as what's in the model's signature.\n",
    "        `use_best_from_run`: `bool=True`      \n",
    "            use the best model from the current series of iterations, defaults to True\n",
    "        `use_env_model`: `Literal[\"Staging\", \"Production\", None]=None`\n",
    "            use model from a given mlflow environment, defaults to None.  \n",
    "            Said model might come from past iterations, depending on what you decide in the UI\n",
    "        `use_version`: `int=None`\n",
    "            use a previously trained version of the model. \n",
    "            Said version must have been registered from a previous iteration,  \n",
    "            either by the UI or with mlflow's API\n",
    "        \"\"\"\n",
    "        if use_best_from_run:\n",
    "            # not implemented now bc of callback bug\n",
    "            use_prod_model=None\n",
    "            use_version=None\n",
    "        \n",
    "            # model = mlflow.pyfunc.load_model(\n",
    "            #     model_uri=f\"models:/{self.model_name}/{self.result.version}\"\n",
    "            # )\n",
    "            # y_pred = model.predict(input_data)\n",
    "            # return y_pred\n",
    "        \n",
    "        if use_env_model is not None:\n",
    "            use_version = None\n",
    "\n",
    "            model = mlflow.pyfunc.load_model(\n",
    "                # get registered model in given environment\n",
    "                model_uri=f\"models:/{self.model_name}/{use_env_model}\"\n",
    "            )\n",
    "            y_pred = model.predict(input_data)\n",
    "            return y_pred\n",
    "\n",
    "        if use_version is not None:\n",
    "            # get specific registered version of model\n",
    "            model = mlflow.pyfunc.load_model(\n",
    "                model_uri=f\"models:/{self.model_name}/{use_version}\"\n",
    "            )\n",
    "            y_pred = model.predict(input_data)\n",
    "            return y_pred\n",
    "\n",
    "        \n",
    "        if (not use_best_from_run) & (use_env_model is None) & (use_version is None):\n",
    "            return ValueError(\n",
    "                    \"You must specify which kind of XGBoostForecaster you intend to use for prediction\"\n",
    "            )\n",
    "        "
   ]
  },
  {
   "cell_type": "code",
   "execution_count": 6,
   "metadata": {},
   "outputs": [
    {
     "name": "stderr",
     "output_type": "stream",
     "text": [
      "[I 2023-12-09 20:23:38,209] A new study created in memory with name: xgboost\n"
     ]
    },
    {
     "name": "stdout",
     "output_type": "stream",
     "text": [
      "[20:23:40] WARNING: /Users/runner/miniforge3/conda-bld/xgboost-split_1697107917112/work/src/learner.cc:767: \n",
      "Parameters: { \"num_boost_round\", \"num_leaves\" } are not used.\n",
      "\n"
     ]
    },
    {
     "name": "stderr",
     "output_type": "stream",
     "text": [
      "2023/12/09 20:23:51 WARNING mlflow.utils.autologging_utils: Encountered unexpected error during xgboost autologging: The following failures occurred while performing one or more logging operations: [MlflowException('Failed to perform one or more operations on the run with ID 19e7208b57a54e678c17bf7f738629cf. Failed operations: [RestException(\"INVALID_PARAMETER_VALUE: Duplicate parameter keys have been submitted: [\\'num_boost_round\\']. Please ensure the request contains only one param value per param key.\")]')]\n"
     ]
    },
    {
     "name": "stdout",
     "output_type": "stream",
     "text": [
      "[20:23:59] WARNING: /Users/runner/miniforge3/conda-bld/xgboost-split_1697107917112/work/src/learner.cc:767: \n",
      "Parameters: { \"num_boost_round\", \"num_leaves\" } are not used.\n",
      "\n"
     ]
    },
    {
     "name": "stderr",
     "output_type": "stream",
     "text": [
      "2023/12/09 20:24:23 WARNING mlflow.utils.autologging_utils: Encountered unexpected error during xgboost autologging: The following failures occurred while performing one or more logging operations: [MlflowException('Failed to perform one or more operations on the run with ID 19e7208b57a54e678c17bf7f738629cf. Failed operations: [RestException(\"INVALID_PARAMETER_VALUE: Duplicate parameter keys have been submitted: [\\'num_boost_round\\']. Please ensure the request contains only one param value per param key.\")]')]\n"
     ]
    },
    {
     "name": "stdout",
     "output_type": "stream",
     "text": [
      "[20:24:34] WARNING: /Users/runner/miniforge3/conda-bld/xgboost-split_1697107917112/work/src/learner.cc:767: \n",
      "Parameters: { \"num_boost_round\", \"num_leaves\" } are not used.\n",
      "\n"
     ]
    },
    {
     "name": "stderr",
     "output_type": "stream",
     "text": [
      "2023/12/09 20:25:14 WARNING mlflow.utils.autologging_utils: Encountered unexpected error during xgboost autologging: The following failures occurred while performing one or more logging operations: [MlflowException('Failed to perform one or more operations on the run with ID 19e7208b57a54e678c17bf7f738629cf. Failed operations: [RestException(\"INVALID_PARAMETER_VALUE: Duplicate parameter keys have been submitted: [\\'num_boost_round\\']. Please ensure the request contains only one param value per param key.\")]')]\n",
      "[I 2023-12-09 20:25:17,587] Trial 0 finished with value: 74.21961758109495 and parameters: {'n_estimators': 107, 'eta': 0.0852084800119005, 'num_leaves': 35, 'max_depth': 3, 'min_child_weight': 0.013262481883797379, 'colsample_bytree': 0.7823543585516992, 'colsample_bylevel': 0.6771687072426534, 'colsample_bynode': 0.927727492754704, 'subsample': 0.8337676643570948, 'lambda': 1.8535918876696789, 'alpha': 0.09145320282946535, 'num_boost_round': 33}. Best is trial 0 with value: 74.21961758109495.\n"
     ]
    },
    {
     "name": "stdout",
     "output_type": "stream",
     "text": [
      "[20:25:19] WARNING: /Users/runner/miniforge3/conda-bld/xgboost-split_1697107917112/work/src/learner.cc:767: \n",
      "Parameters: { \"num_boost_round\", \"num_leaves\" } are not used.\n",
      "\n"
     ]
    },
    {
     "name": "stderr",
     "output_type": "stream",
     "text": [
      "2023/12/09 20:25:26 WARNING mlflow.utils.autologging_utils: Encountered unexpected error during xgboost autologging: The following failures occurred while performing one or more logging operations: [MlflowException('Failed to perform one or more operations on the run with ID 28f2df27079a4cecad4350931a464e3b. Failed operations: [RestException(\"INVALID_PARAMETER_VALUE: Duplicate parameter keys have been submitted: [\\'num_boost_round\\']. Please ensure the request contains only one param value per param key.\")]')]\n"
     ]
    },
    {
     "name": "stdout",
     "output_type": "stream",
     "text": [
      "[20:25:33] WARNING: /Users/runner/miniforge3/conda-bld/xgboost-split_1697107917112/work/src/learner.cc:767: \n",
      "Parameters: { \"num_boost_round\", \"num_leaves\" } are not used.\n",
      "\n"
     ]
    },
    {
     "name": "stderr",
     "output_type": "stream",
     "text": [
      "2023/12/09 20:25:47 WARNING mlflow.utils.autologging_utils: Encountered unexpected error during xgboost autologging: The following failures occurred while performing one or more logging operations: [MlflowException('Failed to perform one or more operations on the run with ID 28f2df27079a4cecad4350931a464e3b. Failed operations: [RestException(\"INVALID_PARAMETER_VALUE: Duplicate parameter keys have been submitted: [\\'num_boost_round\\']. Please ensure the request contains only one param value per param key.\")]')]\n"
     ]
    },
    {
     "name": "stdout",
     "output_type": "stream",
     "text": [
      "[20:25:57] WARNING: /Users/runner/miniforge3/conda-bld/xgboost-split_1697107917112/work/src/learner.cc:767: \n",
      "Parameters: { \"num_boost_round\", \"num_leaves\" } are not used.\n",
      "\n"
     ]
    },
    {
     "name": "stderr",
     "output_type": "stream",
     "text": [
      "2023/12/09 20:26:18 WARNING mlflow.utils.autologging_utils: Encountered unexpected error during xgboost autologging: The following failures occurred while performing one or more logging operations: [MlflowException('Failed to perform one or more operations on the run with ID 28f2df27079a4cecad4350931a464e3b. Failed operations: [RestException(\"INVALID_PARAMETER_VALUE: Duplicate parameter keys have been submitted: [\\'num_boost_round\\']. Please ensure the request contains only one param value per param key.\")]')]\n",
      "[I 2023-12-09 20:26:21,730] Trial 1 finished with value: 69.36982801817199 and parameters: {'n_estimators': 110, 'eta': 0.1600401649423368, 'num_leaves': 21, 'max_depth': 1, 'min_child_weight': 0.005238276295543259, 'colsample_bytree': 0.8904582312865974, 'colsample_bylevel': 0.8574691968694658, 'colsample_bynode': 0.9138391452005719, 'subsample': 0.8404106469670313, 'lambda': 3.6189940167672225, 'alpha': 0.013904018496653065, 'num_boost_round': 60}. Best is trial 1 with value: 69.36982801817199.\n"
     ]
    },
    {
     "name": "stdout",
     "output_type": "stream",
     "text": [
      "[20:26:23] WARNING: /Users/runner/miniforge3/conda-bld/xgboost-split_1697107917112/work/src/learner.cc:767: \n",
      "Parameters: { \"num_boost_round\", \"num_leaves\" } are not used.\n",
      "\n"
     ]
    },
    {
     "name": "stderr",
     "output_type": "stream",
     "text": [
      "2023/12/09 20:26:58 WARNING mlflow.utils.autologging_utils: Encountered unexpected error during xgboost autologging: The following failures occurred while performing one or more logging operations: [MlflowException('Failed to perform one or more operations on the run with ID 42349dfe9fe84eef900a51a33f080110. Failed operations: [RestException(\"INVALID_PARAMETER_VALUE: Duplicate parameter keys have been submitted: [\\'num_boost_round\\']. Please ensure the request contains only one param value per param key.\")]')]\n"
     ]
    },
    {
     "name": "stdout",
     "output_type": "stream",
     "text": [
      "[20:27:05] WARNING: /Users/runner/miniforge3/conda-bld/xgboost-split_1697107917112/work/src/learner.cc:767: \n",
      "Parameters: { \"num_boost_round\", \"num_leaves\" } are not used.\n",
      "\n"
     ]
    },
    {
     "name": "stderr",
     "output_type": "stream",
     "text": [
      "2023/12/09 20:28:13 WARNING mlflow.utils.autologging_utils: Encountered unexpected error during xgboost autologging: The following failures occurred while performing one or more logging operations: [MlflowException('Failed to perform one or more operations on the run with ID 42349dfe9fe84eef900a51a33f080110. Failed operations: [RestException(\"INVALID_PARAMETER_VALUE: Duplicate parameter keys have been submitted: [\\'num_boost_round\\']. Please ensure the request contains only one param value per param key.\")]')]\n"
     ]
    },
    {
     "name": "stdout",
     "output_type": "stream",
     "text": [
      "[20:28:24] WARNING: /Users/runner/miniforge3/conda-bld/xgboost-split_1697107917112/work/src/learner.cc:767: \n",
      "Parameters: { \"num_boost_round\", \"num_leaves\" } are not used.\n",
      "\n"
     ]
    },
    {
     "name": "stderr",
     "output_type": "stream",
     "text": [
      "2023/12/09 20:30:09 WARNING mlflow.utils.autologging_utils: Encountered unexpected error during xgboost autologging: The following failures occurred while performing one or more logging operations: [MlflowException('Failed to perform one or more operations on the run with ID 42349dfe9fe84eef900a51a33f080110. Failed operations: [RestException(\"INVALID_PARAMETER_VALUE: Duplicate parameter keys have been submitted: [\\'num_boost_round\\']. Please ensure the request contains only one param value per param key.\")]')]\n",
      "[I 2023-12-09 20:30:12,987] Trial 2 finished with value: 65.39810648719116 and parameters: {'n_estimators': 58, 'eta': 0.0680074425948075, 'num_leaves': 22, 'max_depth': 13, 'min_child_weight': 0.01662716957700292, 'colsample_bytree': 0.6664931440119483, 'colsample_bylevel': 0.6006329855602266, 'colsample_bynode': 0.855140683364535, 'subsample': 0.6369265554942778, 'lambda': 2.4964236009425522, 'alpha': 0.001113126735774396, 'num_boost_round': 41}. Best is trial 2 with value: 65.39810648719116.\n"
     ]
    },
    {
     "name": "stdout",
     "output_type": "stream",
     "text": [
      "[20:30:15] WARNING: /Users/runner/miniforge3/conda-bld/xgboost-split_1697107917112/work/src/learner.cc:767: \n",
      "Parameters: { \"num_boost_round\", \"num_leaves\" } are not used.\n",
      "\n"
     ]
    },
    {
     "name": "stderr",
     "output_type": "stream",
     "text": [
      "2023/12/09 20:30:34 WARNING mlflow.utils.autologging_utils: Encountered unexpected error during xgboost autologging: The following failures occurred while performing one or more logging operations: [MlflowException('Failed to perform one or more operations on the run with ID 3aabbc6f30dd4c07874a46d616c134bf. Failed operations: [RestException(\"INVALID_PARAMETER_VALUE: Duplicate parameter keys have been submitted: [\\'num_boost_round\\']. Please ensure the request contains only one param value per param key.\")]')]\n"
     ]
    },
    {
     "name": "stdout",
     "output_type": "stream",
     "text": [
      "[20:30:42] WARNING: /Users/runner/miniforge3/conda-bld/xgboost-split_1697107917112/work/src/learner.cc:767: \n",
      "Parameters: { \"num_boost_round\", \"num_leaves\" } are not used.\n",
      "\n"
     ]
    },
    {
     "name": "stderr",
     "output_type": "stream",
     "text": [
      "2023/12/09 20:31:19 WARNING mlflow.utils.autologging_utils: Encountered unexpected error during xgboost autologging: The following failures occurred while performing one or more logging operations: [MlflowException('Failed to perform one or more operations on the run with ID 3aabbc6f30dd4c07874a46d616c134bf. Failed operations: [RestException(\"INVALID_PARAMETER_VALUE: Duplicate parameter keys have been submitted: [\\'num_boost_round\\']. Please ensure the request contains only one param value per param key.\")]')]\n"
     ]
    },
    {
     "name": "stdout",
     "output_type": "stream",
     "text": [
      "[20:31:30] WARNING: /Users/runner/miniforge3/conda-bld/xgboost-split_1697107917112/work/src/learner.cc:767: \n",
      "Parameters: { \"num_boost_round\", \"num_leaves\" } are not used.\n",
      "\n"
     ]
    },
    {
     "name": "stderr",
     "output_type": "stream",
     "text": [
      "2023/12/09 20:32:25 WARNING mlflow.utils.autologging_utils: Encountered unexpected error during xgboost autologging: The following failures occurred while performing one or more logging operations: [MlflowException('Failed to perform one or more operations on the run with ID 3aabbc6f30dd4c07874a46d616c134bf. Failed operations: [RestException(\"INVALID_PARAMETER_VALUE: Duplicate parameter keys have been submitted: [\\'num_boost_round\\']. Please ensure the request contains only one param value per param key.\")]')]\n",
      "[I 2023-12-09 20:32:28,560] Trial 3 finished with value: 69.08721710496938 and parameters: {'n_estimators': 117, 'eta': 0.06348185887563147, 'num_leaves': 48, 'max_depth': 5, 'min_child_weight': 0.011441366694389216, 'colsample_bytree': 0.6769081319858106, 'colsample_bylevel': 0.8109198291795944, 'colsample_bynode': 0.5213143476797423, 'subsample': 0.7122388755449923, 'lambda': 2.9427661691816076, 'alpha': 0.003320038452123586, 'num_boost_round': 13}. Best is trial 2 with value: 65.39810648719116.\n"
     ]
    },
    {
     "name": "stdout",
     "output_type": "stream",
     "text": [
      "[20:32:30] WARNING: /Users/runner/miniforge3/conda-bld/xgboost-split_1697107917112/work/src/learner.cc:767: \n",
      "Parameters: { \"num_boost_round\", \"num_leaves\" } are not used.\n",
      "\n"
     ]
    },
    {
     "name": "stderr",
     "output_type": "stream",
     "text": [
      "2023/12/09 20:32:34 WARNING mlflow.utils.autologging_utils: Encountered unexpected error during xgboost autologging: The following failures occurred while performing one or more logging operations: [MlflowException('Failed to perform one or more operations on the run with ID 533ecfee38ac496b8a562f6a6fa9ffa8. Failed operations: [RestException(\"INVALID_PARAMETER_VALUE: Duplicate parameter keys have been submitted: [\\'num_boost_round\\']. Please ensure the request contains only one param value per param key.\")]')]\n"
     ]
    },
    {
     "name": "stdout",
     "output_type": "stream",
     "text": [
      "[20:32:42] WARNING: /Users/runner/miniforge3/conda-bld/xgboost-split_1697107917112/work/src/learner.cc:767: \n",
      "Parameters: { \"num_boost_round\", \"num_leaves\" } are not used.\n",
      "\n"
     ]
    },
    {
     "name": "stderr",
     "output_type": "stream",
     "text": [
      "2023/12/09 20:32:49 WARNING mlflow.utils.autologging_utils: Encountered unexpected error during xgboost autologging: The following failures occurred while performing one or more logging operations: [MlflowException('Failed to perform one or more operations on the run with ID 533ecfee38ac496b8a562f6a6fa9ffa8. Failed operations: [RestException(\"INVALID_PARAMETER_VALUE: Duplicate parameter keys have been submitted: [\\'num_boost_round\\']. Please ensure the request contains only one param value per param key.\")]')]\n"
     ]
    },
    {
     "name": "stdout",
     "output_type": "stream",
     "text": [
      "[20:33:00] WARNING: /Users/runner/miniforge3/conda-bld/xgboost-split_1697107917112/work/src/learner.cc:767: \n",
      "Parameters: { \"num_boost_round\", \"num_leaves\" } are not used.\n",
      "\n"
     ]
    },
    {
     "name": "stderr",
     "output_type": "stream",
     "text": [
      "2023/12/09 20:33:12 WARNING mlflow.utils.autologging_utils: Encountered unexpected error during xgboost autologging: The following failures occurred while performing one or more logging operations: [MlflowException('Failed to perform one or more operations on the run with ID 533ecfee38ac496b8a562f6a6fa9ffa8. Failed operations: [RestException(\"INVALID_PARAMETER_VALUE: Duplicate parameter keys have been submitted: [\\'num_boost_round\\']. Please ensure the request contains only one param value per param key.\")]')]\n",
      "[I 2023-12-09 20:33:15,183] Trial 4 finished with value: 186.34674705771235 and parameters: {'n_estimators': 77, 'eta': 0.029730254214469846, 'num_leaves': 34, 'max_depth': 2, 'min_child_weight': 0.04867924595922444, 'colsample_bytree': 0.5366468114259128, 'colsample_bylevel': 0.5778939839016665, 'colsample_bynode': 0.5591508736543648, 'subsample': 0.7070955653003829, 'lambda': 1.5032916061630732, 'alpha': 0.014292504142041416, 'num_boost_round': 17}. Best is trial 2 with value: 65.39810648719116.\n"
     ]
    },
    {
     "name": "stdout",
     "output_type": "stream",
     "text": [
      "[20:33:17] WARNING: /Users/runner/miniforge3/conda-bld/xgboost-split_1697107917112/work/src/learner.cc:767: \n",
      "Parameters: { \"num_boost_round\", \"num_leaves\" } are not used.\n",
      "\n"
     ]
    },
    {
     "name": "stderr",
     "output_type": "stream",
     "text": [
      "2023/12/09 20:33:19 WARNING mlflow.utils.autologging_utils: Encountered unexpected error during xgboost autologging: The following failures occurred while performing one or more logging operations: [MlflowException('Failed to perform one or more operations on the run with ID 76f1108993054ae3bb10ea32abaf7fec. Failed operations: [RestException(\"INVALID_PARAMETER_VALUE: Duplicate parameter keys have been submitted: [\\'num_boost_round\\']. Please ensure the request contains only one param value per param key.\")]')]\n"
     ]
    },
    {
     "name": "stdout",
     "output_type": "stream",
     "text": [
      "[20:33:26] WARNING: /Users/runner/miniforge3/conda-bld/xgboost-split_1697107917112/work/src/learner.cc:767: \n",
      "Parameters: { \"num_boost_round\", \"num_leaves\" } are not used.\n",
      "\n"
     ]
    },
    {
     "name": "stderr",
     "output_type": "stream",
     "text": [
      "2023/12/09 20:33:33 WARNING mlflow.utils.autologging_utils: Encountered unexpected error during xgboost autologging: The following failures occurred while performing one or more logging operations: [MlflowException('Failed to perform one or more operations on the run with ID 76f1108993054ae3bb10ea32abaf7fec. Failed operations: [RestException(\"INVALID_PARAMETER_VALUE: Duplicate parameter keys have been submitted: [\\'num_boost_round\\']. Please ensure the request contains only one param value per param key.\")]')]\n"
     ]
    },
    {
     "name": "stdout",
     "output_type": "stream",
     "text": [
      "[20:33:41] WARNING: /Users/runner/miniforge3/conda-bld/xgboost-split_1697107917112/work/src/learner.cc:767: \n",
      "Parameters: { \"num_boost_round\", \"num_leaves\" } are not used.\n",
      "\n"
     ]
    },
    {
     "name": "stderr",
     "output_type": "stream",
     "text": [
      "2023/12/09 20:33:49 WARNING mlflow.utils.autologging_utils: Encountered unexpected error during xgboost autologging: The following failures occurred while performing one or more logging operations: [MlflowException('Failed to perform one or more operations on the run with ID 76f1108993054ae3bb10ea32abaf7fec. Failed operations: [RestException(\"INVALID_PARAMETER_VALUE: Duplicate parameter keys have been submitted: [\\'num_boost_round\\']. Please ensure the request contains only one param value per param key.\")]')]\n",
      "[I 2023-12-09 20:33:51,720] Trial 5 finished with value: 251.1402980762397 and parameters: {'n_estimators': 62, 'eta': 0.013918786377459125, 'num_leaves': 36, 'max_depth': 1, 'min_child_weight': 0.007862349874524862, 'colsample_bytree': 0.6456056773742822, 'colsample_bylevel': 0.8833109063482121, 'colsample_bynode': 0.5348110858445883, 'subsample': 0.7799621081234663, 'lambda': 1.167266185341007, 'alpha': 0.2623061633047539, 'num_boost_round': 29}. Best is trial 2 with value: 65.39810648719116.\n"
     ]
    },
    {
     "name": "stdout",
     "output_type": "stream",
     "text": [
      "[20:33:53] WARNING: /Users/runner/miniforge3/conda-bld/xgboost-split_1697107917112/work/src/learner.cc:767: \n",
      "Parameters: { \"num_boost_round\", \"num_leaves\" } are not used.\n",
      "\n"
     ]
    },
    {
     "name": "stderr",
     "output_type": "stream",
     "text": [
      "2023/12/09 20:34:00 WARNING mlflow.utils.autologging_utils: Encountered unexpected error during xgboost autologging: The following failures occurred while performing one or more logging operations: [MlflowException('Failed to perform one or more operations on the run with ID 2a7bf12ce7a448cbaa49ae20a5d0ee42. Failed operations: [RestException(\"INVALID_PARAMETER_VALUE: Duplicate parameter keys have been submitted: [\\'num_boost_round\\']. Please ensure the request contains only one param value per param key.\")]')]\n"
     ]
    },
    {
     "name": "stdout",
     "output_type": "stream",
     "text": [
      "[20:34:07] WARNING: /Users/runner/miniforge3/conda-bld/xgboost-split_1697107917112/work/src/learner.cc:767: \n",
      "Parameters: { \"num_boost_round\", \"num_leaves\" } are not used.\n",
      "\n"
     ]
    },
    {
     "name": "stderr",
     "output_type": "stream",
     "text": [
      "2023/12/09 20:34:20 WARNING mlflow.utils.autologging_utils: Encountered unexpected error during xgboost autologging: The following failures occurred while performing one or more logging operations: [MlflowException('Failed to perform one or more operations on the run with ID 2a7bf12ce7a448cbaa49ae20a5d0ee42. Failed operations: [RestException(\"INVALID_PARAMETER_VALUE: Duplicate parameter keys have been submitted: [\\'num_boost_round\\']. Please ensure the request contains only one param value per param key.\")]')]\n"
     ]
    },
    {
     "name": "stdout",
     "output_type": "stream",
     "text": [
      "[20:34:31] WARNING: /Users/runner/miniforge3/conda-bld/xgboost-split_1697107917112/work/src/learner.cc:767: \n",
      "Parameters: { \"num_boost_round\", \"num_leaves\" } are not used.\n",
      "\n"
     ]
    },
    {
     "name": "stderr",
     "output_type": "stream",
     "text": [
      "2023/12/09 20:34:51 WARNING mlflow.utils.autologging_utils: Encountered unexpected error during xgboost autologging: The following failures occurred while performing one or more logging operations: [MlflowException('Failed to perform one or more operations on the run with ID 2a7bf12ce7a448cbaa49ae20a5d0ee42. Failed operations: [RestException(\"INVALID_PARAMETER_VALUE: Duplicate parameter keys have been submitted: [\\'num_boost_round\\']. Please ensure the request contains only one param value per param key.\")]')]\n",
      "[I 2023-12-09 20:34:55,023] Trial 6 finished with value: 134.27611267019458 and parameters: {'n_estimators': 194, 'eta': 0.061224065356728224, 'num_leaves': 39, 'max_depth': 1, 'min_child_weight': 0.009589080552597848, 'colsample_bytree': 0.5434414678644279, 'colsample_bylevel': 0.6139274990089134, 'colsample_bynode': 0.5428884586974831, 'subsample': 0.5919007428790783, 'lambda': 1.9478585099575567, 'alpha': 0.0014417870706860906, 'num_boost_round': 49}. Best is trial 2 with value: 65.39810648719116.\n"
     ]
    },
    {
     "name": "stdout",
     "output_type": "stream",
     "text": [
      "[20:34:57] WARNING: /Users/runner/miniforge3/conda-bld/xgboost-split_1697107917112/work/src/learner.cc:767: \n",
      "Parameters: { \"num_boost_round\", \"num_leaves\" } are not used.\n",
      "\n"
     ]
    },
    {
     "name": "stderr",
     "output_type": "stream",
     "text": [
      "2023/12/09 20:35:03 WARNING mlflow.utils.autologging_utils: Encountered unexpected error during xgboost autologging: The following failures occurred while performing one or more logging operations: [MlflowException('Failed to perform one or more operations on the run with ID 61f88e58b9504980b6e6c2694e197df2. Failed operations: [RestException(\"INVALID_PARAMETER_VALUE: Duplicate parameter keys have been submitted: [\\'num_boost_round\\']. Please ensure the request contains only one param value per param key.\")]')]\n"
     ]
    },
    {
     "name": "stdout",
     "output_type": "stream",
     "text": [
      "[20:35:10] WARNING: /Users/runner/miniforge3/conda-bld/xgboost-split_1697107917112/work/src/learner.cc:767: \n",
      "Parameters: { \"num_boost_round\", \"num_leaves\" } are not used.\n",
      "\n"
     ]
    },
    {
     "name": "stderr",
     "output_type": "stream",
     "text": [
      "2023/12/09 20:35:23 WARNING mlflow.utils.autologging_utils: Encountered unexpected error during xgboost autologging: The following failures occurred while performing one or more logging operations: [MlflowException('Failed to perform one or more operations on the run with ID 61f88e58b9504980b6e6c2694e197df2. Failed operations: [RestException(\"INVALID_PARAMETER_VALUE: Duplicate parameter keys have been submitted: [\\'num_boost_round\\']. Please ensure the request contains only one param value per param key.\")]')]\n"
     ]
    },
    {
     "name": "stdout",
     "output_type": "stream",
     "text": [
      "[20:35:33] WARNING: /Users/runner/miniforge3/conda-bld/xgboost-split_1697107917112/work/src/learner.cc:767: \n",
      "Parameters: { \"num_boost_round\", \"num_leaves\" } are not used.\n",
      "\n"
     ]
    },
    {
     "name": "stderr",
     "output_type": "stream",
     "text": [
      "2023/12/09 20:35:51 WARNING mlflow.utils.autologging_utils: Encountered unexpected error during xgboost autologging: The following failures occurred while performing one or more logging operations: [MlflowException('Failed to perform one or more operations on the run with ID 61f88e58b9504980b6e6c2694e197df2. Failed operations: [RestException(\"INVALID_PARAMETER_VALUE: Duplicate parameter keys have been submitted: [\\'num_boost_round\\']. Please ensure the request contains only one param value per param key.\")]')]\n",
      "[I 2023-12-09 20:35:54,974] Trial 7 finished with value: 178.76846442626518 and parameters: {'n_estimators': 109, 'eta': 0.022145204148792185, 'num_leaves': 32, 'max_depth': 1, 'min_child_weight': 0.018832869624325205, 'colsample_bytree': 0.9521733777331496, 'colsample_bylevel': 0.6235464552910756, 'colsample_bynode': 0.794109786286088, 'subsample': 0.5362195940935238, 'lambda': 3.1673147915639985, 'alpha': 0.005210674974448987, 'num_boost_round': 15}. Best is trial 2 with value: 65.39810648719116.\n"
     ]
    },
    {
     "name": "stdout",
     "output_type": "stream",
     "text": [
      "[20:35:56] WARNING: /Users/runner/miniforge3/conda-bld/xgboost-split_1697107917112/work/src/learner.cc:767: \n",
      "Parameters: { \"num_boost_round\", \"num_leaves\" } are not used.\n",
      "\n"
     ]
    },
    {
     "name": "stderr",
     "output_type": "stream",
     "text": [
      "2023/12/09 20:36:03 WARNING mlflow.utils.autologging_utils: Encountered unexpected error during xgboost autologging: The following failures occurred while performing one or more logging operations: [MlflowException('Failed to perform one or more operations on the run with ID e1944ade26cd452981c223201768e1c5. Failed operations: [RestException(\"INVALID_PARAMETER_VALUE: Duplicate parameter keys have been submitted: [\\'num_boost_round\\']. Please ensure the request contains only one param value per param key.\")]')]\n"
     ]
    },
    {
     "name": "stdout",
     "output_type": "stream",
     "text": [
      "[20:36:10] WARNING: /Users/runner/miniforge3/conda-bld/xgboost-split_1697107917112/work/src/learner.cc:767: \n",
      "Parameters: { \"num_boost_round\", \"num_leaves\" } are not used.\n",
      "\n"
     ]
    },
    {
     "name": "stderr",
     "output_type": "stream",
     "text": [
      "2023/12/09 20:36:23 WARNING mlflow.utils.autologging_utils: Encountered unexpected error during xgboost autologging: The following failures occurred while performing one or more logging operations: [MlflowException('Failed to perform one or more operations on the run with ID e1944ade26cd452981c223201768e1c5. Failed operations: [RestException(\"INVALID_PARAMETER_VALUE: Duplicate parameter keys have been submitted: [\\'num_boost_round\\']. Please ensure the request contains only one param value per param key.\")]')]\n"
     ]
    },
    {
     "name": "stdout",
     "output_type": "stream",
     "text": [
      "[20:36:33] WARNING: /Users/runner/miniforge3/conda-bld/xgboost-split_1697107917112/work/src/learner.cc:767: \n",
      "Parameters: { \"num_boost_round\", \"num_leaves\" } are not used.\n",
      "\n"
     ]
    },
    {
     "name": "stderr",
     "output_type": "stream",
     "text": [
      "2023/12/09 20:36:53 WARNING mlflow.utils.autologging_utils: Encountered unexpected error during xgboost autologging: The following failures occurred while performing one or more logging operations: [MlflowException('Failed to perform one or more operations on the run with ID e1944ade26cd452981c223201768e1c5. Failed operations: [RestException(\"INVALID_PARAMETER_VALUE: Duplicate parameter keys have been submitted: [\\'num_boost_round\\']. Please ensure the request contains only one param value per param key.\")]')]\n",
      "[I 2023-12-09 20:36:56,645] Trial 8 finished with value: 227.23854660824233 and parameters: {'n_estimators': 112, 'eta': 0.010620880458242912, 'num_leaves': 43, 'max_depth': 1, 'min_child_weight': 0.023811488298829155, 'colsample_bytree': 0.6029072458607467, 'colsample_bylevel': 0.832310661222824, 'colsample_bynode': 0.9741315690084619, 'subsample': 0.5705515610461719, 'lambda': 2.5276485850383943, 'alpha': 0.029279230026843694, 'num_boost_round': 37}. Best is trial 2 with value: 65.39810648719116.\n"
     ]
    },
    {
     "name": "stdout",
     "output_type": "stream",
     "text": [
      "[20:36:58] WARNING: /Users/runner/miniforge3/conda-bld/xgboost-split_1697107917112/work/src/learner.cc:767: \n",
      "Parameters: { \"num_boost_round\", \"num_leaves\" } are not used.\n",
      "\n"
     ]
    },
    {
     "name": "stderr",
     "output_type": "stream",
     "text": [
      "2023/12/09 20:37:22 WARNING mlflow.utils.autologging_utils: Encountered unexpected error during xgboost autologging: The following failures occurred while performing one or more logging operations: [MlflowException('Failed to perform one or more operations on the run with ID 9287b675d3a84871b741994d54bd6f47. Failed operations: [RestException(\"INVALID_PARAMETER_VALUE: Duplicate parameter keys have been submitted: [\\'num_boost_round\\']. Please ensure the request contains only one param value per param key.\")]')]\n"
     ]
    },
    {
     "name": "stdout",
     "output_type": "stream",
     "text": [
      "[20:37:28] WARNING: /Users/runner/miniforge3/conda-bld/xgboost-split_1697107917112/work/src/learner.cc:767: \n",
      "Parameters: { \"num_boost_round\", \"num_leaves\" } are not used.\n",
      "\n"
     ]
    },
    {
     "name": "stderr",
     "output_type": "stream",
     "text": [
      "2023/12/09 20:38:14 WARNING mlflow.utils.autologging_utils: Encountered unexpected error during xgboost autologging: The following failures occurred while performing one or more logging operations: [MlflowException('Failed to perform one or more operations on the run with ID 9287b675d3a84871b741994d54bd6f47. Failed operations: [RestException(\"INVALID_PARAMETER_VALUE: Duplicate parameter keys have been submitted: [\\'num_boost_round\\']. Please ensure the request contains only one param value per param key.\")]')]\n"
     ]
    },
    {
     "name": "stdout",
     "output_type": "stream",
     "text": [
      "[20:38:22] WARNING: /Users/runner/miniforge3/conda-bld/xgboost-split_1697107917112/work/src/learner.cc:767: \n",
      "Parameters: { \"num_boost_round\", \"num_leaves\" } are not used.\n",
      "\n"
     ]
    },
    {
     "name": "stderr",
     "output_type": "stream",
     "text": [
      "2023/12/09 20:39:32 WARNING mlflow.utils.autologging_utils: Encountered unexpected error during xgboost autologging: The following failures occurred while performing one or more logging operations: [MlflowException('Failed to perform one or more operations on the run with ID 9287b675d3a84871b741994d54bd6f47. Failed operations: [RestException(\"INVALID_PARAMETER_VALUE: Duplicate parameter keys have been submitted: [\\'num_boost_round\\']. Please ensure the request contains only one param value per param key.\")]')]\n",
      "[I 2023-12-09 20:39:35,268] Trial 9 finished with value: 71.35351135048388 and parameters: {'n_estimators': 68, 'eta': 0.17360212716263085, 'num_leaves': 30, 'max_depth': 9, 'min_child_weight': 0.02502933318952759, 'colsample_bytree': 0.6144795702398115, 'colsample_bylevel': 0.8789163803210955, 'colsample_bynode': 0.6581579412165022, 'subsample': 0.7980301246382817, 'lambda': 2.5485449760487855, 'alpha': 0.15281479595830605, 'num_boost_round': 49}. Best is trial 2 with value: 65.39810648719116.\n"
     ]
    },
    {
     "name": "stdout",
     "output_type": "stream",
     "text": [
      "[20:39:37] WARNING: /Users/runner/miniforge3/conda-bld/xgboost-split_1697107917112/work/src/learner.cc:767: \n",
      "Parameters: { \"num_boost_round\", \"num_leaves\" } are not used.\n",
      "\n"
     ]
    },
    {
     "name": "stderr",
     "output_type": "stream",
     "text": [
      "2023/12/09 20:40:01 WARNING mlflow.utils.autologging_utils: Encountered unexpected error during xgboost autologging: The following failures occurred while performing one or more logging operations: [MlflowException('Failed to perform one or more operations on the run with ID 93a0eaeab5d94c9a9a2f15fe6e1ef8de. Failed operations: [RestException(\"INVALID_PARAMETER_VALUE: Duplicate parameter keys have been submitted: [\\'num_boost_round\\']. Please ensure the request contains only one param value per param key.\")]')]\n"
     ]
    },
    {
     "name": "stdout",
     "output_type": "stream",
     "text": [
      "[20:40:08] WARNING: /Users/runner/miniforge3/conda-bld/xgboost-split_1697107917112/work/src/learner.cc:767: \n",
      "Parameters: { \"num_boost_round\", \"num_leaves\" } are not used.\n",
      "\n"
     ]
    },
    {
     "name": "stderr",
     "output_type": "stream",
     "text": [
      "2023/12/09 20:40:55 WARNING mlflow.utils.autologging_utils: Encountered unexpected error during xgboost autologging: The following failures occurred while performing one or more logging operations: [MlflowException('Failed to perform one or more operations on the run with ID 93a0eaeab5d94c9a9a2f15fe6e1ef8de. Failed operations: [RestException(\"INVALID_PARAMETER_VALUE: Duplicate parameter keys have been submitted: [\\'num_boost_round\\']. Please ensure the request contains only one param value per param key.\")]')]\n"
     ]
    },
    {
     "name": "stdout",
     "output_type": "stream",
     "text": [
      "[20:41:06] WARNING: /Users/runner/miniforge3/conda-bld/xgboost-split_1697107917112/work/src/learner.cc:767: \n",
      "Parameters: { \"num_boost_round\", \"num_leaves\" } are not used.\n",
      "\n"
     ]
    },
    {
     "name": "stderr",
     "output_type": "stream",
     "text": [
      "2023/12/09 20:42:18 WARNING mlflow.utils.autologging_utils: Encountered unexpected error during xgboost autologging: The following failures occurred while performing one or more logging operations: [MlflowException('Failed to perform one or more operations on the run with ID 93a0eaeab5d94c9a9a2f15fe6e1ef8de. Failed operations: [RestException(\"INVALID_PARAMETER_VALUE: Duplicate parameter keys have been submitted: [\\'num_boost_round\\']. Please ensure the request contains only one param value per param key.\")]')]\n",
      "[I 2023-12-09 20:42:22,155] Trial 10 finished with value: 82.45111243980237 and parameters: {'n_estimators': 51, 'eta': 0.03732589945027681, 'num_leaves': 20, 'max_depth': 12, 'min_child_weight': 0.016460417875141176, 'colsample_bytree': 0.7649230276579344, 'colsample_bylevel': 0.5210066192341496, 'colsample_bynode': 0.7822162619902188, 'subsample': 0.503474083085769, 'lambda': 4.95130545833295, 'alpha': 0.0010272216554409119, 'num_boost_round': 96}. Best is trial 2 with value: 65.39810648719116.\n"
     ]
    },
    {
     "name": "stdout",
     "output_type": "stream",
     "text": [
      "[20:42:24] WARNING: /Users/runner/miniforge3/conda-bld/xgboost-split_1697107917112/work/src/learner.cc:767: \n",
      "Parameters: { \"num_boost_round\", \"num_leaves\" } are not used.\n",
      "\n"
     ]
    },
    {
     "name": "stderr",
     "output_type": "stream",
     "text": [
      "2023/12/09 20:42:46 WARNING mlflow.utils.autologging_utils: Encountered unexpected error during xgboost autologging: The following failures occurred while performing one or more logging operations: [MlflowException('Failed to perform one or more operations on the run with ID 83db4d45853d4990bcdbfa2e59728744. Failed operations: [RestException(\"INVALID_PARAMETER_VALUE: Duplicate parameter keys have been submitted: [\\'num_boost_round\\']. Please ensure the request contains only one param value per param key.\")]')]\n"
     ]
    },
    {
     "name": "stdout",
     "output_type": "stream",
     "text": [
      "[20:42:54] WARNING: /Users/runner/miniforge3/conda-bld/xgboost-split_1697107917112/work/src/learner.cc:767: \n",
      "Parameters: { \"num_boost_round\", \"num_leaves\" } are not used.\n",
      "\n"
     ]
    },
    {
     "name": "stderr",
     "output_type": "stream",
     "text": [
      "2023/12/09 20:43:38 WARNING mlflow.utils.autologging_utils: Encountered unexpected error during xgboost autologging: The following failures occurred while performing one or more logging operations: [MlflowException('Failed to perform one or more operations on the run with ID 83db4d45853d4990bcdbfa2e59728744. Failed operations: [RestException(\"INVALID_PARAMETER_VALUE: Duplicate parameter keys have been submitted: [\\'num_boost_round\\']. Please ensure the request contains only one param value per param key.\")]')]\n"
     ]
    },
    {
     "name": "stdout",
     "output_type": "stream",
     "text": [
      "[20:43:46] WARNING: /Users/runner/miniforge3/conda-bld/xgboost-split_1697107917112/work/src/learner.cc:767: \n",
      "Parameters: { \"num_boost_round\", \"num_leaves\" } are not used.\n",
      "\n"
     ]
    },
    {
     "name": "stderr",
     "output_type": "stream",
     "text": [
      "2023/12/09 20:44:53 WARNING mlflow.utils.autologging_utils: Encountered unexpected error during xgboost autologging: The following failures occurred while performing one or more logging operations: [MlflowException('Failed to perform one or more operations on the run with ID 83db4d45853d4990bcdbfa2e59728744. Failed operations: [RestException(\"INVALID_PARAMETER_VALUE: Duplicate parameter keys have been submitted: [\\'num_boost_round\\']. Please ensure the request contains only one param value per param key.\")]')]\n",
      "[I 2023-12-09 20:44:56,453] Trial 11 finished with value: 60.72527026671715 and parameters: {'n_estimators': 84, 'eta': 0.07336893674675242, 'num_leaves': 47, 'max_depth': 7, 'min_child_weight': 0.011385945797196203, 'colsample_bytree': 0.7145025362833867, 'colsample_bylevel': 0.7443262155591703, 'colsample_bynode': 0.6337153584034118, 'subsample': 0.658622676013061, 'lambda': 3.1567887180117213, 'alpha': 0.0028866895295114174, 'num_boost_round': 10}. Best is trial 11 with value: 60.72527026671715.\n"
     ]
    },
    {
     "name": "stdout",
     "output_type": "stream",
     "text": [
      "[20:44:58] WARNING: /Users/runner/miniforge3/conda-bld/xgboost-split_1697107917112/work/src/learner.cc:767: \n",
      "Parameters: { \"num_boost_round\", \"num_leaves\" } are not used.\n",
      "\n"
     ]
    },
    {
     "name": "stderr",
     "output_type": "stream",
     "text": [
      "2023/12/09 20:45:53 WARNING mlflow.utils.autologging_utils: Encountered unexpected error during xgboost autologging: The following failures occurred while performing one or more logging operations: [MlflowException('Failed to perform one or more operations on the run with ID 925922f72f9e4e8e9bc272698396ba1f. Failed operations: [RestException(\"INVALID_PARAMETER_VALUE: Duplicate parameter keys have been submitted: [\\'num_boost_round\\']. Please ensure the request contains only one param value per param key.\")]')]\n"
     ]
    },
    {
     "name": "stdout",
     "output_type": "stream",
     "text": [
      "[20:46:01] WARNING: /Users/runner/miniforge3/conda-bld/xgboost-split_1697107917112/work/src/learner.cc:767: \n",
      "Parameters: { \"num_boost_round\", \"num_leaves\" } are not used.\n",
      "\n"
     ]
    },
    {
     "name": "stderr",
     "output_type": "stream",
     "text": [
      "2023/12/09 20:47:51 WARNING mlflow.utils.autologging_utils: Encountered unexpected error during xgboost autologging: The following failures occurred while performing one or more logging operations: [MlflowException('Failed to perform one or more operations on the run with ID 925922f72f9e4e8e9bc272698396ba1f. Failed operations: [RestException(\"INVALID_PARAMETER_VALUE: Duplicate parameter keys have been submitted: [\\'num_boost_round\\']. Please ensure the request contains only one param value per param key.\")]')]\n"
     ]
    },
    {
     "name": "stdout",
     "output_type": "stream",
     "text": [
      "[20:48:02] WARNING: /Users/runner/miniforge3/conda-bld/xgboost-split_1697107917112/work/src/learner.cc:767: \n",
      "Parameters: { \"num_boost_round\", \"num_leaves\" } are not used.\n",
      "\n"
     ]
    },
    {
     "name": "stderr",
     "output_type": "stream",
     "text": [
      "2023/12/09 20:50:44 WARNING mlflow.utils.autologging_utils: Encountered unexpected error during xgboost autologging: The following failures occurred while performing one or more logging operations: [MlflowException('Failed to perform one or more operations on the run with ID 925922f72f9e4e8e9bc272698396ba1f. Failed operations: [RestException(\"INVALID_PARAMETER_VALUE: Duplicate parameter keys have been submitted: [\\'num_boost_round\\']. Please ensure the request contains only one param value per param key.\")]')]\n",
      "[I 2023-12-09 20:50:48,740] Trial 12 finished with value: 66.21113488173319 and parameters: {'n_estimators': 81, 'eta': 0.09447241616712686, 'num_leaves': 50, 'max_depth': 15, 'min_child_weight': 0.008117806505164044, 'colsample_bytree': 0.7232766633199973, 'colsample_bylevel': 0.73114167894088, 'colsample_bynode': 0.6603146058760216, 'subsample': 0.6419022283125216, 'lambda': 3.8513015547333063, 'alpha': 0.002468936186237245, 'num_boost_round': 10}. Best is trial 11 with value: 60.72527026671715.\n"
     ]
    },
    {
     "name": "stdout",
     "output_type": "stream",
     "text": [
      "[20:50:50] WARNING: /Users/runner/miniforge3/conda-bld/xgboost-split_1697107917112/work/src/learner.cc:767: \n",
      "Parameters: { \"num_boost_round\", \"num_leaves\" } are not used.\n",
      "\n"
     ]
    },
    {
     "name": "stderr",
     "output_type": "stream",
     "text": [
      "2023/12/09 20:51:08 WARNING mlflow.utils.autologging_utils: Encountered unexpected error during xgboost autologging: The following failures occurred while performing one or more logging operations: [MlflowException('Failed to perform one or more operations on the run with ID 013af8756b4f493994fd4f3ac0ec5acd. Failed operations: [RestException(\"INVALID_PARAMETER_VALUE: Duplicate parameter keys have been submitted: [\\'num_boost_round\\']. Please ensure the request contains only one param value per param key.\")]')]\n"
     ]
    },
    {
     "name": "stdout",
     "output_type": "stream",
     "text": [
      "[20:51:16] WARNING: /Users/runner/miniforge3/conda-bld/xgboost-split_1697107917112/work/src/learner.cc:767: \n",
      "Parameters: { \"num_boost_round\", \"num_leaves\" } are not used.\n",
      "\n"
     ]
    },
    {
     "name": "stderr",
     "output_type": "stream",
     "text": [
      "2023/12/09 20:51:49 WARNING mlflow.utils.autologging_utils: Encountered unexpected error during xgboost autologging: The following failures occurred while performing one or more logging operations: [MlflowException('Failed to perform one or more operations on the run with ID 013af8756b4f493994fd4f3ac0ec5acd. Failed operations: [RestException(\"INVALID_PARAMETER_VALUE: Duplicate parameter keys have been submitted: [\\'num_boost_round\\']. Please ensure the request contains only one param value per param key.\")]')]\n"
     ]
    },
    {
     "name": "stdout",
     "output_type": "stream",
     "text": [
      "[20:51:59] WARNING: /Users/runner/miniforge3/conda-bld/xgboost-split_1697107917112/work/src/learner.cc:767: \n",
      "Parameters: { \"num_boost_round\", \"num_leaves\" } are not used.\n",
      "\n"
     ]
    },
    {
     "name": "stderr",
     "output_type": "stream",
     "text": [
      "2023/12/09 20:52:48 WARNING mlflow.utils.autologging_utils: Encountered unexpected error during xgboost autologging: The following failures occurred while performing one or more logging operations: [MlflowException('Failed to perform one or more operations on the run with ID 013af8756b4f493994fd4f3ac0ec5acd. Failed operations: [RestException(\"INVALID_PARAMETER_VALUE: Duplicate parameter keys have been submitted: [\\'num_boost_round\\']. Please ensure the request contains only one param value per param key.\")]')]\n",
      "[I 2023-12-09 20:52:52,279] Trial 13 finished with value: 66.07304937474561 and parameters: {'n_estimators': 55, 'eta': 0.049438770505900904, 'num_leaves': 27, 'max_depth': 8, 'min_child_weight': 0.013389831548208388, 'colsample_bytree': 0.7140198096784515, 'colsample_bylevel': 0.7399359532653926, 'colsample_bynode': 0.6115200349602469, 'subsample': 0.6317077065978414, 'lambda': 2.1998128693442114, 'alpha': 0.0010346236858936539, 'num_boost_round': 22}. Best is trial 11 with value: 60.72527026671715.\n"
     ]
    },
    {
     "name": "stdout",
     "output_type": "stream",
     "text": [
      "[20:52:54] WARNING: /Users/runner/miniforge3/conda-bld/xgboost-split_1697107917112/work/src/learner.cc:767: \n",
      "Parameters: { \"num_boost_round\", \"num_leaves\" } are not used.\n",
      "\n"
     ]
    },
    {
     "name": "stderr",
     "output_type": "stream",
     "text": [
      "2023/12/09 20:53:12 WARNING mlflow.utils.autologging_utils: Encountered unexpected error during xgboost autologging: The following failures occurred while performing one or more logging operations: [MlflowException('Failed to perform one or more operations on the run with ID 97c105dd60574aff934cee49565319b2. Failed operations: [RestException(\"INVALID_PARAMETER_VALUE: Duplicate parameter keys have been submitted: [\\'num_boost_round\\']. Please ensure the request contains only one param value per param key.\")]')]\n"
     ]
    },
    {
     "name": "stdout",
     "output_type": "stream",
     "text": [
      "[20:53:18] WARNING: /Users/runner/miniforge3/conda-bld/xgboost-split_1697107917112/work/src/learner.cc:767: \n",
      "Parameters: { \"num_boost_round\", \"num_leaves\" } are not used.\n",
      "\n"
     ]
    },
    {
     "name": "stderr",
     "output_type": "stream",
     "text": [
      "2023/12/09 20:53:52 WARNING mlflow.utils.autologging_utils: Encountered unexpected error during xgboost autologging: The following failures occurred while performing one or more logging operations: [MlflowException('Failed to perform one or more operations on the run with ID 97c105dd60574aff934cee49565319b2. Failed operations: [RestException(\"INVALID_PARAMETER_VALUE: Duplicate parameter keys have been submitted: [\\'num_boost_round\\']. Please ensure the request contains only one param value per param key.\")]')]\n"
     ]
    },
    {
     "name": "stdout",
     "output_type": "stream",
     "text": [
      "[20:54:00] WARNING: /Users/runner/miniforge3/conda-bld/xgboost-split_1697107917112/work/src/learner.cc:767: \n",
      "Parameters: { \"num_boost_round\", \"num_leaves\" } are not used.\n",
      "\n"
     ]
    },
    {
     "name": "stderr",
     "output_type": "stream",
     "text": [
      "2023/12/09 20:54:52 WARNING mlflow.utils.autologging_utils: Encountered unexpected error during xgboost autologging: The following failures occurred while performing one or more logging operations: [MlflowException('Failed to perform one or more operations on the run with ID 97c105dd60574aff934cee49565319b2. Failed operations: [RestException(\"INVALID_PARAMETER_VALUE: Duplicate parameter keys have been submitted: [\\'num_boost_round\\']. Please ensure the request contains only one param value per param key.\")]')]\n",
      "[I 2023-12-09 20:54:54,923] Trial 14 finished with value: 60.644013865822274 and parameters: {'n_estimators': 50, 'eta': 0.10492751708361128, 'num_leaves': 25, 'max_depth': 6, 'min_child_weight': 0.01908024339910032, 'colsample_bytree': 0.821472910038383, 'colsample_bylevel': 0.9968646983003736, 'colsample_bynode': 0.7517240948747079, 'subsample': 0.6775316728576231, 'lambda': 2.71377254133037, 'alpha': 0.004644102777028686, 'num_boost_round': 10}. Best is trial 14 with value: 60.644013865822274.\n"
     ]
    },
    {
     "name": "stdout",
     "output_type": "stream",
     "text": [
      "[20:54:56] WARNING: /Users/runner/miniforge3/conda-bld/xgboost-split_1697107917112/work/src/learner.cc:767: \n",
      "Parameters: { \"num_boost_round\", \"num_leaves\" } are not used.\n",
      "\n"
     ]
    },
    {
     "name": "stderr",
     "output_type": "stream",
     "text": [
      "2023/12/09 20:55:10 WARNING mlflow.utils.autologging_utils: Encountered unexpected error during xgboost autologging: The following failures occurred while performing one or more logging operations: [MlflowException('Failed to perform one or more operations on the run with ID 77253b92e5e8489098976894addde6ac. Failed operations: [RestException(\"INVALID_PARAMETER_VALUE: Duplicate parameter keys have been submitted: [\\'num_boost_round\\']. Please ensure the request contains only one param value per param key.\")]')]\n"
     ]
    },
    {
     "name": "stdout",
     "output_type": "stream",
     "text": [
      "[20:55:18] WARNING: /Users/runner/miniforge3/conda-bld/xgboost-split_1697107917112/work/src/learner.cc:767: \n",
      "Parameters: { \"num_boost_round\", \"num_leaves\" } are not used.\n",
      "\n"
     ]
    },
    {
     "name": "stderr",
     "output_type": "stream",
     "text": [
      "2023/12/09 20:55:46 WARNING mlflow.utils.autologging_utils: Encountered unexpected error during xgboost autologging: The following failures occurred while performing one or more logging operations: [MlflowException('Failed to perform one or more operations on the run with ID 77253b92e5e8489098976894addde6ac. Failed operations: [RestException(\"INVALID_PARAMETER_VALUE: Duplicate parameter keys have been submitted: [\\'num_boost_round\\']. Please ensure the request contains only one param value per param key.\")]')]\n"
     ]
    },
    {
     "name": "stdout",
     "output_type": "stream",
     "text": [
      "[20:55:57] WARNING: /Users/runner/miniforge3/conda-bld/xgboost-split_1697107917112/work/src/learner.cc:767: \n",
      "Parameters: { \"num_boost_round\", \"num_leaves\" } are not used.\n",
      "\n"
     ]
    },
    {
     "name": "stderr",
     "output_type": "stream",
     "text": [
      "2023/12/09 20:56:39 WARNING mlflow.utils.autologging_utils: Encountered unexpected error during xgboost autologging: The following failures occurred while performing one or more logging operations: [MlflowException('Failed to perform one or more operations on the run with ID 77253b92e5e8489098976894addde6ac. Failed operations: [RestException(\"INVALID_PARAMETER_VALUE: Duplicate parameter keys have been submitted: [\\'num_boost_round\\']. Please ensure the request contains only one param value per param key.\")]')]\n",
      "[I 2023-12-09 20:56:42,277] Trial 15 finished with value: 66.1127480771198 and parameters: {'n_estimators': 50, 'eta': 0.11586200138198756, 'num_leaves': 26, 'max_depth': 5, 'min_child_weight': 0.024336537724432585, 'colsample_bytree': 0.8370528110355261, 'colsample_bylevel': 0.9823442710033603, 'colsample_bynode': 0.7204867906639011, 'subsample': 0.6865345486462743, 'lambda': 3.298311334875506, 'alpha': 0.0058874328944636175, 'num_boost_round': 10}. Best is trial 14 with value: 60.644013865822274.\n"
     ]
    },
    {
     "name": "stdout",
     "output_type": "stream",
     "text": [
      "[20:56:44] WARNING: /Users/runner/miniforge3/conda-bld/xgboost-split_1697107917112/work/src/learner.cc:767: \n",
      "Parameters: { \"num_boost_round\", \"num_leaves\" } are not used.\n",
      "\n"
     ]
    },
    {
     "name": "stderr",
     "output_type": "stream",
     "text": [
      "2023/12/09 20:57:09 WARNING mlflow.utils.autologging_utils: Encountered unexpected error during xgboost autologging: The following failures occurred while performing one or more logging operations: [MlflowException('Failed to perform one or more operations on the run with ID b246ee83062c49d48e7976b674cad678. Failed operations: [RestException(\"INVALID_PARAMETER_VALUE: Duplicate parameter keys have been submitted: [\\'num_boost_round\\']. Please ensure the request contains only one param value per param key.\")]')]\n"
     ]
    },
    {
     "name": "stdout",
     "output_type": "stream",
     "text": [
      "[20:57:17] WARNING: /Users/runner/miniforge3/conda-bld/xgboost-split_1697107917112/work/src/learner.cc:767: \n",
      "Parameters: { \"num_boost_round\", \"num_leaves\" } are not used.\n",
      "\n"
     ]
    },
    {
     "name": "stderr",
     "output_type": "stream",
     "text": [
      "2023/12/09 20:58:06 WARNING mlflow.utils.autologging_utils: Encountered unexpected error during xgboost autologging: The following failures occurred while performing one or more logging operations: [MlflowException('Failed to perform one or more operations on the run with ID b246ee83062c49d48e7976b674cad678. Failed operations: [RestException(\"INVALID_PARAMETER_VALUE: Duplicate parameter keys have been submitted: [\\'num_boost_round\\']. Please ensure the request contains only one param value per param key.\")]')]\n"
     ]
    },
    {
     "name": "stdout",
     "output_type": "stream",
     "text": [
      "[20:58:17] WARNING: /Users/runner/miniforge3/conda-bld/xgboost-split_1697107917112/work/src/learner.cc:767: \n",
      "Parameters: { \"num_boost_round\", \"num_leaves\" } are not used.\n",
      "\n"
     ]
    },
    {
     "name": "stderr",
     "output_type": "stream",
     "text": [
      "2023/12/09 20:59:30 WARNING mlflow.utils.autologging_utils: Encountered unexpected error during xgboost autologging: The following failures occurred while performing one or more logging operations: [MlflowException('Failed to perform one or more operations on the run with ID b246ee83062c49d48e7976b674cad678. Failed operations: [RestException(\"INVALID_PARAMETER_VALUE: Duplicate parameter keys have been submitted: [\\'num_boost_round\\']. Please ensure the request contains only one param value per param key.\")]')]\n",
      "[I 2023-12-09 20:59:33,343] Trial 16 finished with value: 68.55939119189675 and parameters: {'n_estimators': 85, 'eta': 0.10932880242937802, 'num_leaves': 40, 'max_depth': 5, 'min_child_weight': 0.010163424776681114, 'colsample_bytree': 0.828044447606818, 'colsample_bylevel': 0.984357063602346, 'colsample_bynode': 0.7468908890285751, 'subsample': 0.7386053455117382, 'lambda': 4.154817911096072, 'alpha': 0.007162315053468221, 'num_boost_round': 20}. Best is trial 14 with value: 60.644013865822274.\n"
     ]
    },
    {
     "name": "stdout",
     "output_type": "stream",
     "text": [
      "[20:59:35] WARNING: /Users/runner/miniforge3/conda-bld/xgboost-split_1697107917112/work/src/learner.cc:767: \n",
      "Parameters: { \"num_boost_round\", \"num_leaves\" } are not used.\n",
      "\n"
     ]
    },
    {
     "name": "stderr",
     "output_type": "stream",
     "text": [
      "2023/12/09 21:00:00 WARNING mlflow.utils.autologging_utils: Encountered unexpected error during xgboost autologging: The following failures occurred while performing one or more logging operations: [MlflowException('Failed to perform one or more operations on the run with ID cb47f2beecf5443cbc83e0ff9c6c1898. Failed operations: [RestException(\"INVALID_PARAMETER_VALUE: Duplicate parameter keys have been submitted: [\\'num_boost_round\\']. Please ensure the request contains only one param value per param key.\")]')]\n"
     ]
    },
    {
     "name": "stdout",
     "output_type": "stream",
     "text": [
      "[21:00:07] WARNING: /Users/runner/miniforge3/conda-bld/xgboost-split_1697107917112/work/src/learner.cc:767: \n",
      "Parameters: { \"num_boost_round\", \"num_leaves\" } are not used.\n",
      "\n"
     ]
    },
    {
     "name": "stderr",
     "output_type": "stream",
     "text": [
      "2023/12/09 21:00:56 WARNING mlflow.utils.autologging_utils: Encountered unexpected error during xgboost autologging: The following failures occurred while performing one or more logging operations: [MlflowException('Failed to perform one or more operations on the run with ID cb47f2beecf5443cbc83e0ff9c6c1898. Failed operations: [RestException(\"INVALID_PARAMETER_VALUE: Duplicate parameter keys have been submitted: [\\'num_boost_round\\']. Please ensure the request contains only one param value per param key.\")]')]\n"
     ]
    },
    {
     "name": "stdout",
     "output_type": "stream",
     "text": [
      "[21:01:04] WARNING: /Users/runner/miniforge3/conda-bld/xgboost-split_1697107917112/work/src/learner.cc:767: \n",
      "Parameters: { \"num_boost_round\", \"num_leaves\" } are not used.\n",
      "\n"
     ]
    },
    {
     "name": "stderr",
     "output_type": "stream",
     "text": [
      "2023/12/09 21:02:18 WARNING mlflow.utils.autologging_utils: Encountered unexpected error during xgboost autologging: The following failures occurred while performing one or more logging operations: [MlflowException('Failed to perform one or more operations on the run with ID cb47f2beecf5443cbc83e0ff9c6c1898. Failed operations: [RestException(\"INVALID_PARAMETER_VALUE: Duplicate parameter keys have been submitted: [\\'num_boost_round\\']. Please ensure the request contains only one param value per param key.\")]')]\n",
      "[I 2023-12-09 21:02:21,723] Trial 17 finished with value: 67.75128685960865 and parameters: {'n_estimators': 70, 'eta': 0.1328559835573416, 'num_leaves': 24, 'max_depth': 7, 'min_child_weight': 0.03579257532103952, 'colsample_bytree': 0.9890778055206315, 'colsample_bylevel': 0.7719230011053797, 'colsample_bynode': 0.669345587458479, 'subsample': 0.6740706750415567, 'lambda': 3.019050008144237, 'alpha': 0.0026514739272026112, 'num_boost_round': 12}. Best is trial 14 with value: 60.644013865822274.\n"
     ]
    },
    {
     "name": "stdout",
     "output_type": "stream",
     "text": [
      "[21:02:23] WARNING: /Users/runner/miniforge3/conda-bld/xgboost-split_1697107917112/work/src/learner.cc:767: \n",
      "Parameters: { \"num_boost_round\", \"num_leaves\" } are not used.\n",
      "\n"
     ]
    },
    {
     "name": "stderr",
     "output_type": "stream",
     "text": [
      "2023/12/09 21:02:30 WARNING mlflow.utils.autologging_utils: Encountered unexpected error during xgboost autologging: The following failures occurred while performing one or more logging operations: [MlflowException('Failed to perform one or more operations on the run with ID b4ba1ae8676d4ab09cb6bacc73ea1509. Failed operations: [RestException(\"INVALID_PARAMETER_VALUE: Duplicate parameter keys have been submitted: [\\'num_boost_round\\']. Please ensure the request contains only one param value per param key.\")]')]\n"
     ]
    },
    {
     "name": "stdout",
     "output_type": "stream",
     "text": [
      "[21:02:38] WARNING: /Users/runner/miniforge3/conda-bld/xgboost-split_1697107917112/work/src/learner.cc:767: \n",
      "Parameters: { \"num_boost_round\", \"num_leaves\" } are not used.\n",
      "\n"
     ]
    },
    {
     "name": "stderr",
     "output_type": "stream",
     "text": [
      "2023/12/09 21:02:51 WARNING mlflow.utils.autologging_utils: Encountered unexpected error during xgboost autologging: The following failures occurred while performing one or more logging operations: [MlflowException('Failed to perform one or more operations on the run with ID b4ba1ae8676d4ab09cb6bacc73ea1509. Failed operations: [RestException(\"INVALID_PARAMETER_VALUE: Duplicate parameter keys have been submitted: [\\'num_boost_round\\']. Please ensure the request contains only one param value per param key.\")]')]\n"
     ]
    },
    {
     "name": "stdout",
     "output_type": "stream",
     "text": [
      "[21:03:02] WARNING: /Users/runner/miniforge3/conda-bld/xgboost-split_1697107917112/work/src/learner.cc:767: \n",
      "Parameters: { \"num_boost_round\", \"num_leaves\" } are not used.\n",
      "\n"
     ]
    },
    {
     "name": "stderr",
     "output_type": "stream",
     "text": [
      "2023/12/09 21:03:24 WARNING mlflow.utils.autologging_utils: Encountered unexpected error during xgboost autologging: The following failures occurred while performing one or more logging operations: [MlflowException('Failed to perform one or more operations on the run with ID b4ba1ae8676d4ab09cb6bacc73ea1509. Failed operations: [RestException(\"INVALID_PARAMETER_VALUE: Duplicate parameter keys have been submitted: [\\'num_boost_round\\']. Please ensure the request contains only one param value per param key.\")]')]\n",
      "[I 2023-12-09 21:03:27,516] Trial 18 finished with value: 72.06896054160941 and parameters: {'n_estimators': 63, 'eta': 0.08348968920952116, 'num_leaves': 29, 'max_depth': 3, 'min_child_weight': 0.01934867580064877, 'colsample_bytree': 0.7574349427468356, 'colsample_bylevel': 0.6917435965529967, 'colsample_bynode': 0.6063288449534079, 'subsample': 0.6062437445755037, 'lambda': 4.124461553563491, 'alpha': 0.00888373660766146, 'num_boost_round': 10}. Best is trial 14 with value: 60.644013865822274.\n"
     ]
    },
    {
     "name": "stdout",
     "output_type": "stream",
     "text": [
      "[21:03:29] WARNING: /Users/runner/miniforge3/conda-bld/xgboost-split_1697107917112/work/src/learner.cc:767: \n",
      "Parameters: { \"num_boost_round\", \"num_leaves\" } are not used.\n",
      "\n"
     ]
    },
    {
     "name": "stderr",
     "output_type": "stream",
     "text": [
      "2023/12/09 21:04:24 WARNING mlflow.utils.autologging_utils: Encountered unexpected error during xgboost autologging: The following failures occurred while performing one or more logging operations: [MlflowException('Failed to perform one or more operations on the run with ID 4f9e04ae1f6f4d2aae4817ae65a13147. Failed operations: [RestException(\"INVALID_PARAMETER_VALUE: Duplicate parameter keys have been submitted: [\\'num_boost_round\\']. Please ensure the request contains only one param value per param key.\")]')]\n"
     ]
    },
    {
     "name": "stdout",
     "output_type": "stream",
     "text": [
      "[21:04:33] WARNING: /Users/runner/miniforge3/conda-bld/xgboost-split_1697107917112/work/src/learner.cc:767: \n",
      "Parameters: { \"num_boost_round\", \"num_leaves\" } are not used.\n",
      "\n"
     ]
    },
    {
     "name": "stderr",
     "output_type": "stream",
     "text": [
      "2023/12/09 21:06:15 WARNING mlflow.utils.autologging_utils: Encountered unexpected error during xgboost autologging: The following failures occurred while performing one or more logging operations: [MlflowException('Failed to perform one or more operations on the run with ID 4f9e04ae1f6f4d2aae4817ae65a13147. Failed operations: [RestException(\"INVALID_PARAMETER_VALUE: Duplicate parameter keys have been submitted: [\\'num_boost_round\\']. Please ensure the request contains only one param value per param key.\")]')]\n"
     ]
    },
    {
     "name": "stdout",
     "output_type": "stream",
     "text": [
      "[21:06:26] WARNING: /Users/runner/miniforge3/conda-bld/xgboost-split_1697107917112/work/src/learner.cc:767: \n",
      "Parameters: { \"num_boost_round\", \"num_leaves\" } are not used.\n",
      "\n"
     ]
    },
    {
     "name": "stderr",
     "output_type": "stream",
     "text": [
      "2023/12/09 21:09:03 WARNING mlflow.utils.autologging_utils: Encountered unexpected error during xgboost autologging: The following failures occurred while performing one or more logging operations: [MlflowException('Failed to perform one or more operations on the run with ID 4f9e04ae1f6f4d2aae4817ae65a13147. Failed operations: [RestException(\"INVALID_PARAMETER_VALUE: Duplicate parameter keys have been submitted: [\\'num_boost_round\\']. Please ensure the request contains only one param value per param key.\")]')]\n",
      "[I 2023-12-09 21:09:06,622] Trial 19 finished with value: 65.77329628941062 and parameters: {'n_estimators': 91, 'eta': 0.1900947574314544, 'num_leaves': 24, 'max_depth': 10, 'min_child_weight': 0.014267442605814716, 'colsample_bytree': 0.8736693565141035, 'colsample_bylevel': 0.9176894681300116, 'colsample_bynode': 0.7125054523200466, 'subsample': 0.666957616871159, 'lambda': 2.7503156674028606, 'alpha': 0.0037971042355603134, 'num_boost_round': 14}. Best is trial 14 with value: 60.644013865822274.\n"
     ]
    },
    {
     "name": "stdout",
     "output_type": "stream",
     "text": [
      "[21:09:08] WARNING: /Users/runner/miniforge3/conda-bld/xgboost-split_1697107917112/work/src/learner.cc:767: \n",
      "Parameters: { \"num_boost_round\", \"num_leaves\" } are not used.\n",
      "\n"
     ]
    },
    {
     "name": "stderr",
     "output_type": "stream",
     "text": [
      "2023/12/09 21:09:34 WARNING mlflow.utils.autologging_utils: Encountered unexpected error during xgboost autologging: The following failures occurred while performing one or more logging operations: [MlflowException('Failed to perform one or more operations on the run with ID c8f219281fb04083a13312295f1a3380. Failed operations: [RestException(\"INVALID_PARAMETER_VALUE: Duplicate parameter keys have been submitted: [\\'num_boost_round\\']. Please ensure the request contains only one param value per param key.\")]')]\n"
     ]
    },
    {
     "name": "stdout",
     "output_type": "stream",
     "text": [
      "[21:09:42] WARNING: /Users/runner/miniforge3/conda-bld/xgboost-split_1697107917112/work/src/learner.cc:767: \n",
      "Parameters: { \"num_boost_round\", \"num_leaves\" } are not used.\n",
      "\n"
     ]
    },
    {
     "name": "stderr",
     "output_type": "stream",
     "text": [
      "2023/12/09 21:10:33 WARNING mlflow.utils.autologging_utils: Encountered unexpected error during xgboost autologging: The following failures occurred while performing one or more logging operations: [MlflowException('Failed to perform one or more operations on the run with ID c8f219281fb04083a13312295f1a3380. Failed operations: [RestException(\"INVALID_PARAMETER_VALUE: Duplicate parameter keys have been submitted: [\\'num_boost_round\\']. Please ensure the request contains only one param value per param key.\")]')]\n"
     ]
    },
    {
     "name": "stdout",
     "output_type": "stream",
     "text": [
      "[21:10:43] WARNING: /Users/runner/miniforge3/conda-bld/xgboost-split_1697107917112/work/src/learner.cc:767: \n",
      "Parameters: { \"num_boost_round\", \"num_leaves\" } are not used.\n",
      "\n"
     ]
    },
    {
     "name": "stderr",
     "output_type": "stream",
     "text": [
      "2023/12/09 21:12:00 WARNING mlflow.utils.autologging_utils: Encountered unexpected error during xgboost autologging: The following failures occurred while performing one or more logging operations: [MlflowException('Failed to perform one or more operations on the run with ID c8f219281fb04083a13312295f1a3380. Failed operations: [RestException(\"INVALID_PARAMETER_VALUE: Duplicate parameter keys have been submitted: [\\'num_boost_round\\']. Please ensure the request contains only one param value per param key.\")]')]\n",
      "[I 2023-12-09 21:12:04,139] Trial 20 finished with value: 65.24443125516508 and parameters: {'n_estimators': 74, 'eta': 0.13903549806966092, 'num_leaves': 45, 'max_depth': 7, 'min_child_weight': 0.011751168430132288, 'colsample_bytree': 0.814778248733039, 'colsample_bylevel': 0.7759665725228759, 'colsample_bynode': 0.8098550089937336, 'subsample': 0.7372383540102315, 'lambda': 2.2029450108257156, 'alpha': 0.0020372096892814864, 'num_boost_round': 18}. Best is trial 14 with value: 60.644013865822274.\n"
     ]
    },
    {
     "name": "stdout",
     "output_type": "stream",
     "text": [
      "[21:12:06] WARNING: /Users/runner/miniforge3/conda-bld/xgboost-split_1697107917112/work/src/learner.cc:767: \n",
      "Parameters: { \"num_boost_round\", \"num_leaves\" } are not used.\n",
      "\n"
     ]
    },
    {
     "name": "stderr",
     "output_type": "stream",
     "text": [
      "2023/12/09 21:12:33 WARNING mlflow.utils.autologging_utils: Encountered unexpected error during xgboost autologging: The following failures occurred while performing one or more logging operations: [MlflowException('Failed to perform one or more operations on the run with ID c8c975d1dc5d4b409fead1f189e0aa97. Failed operations: [RestException(\"INVALID_PARAMETER_VALUE: Duplicate parameter keys have been submitted: [\\'num_boost_round\\']. Please ensure the request contains only one param value per param key.\")]')]\n"
     ]
    },
    {
     "name": "stdout",
     "output_type": "stream",
     "text": [
      "[21:12:39] WARNING: /Users/runner/miniforge3/conda-bld/xgboost-split_1697107917112/work/src/learner.cc:767: \n",
      "Parameters: { \"num_boost_round\", \"num_leaves\" } are not used.\n",
      "\n"
     ]
    },
    {
     "name": "stderr",
     "output_type": "stream",
     "text": [
      "2023/12/09 21:13:30 WARNING mlflow.utils.autologging_utils: Encountered unexpected error during xgboost autologging: The following failures occurred while performing one or more logging operations: [MlflowException('Failed to perform one or more operations on the run with ID c8c975d1dc5d4b409fead1f189e0aa97. Failed operations: [RestException(\"INVALID_PARAMETER_VALUE: Duplicate parameter keys have been submitted: [\\'num_boost_round\\']. Please ensure the request contains only one param value per param key.\")]')]\n"
     ]
    },
    {
     "name": "stdout",
     "output_type": "stream",
     "text": [
      "[21:13:38] WARNING: /Users/runner/miniforge3/conda-bld/xgboost-split_1697107917112/work/src/learner.cc:767: \n",
      "Parameters: { \"num_boost_round\", \"num_leaves\" } are not used.\n",
      "\n"
     ]
    },
    {
     "name": "stderr",
     "output_type": "stream",
     "text": [
      "2023/12/09 21:14:56 WARNING mlflow.utils.autologging_utils: Encountered unexpected error during xgboost autologging: The following failures occurred while performing one or more logging operations: [MlflowException('Failed to perform one or more operations on the run with ID c8c975d1dc5d4b409fead1f189e0aa97. Failed operations: [RestException(\"INVALID_PARAMETER_VALUE: Duplicate parameter keys have been submitted: [\\'num_boost_round\\']. Please ensure the request contains only one param value per param key.\")]')]\n",
      "[I 2023-12-09 21:14:59,833] Trial 21 finished with value: 66.79413415481369 and parameters: {'n_estimators': 71, 'eta': 0.12875101709426784, 'num_leaves': 45, 'max_depth': 7, 'min_child_weight': 0.011319445618369913, 'colsample_bytree': 0.7892512808544829, 'colsample_bylevel': 0.8013899797833839, 'colsample_bynode': 0.8335640057500598, 'subsample': 0.7464776539343358, 'lambda': 2.2590739674021165, 'alpha': 0.00207991355364586, 'num_boost_round': 17}. Best is trial 14 with value: 60.644013865822274.\n"
     ]
    },
    {
     "name": "stdout",
     "output_type": "stream",
     "text": [
      "[21:15:01] WARNING: /Users/runner/miniforge3/conda-bld/xgboost-split_1697107917112/work/src/learner.cc:767: \n",
      "Parameters: { \"num_boost_round\", \"num_leaves\" } are not used.\n",
      "\n"
     ]
    },
    {
     "name": "stderr",
     "output_type": "stream",
     "text": [
      "2023/12/09 21:15:17 WARNING mlflow.utils.autologging_utils: Encountered unexpected error during xgboost autologging: The following failures occurred while performing one or more logging operations: [MlflowException('Failed to perform one or more operations on the run with ID 6f38b0b2a59144c4b74cde27c4c657a3. Failed operations: [RestException(\"INVALID_PARAMETER_VALUE: Duplicate parameter keys have been submitted: [\\'num_boost_round\\']. Please ensure the request contains only one param value per param key.\")]')]\n"
     ]
    },
    {
     "name": "stdout",
     "output_type": "stream",
     "text": [
      "[21:15:24] WARNING: /Users/runner/miniforge3/conda-bld/xgboost-split_1697107917112/work/src/learner.cc:767: \n",
      "Parameters: { \"num_boost_round\", \"num_leaves\" } are not used.\n",
      "\n"
     ]
    },
    {
     "name": "stderr",
     "output_type": "stream",
     "text": [
      "2023/12/09 21:15:53 WARNING mlflow.utils.autologging_utils: Encountered unexpected error during xgboost autologging: The following failures occurred while performing one or more logging operations: [MlflowException('Failed to perform one or more operations on the run with ID 6f38b0b2a59144c4b74cde27c4c657a3. Failed operations: [RestException(\"INVALID_PARAMETER_VALUE: Duplicate parameter keys have been submitted: [\\'num_boost_round\\']. Please ensure the request contains only one param value per param key.\")]')]\n"
     ]
    },
    {
     "name": "stdout",
     "output_type": "stream",
     "text": [
      "[21:16:03] WARNING: /Users/runner/miniforge3/conda-bld/xgboost-split_1697107917112/work/src/learner.cc:767: \n",
      "Parameters: { \"num_boost_round\", \"num_leaves\" } are not used.\n",
      "\n"
     ]
    },
    {
     "name": "stderr",
     "output_type": "stream",
     "text": [
      "2023/12/09 21:16:47 WARNING mlflow.utils.autologging_utils: Encountered unexpected error during xgboost autologging: The following failures occurred while performing one or more logging operations: [MlflowException('Failed to perform one or more operations on the run with ID 6f38b0b2a59144c4b74cde27c4c657a3. Failed operations: [RestException(\"INVALID_PARAMETER_VALUE: Duplicate parameter keys have been submitted: [\\'num_boost_round\\']. Please ensure the request contains only one param value per param key.\")]')]\n",
      "[I 2023-12-09 21:16:50,623] Trial 22 finished with value: 69.58085480604994 and parameters: {'n_estimators': 57, 'eta': 0.14673703546486566, 'num_leaves': 45, 'max_depth': 6, 'min_child_weight': 0.013833627867312577, 'colsample_bytree': 0.7334119734492467, 'colsample_bylevel': 0.7839703998720731, 'colsample_bynode': 0.74061838504298, 'subsample': 0.7023521655996761, 'lambda': 3.332416654873021, 'alpha': 0.0018058081271339454, 'num_boost_round': 12}. Best is trial 14 with value: 60.644013865822274.\n"
     ]
    },
    {
     "name": "stdout",
     "output_type": "stream",
     "text": [
      "[21:16:52] WARNING: /Users/runner/miniforge3/conda-bld/xgboost-split_1697107917112/work/src/learner.cc:767: \n",
      "Parameters: { \"num_boost_round\", \"num_leaves\" } are not used.\n",
      "\n"
     ]
    },
    {
     "name": "stderr",
     "output_type": "stream",
     "text": [
      "2023/12/09 21:17:09 WARNING mlflow.utils.autologging_utils: Encountered unexpected error during xgboost autologging: The following failures occurred while performing one or more logging operations: [MlflowException('Failed to perform one or more operations on the run with ID 60521711ac2142c490ddd353aa8b349a. Failed operations: [RestException(\"INVALID_PARAMETER_VALUE: Duplicate parameter keys have been submitted: [\\'num_boost_round\\']. Please ensure the request contains only one param value per param key.\")]')]\n"
     ]
    },
    {
     "name": "stdout",
     "output_type": "stream",
     "text": [
      "[21:17:17] WARNING: /Users/runner/miniforge3/conda-bld/xgboost-split_1697107917112/work/src/learner.cc:767: \n",
      "Parameters: { \"num_boost_round\", \"num_leaves\" } are not used.\n",
      "\n"
     ]
    },
    {
     "name": "stderr",
     "output_type": "stream",
     "text": [
      "2023/12/09 21:17:49 WARNING mlflow.utils.autologging_utils: Encountered unexpected error during xgboost autologging: The following failures occurred while performing one or more logging operations: [MlflowException('Failed to perform one or more operations on the run with ID 60521711ac2142c490ddd353aa8b349a. Failed operations: [RestException(\"INVALID_PARAMETER_VALUE: Duplicate parameter keys have been submitted: [\\'num_boost_round\\']. Please ensure the request contains only one param value per param key.\")]')]\n"
     ]
    },
    {
     "name": "stdout",
     "output_type": "stream",
     "text": [
      "[21:18:00] WARNING: /Users/runner/miniforge3/conda-bld/xgboost-split_1697107917112/work/src/learner.cc:767: \n",
      "Parameters: { \"num_boost_round\", \"num_leaves\" } are not used.\n",
      "\n"
     ]
    },
    {
     "name": "stderr",
     "output_type": "stream",
     "text": [
      "2023/12/09 21:18:50 WARNING mlflow.utils.autologging_utils: Encountered unexpected error during xgboost autologging: The following failures occurred while performing one or more logging operations: [MlflowException('Failed to perform one or more operations on the run with ID 60521711ac2142c490ddd353aa8b349a. Failed operations: [RestException(\"INVALID_PARAMETER_VALUE: Duplicate parameter keys have been submitted: [\\'num_boost_round\\']. Please ensure the request contains only one param value per param key.\")]')]\n",
      "[I 2023-12-09 21:18:53,733] Trial 23 finished with value: 70.666854666401 and parameters: {'n_estimators': 75, 'eta': 0.10576974637187002, 'num_leaves': 50, 'max_depth': 4, 'min_child_weight': 0.00808591680010584, 'colsample_bytree': 0.8420189623322859, 'colsample_bylevel': 0.93231116657399, 'colsample_bynode': 0.7893316727939377, 'subsample': 0.6632823508399102, 'lambda': 2.8686857583725756, 'alpha': 0.004095222818845608, 'num_boost_round': 24}. Best is trial 14 with value: 60.644013865822274.\n"
     ]
    },
    {
     "name": "stdout",
     "output_type": "stream",
     "text": [
      "[21:18:55] WARNING: /Users/runner/miniforge3/conda-bld/xgboost-split_1697107917112/work/src/learner.cc:767: \n",
      "Parameters: { \"num_boost_round\", \"num_leaves\" } are not used.\n",
      "\n"
     ]
    },
    {
     "name": "stderr",
     "output_type": "stream",
     "text": [
      "2023/12/09 21:19:33 WARNING mlflow.utils.autologging_utils: Encountered unexpected error during xgboost autologging: The following failures occurred while performing one or more logging operations: [MlflowException('Failed to perform one or more operations on the run with ID b66fb6b1b9d84c329f1fc61fea062113. Failed operations: [RestException(\"INVALID_PARAMETER_VALUE: Duplicate parameter keys have been submitted: [\\'num_boost_round\\']. Please ensure the request contains only one param value per param key.\")]')]\n"
     ]
    },
    {
     "name": "stdout",
     "output_type": "stream",
     "text": [
      "[21:19:40] WARNING: /Users/runner/miniforge3/conda-bld/xgboost-split_1697107917112/work/src/learner.cc:767: \n",
      "Parameters: { \"num_boost_round\", \"num_leaves\" } are not used.\n",
      "\n"
     ]
    },
    {
     "name": "stderr",
     "output_type": "stream",
     "text": [
      "2023/12/09 21:20:54 WARNING mlflow.utils.autologging_utils: Encountered unexpected error during xgboost autologging: The following failures occurred while performing one or more logging operations: [MlflowException('Failed to perform one or more operations on the run with ID b66fb6b1b9d84c329f1fc61fea062113. Failed operations: [RestException(\"INVALID_PARAMETER_VALUE: Duplicate parameter keys have been submitted: [\\'num_boost_round\\']. Please ensure the request contains only one param value per param key.\")]')]\n"
     ]
    },
    {
     "name": "stdout",
     "output_type": "stream",
     "text": [
      "[21:21:05] WARNING: /Users/runner/miniforge3/conda-bld/xgboost-split_1697107917112/work/src/learner.cc:767: \n",
      "Parameters: { \"num_boost_round\", \"num_leaves\" } are not used.\n",
      "\n"
     ]
    },
    {
     "name": "stderr",
     "output_type": "stream",
     "text": [
      "2023/12/09 21:23:06 WARNING mlflow.utils.autologging_utils: Encountered unexpected error during xgboost autologging: The following failures occurred while performing one or more logging operations: [MlflowException('Failed to perform one or more operations on the run with ID b66fb6b1b9d84c329f1fc61fea062113. Failed operations: [RestException(\"INVALID_PARAMETER_VALUE: Duplicate parameter keys have been submitted: [\\'num_boost_round\\']. Please ensure the request contains only one param value per param key.\")]')]\n",
      "[I 2023-12-09 21:23:10,269] Trial 24 finished with value: 59.41067243883818 and parameters: {'n_estimators': 91, 'eta': 0.07661628925742897, 'num_leaves': 40, 'max_depth': 9, 'min_child_weight': 0.020156553574630955, 'colsample_bytree': 0.7923202143562984, 'colsample_bylevel': 0.758938976967269, 'colsample_bynode': 0.6968663657586314, 'subsample': 0.7346335021010747, 'lambda': 2.166448332540871, 'alpha': 0.0019752117120882787, 'num_boost_round': 17}. Best is trial 24 with value: 59.41067243883818.\n"
     ]
    },
    {
     "name": "stdout",
     "output_type": "stream",
     "text": [
      "[21:23:12] WARNING: /Users/runner/miniforge3/conda-bld/xgboost-split_1697107917112/work/src/learner.cc:767: \n",
      "Parameters: { \"num_boost_round\", \"num_leaves\" } are not used.\n",
      "\n"
     ]
    },
    {
     "name": "stderr",
     "output_type": "stream",
     "text": [
      "2023/12/09 21:23:49 WARNING mlflow.utils.autologging_utils: Encountered unexpected error during xgboost autologging: The following failures occurred while performing one or more logging operations: [MlflowException('Failed to perform one or more operations on the run with ID e0e5982bb7cf47378a5afea974bfd429. Failed operations: [RestException(\"INVALID_PARAMETER_VALUE: Duplicate parameter keys have been submitted: [\\'num_boost_round\\']. Please ensure the request contains only one param value per param key.\")]')]\n"
     ]
    },
    {
     "name": "stdout",
     "output_type": "stream",
     "text": [
      "[21:23:56] WARNING: /Users/runner/miniforge3/conda-bld/xgboost-split_1697107917112/work/src/learner.cc:767: \n",
      "Parameters: { \"num_boost_round\", \"num_leaves\" } are not used.\n",
      "\n"
     ]
    },
    {
     "name": "stderr",
     "output_type": "stream",
     "text": [
      "2023/12/09 21:25:09 WARNING mlflow.utils.autologging_utils: Encountered unexpected error during xgboost autologging: The following failures occurred while performing one or more logging operations: [MlflowException('Failed to perform one or more operations on the run with ID e0e5982bb7cf47378a5afea974bfd429. Failed operations: [RestException(\"INVALID_PARAMETER_VALUE: Duplicate parameter keys have been submitted: [\\'num_boost_round\\']. Please ensure the request contains only one param value per param key.\")]')]\n"
     ]
    },
    {
     "name": "stdout",
     "output_type": "stream",
     "text": [
      "[21:25:18] WARNING: /Users/runner/miniforge3/conda-bld/xgboost-split_1697107917112/work/src/learner.cc:767: \n",
      "Parameters: { \"num_boost_round\", \"num_leaves\" } are not used.\n",
      "\n"
     ]
    },
    {
     "name": "stderr",
     "output_type": "stream",
     "text": [
      "2023/12/09 21:27:07 WARNING mlflow.utils.autologging_utils: Encountered unexpected error during xgboost autologging: The following failures occurred while performing one or more logging operations: [MlflowException('Failed to perform one or more operations on the run with ID e0e5982bb7cf47378a5afea974bfd429. Failed operations: [RestException(\"INVALID_PARAMETER_VALUE: Duplicate parameter keys have been submitted: [\\'num_boost_round\\']. Please ensure the request contains only one param value per param key.\")]')]\n",
      "[I 2023-12-09 21:27:10,609] Trial 25 finished with value: 60.263131970129955 and parameters: {'n_estimators': 89, 'eta': 0.07891336502131616, 'num_leaves': 40, 'max_depth': 10, 'min_child_weight': 0.018657484862740208, 'colsample_bytree': 0.7491092100837696, 'colsample_bylevel': 0.6606989791565924, 'colsample_bynode': 0.6795876117719901, 'subsample': 0.6925761114920925, 'lambda': 1.801816078258968, 'alpha': 0.00322455593207663, 'num_boost_round': 12}. Best is trial 24 with value: 59.41067243883818.\n"
     ]
    },
    {
     "name": "stdout",
     "output_type": "stream",
     "text": [
      "[21:27:12] WARNING: /Users/runner/miniforge3/conda-bld/xgboost-split_1697107917112/work/src/learner.cc:767: \n",
      "Parameters: { \"num_boost_round\", \"num_leaves\" } are not used.\n",
      "\n"
     ]
    },
    {
     "name": "stderr",
     "output_type": "stream",
     "text": [
      "2023/12/09 21:28:06 WARNING mlflow.utils.autologging_utils: Encountered unexpected error during xgboost autologging: The following failures occurred while performing one or more logging operations: [MlflowException('Failed to perform one or more operations on the run with ID 801534103f004c619afe7e04b9c4d976. Failed operations: [RestException(\"INVALID_PARAMETER_VALUE: Duplicate parameter keys have been submitted: [\\'num_boost_round\\']. Please ensure the request contains only one param value per param key.\")]')]\n"
     ]
    },
    {
     "name": "stdout",
     "output_type": "stream",
     "text": [
      "[21:28:14] WARNING: /Users/runner/miniforge3/conda-bld/xgboost-split_1697107917112/work/src/learner.cc:767: \n",
      "Parameters: { \"num_boost_round\", \"num_leaves\" } are not used.\n",
      "\n"
     ]
    },
    {
     "name": "stderr",
     "output_type": "stream",
     "text": [
      "2023/12/09 21:30:02 WARNING mlflow.utils.autologging_utils: Encountered unexpected error during xgboost autologging: The following failures occurred while performing one or more logging operations: [MlflowException('Failed to perform one or more operations on the run with ID 801534103f004c619afe7e04b9c4d976. Failed operations: [RestException(\"INVALID_PARAMETER_VALUE: Duplicate parameter keys have been submitted: [\\'num_boost_round\\']. Please ensure the request contains only one param value per param key.\")]')]\n"
     ]
    },
    {
     "name": "stdout",
     "output_type": "stream",
     "text": [
      "[21:30:13] WARNING: /Users/runner/miniforge3/conda-bld/xgboost-split_1697107917112/work/src/learner.cc:767: \n",
      "Parameters: { \"num_boost_round\", \"num_leaves\" } are not used.\n",
      "\n"
     ]
    },
    {
     "name": "stderr",
     "output_type": "stream",
     "text": [
      "2023/12/09 21:32:52 WARNING mlflow.utils.autologging_utils: Encountered unexpected error during xgboost autologging: The following failures occurred while performing one or more logging operations: [MlflowException('Failed to perform one or more operations on the run with ID 801534103f004c619afe7e04b9c4d976. Failed operations: [RestException(\"INVALID_PARAMETER_VALUE: Duplicate parameter keys have been submitted: [\\'num_boost_round\\']. Please ensure the request contains only one param value per param key.\")]')]\n",
      "[I 2023-12-09 21:32:55,923] Trial 26 finished with value: 57.974208814893224 and parameters: {'n_estimators': 94, 'eta': 0.05006030603983848, 'num_leaves': 39, 'max_depth': 11, 'min_child_weight': 0.020858625875361844, 'colsample_bytree': 0.8927627571797925, 'colsample_bylevel': 0.6740370778253008, 'colsample_bynode': 0.6943459070637243, 'subsample': 0.6952964981342753, 'lambda': 1.7941540373074192, 'alpha': 0.004877687925186527, 'num_boost_round': 15}. Best is trial 26 with value: 57.974208814893224.\n"
     ]
    },
    {
     "name": "stdout",
     "output_type": "stream",
     "text": [
      "[21:32:58] WARNING: /Users/runner/miniforge3/conda-bld/xgboost-split_1697107917112/work/src/learner.cc:767: \n",
      "Parameters: { \"num_boost_round\", \"num_leaves\" } are not used.\n",
      "\n"
     ]
    },
    {
     "name": "stderr",
     "output_type": "stream",
     "text": [
      "2023/12/09 21:33:50 WARNING mlflow.utils.autologging_utils: Encountered unexpected error during xgboost autologging: The following failures occurred while performing one or more logging operations: [MlflowException('Failed to perform one or more operations on the run with ID bb13d8425b334d2da71c7d2d66a2a993. Failed operations: [RestException(\"INVALID_PARAMETER_VALUE: Duplicate parameter keys have been submitted: [\\'num_boost_round\\']. Please ensure the request contains only one param value per param key.\")]')]\n"
     ]
    },
    {
     "name": "stdout",
     "output_type": "stream",
     "text": [
      "[21:33:58] WARNING: /Users/runner/miniforge3/conda-bld/xgboost-split_1697107917112/work/src/learner.cc:767: \n",
      "Parameters: { \"num_boost_round\", \"num_leaves\" } are not used.\n",
      "\n"
     ]
    },
    {
     "name": "stderr",
     "output_type": "stream",
     "text": [
      "2023/12/09 21:35:42 WARNING mlflow.utils.autologging_utils: Encountered unexpected error during xgboost autologging: The following failures occurred while performing one or more logging operations: [MlflowException('Failed to perform one or more operations on the run with ID bb13d8425b334d2da71c7d2d66a2a993. Failed operations: [RestException(\"INVALID_PARAMETER_VALUE: Duplicate parameter keys have been submitted: [\\'num_boost_round\\']. Please ensure the request contains only one param value per param key.\")]')]\n"
     ]
    },
    {
     "name": "stdout",
     "output_type": "stream",
     "text": [
      "[21:35:53] WARNING: /Users/runner/miniforge3/conda-bld/xgboost-split_1697107917112/work/src/learner.cc:767: \n",
      "Parameters: { \"num_boost_round\", \"num_leaves\" } are not used.\n",
      "\n"
     ]
    },
    {
     "name": "stderr",
     "output_type": "stream",
     "text": [
      "2023/12/09 21:38:29 WARNING mlflow.utils.autologging_utils: Encountered unexpected error during xgboost autologging: The following failures occurred while performing one or more logging operations: [MlflowException('Failed to perform one or more operations on the run with ID bb13d8425b334d2da71c7d2d66a2a993. Failed operations: [RestException(\"INVALID_PARAMETER_VALUE: Duplicate parameter keys have been submitted: [\\'num_boost_round\\']. Please ensure the request contains only one param value per param key.\")]')]\n",
      "[I 2023-12-09 21:38:32,921] Trial 27 finished with value: 57.12857065531574 and parameters: {'n_estimators': 95, 'eta': 0.05169556919385659, 'num_leaves': 39, 'max_depth': 11, 'min_child_weight': 0.02842451521140463, 'colsample_bytree': 0.8862551435463962, 'colsample_bylevel': 0.6641861168824166, 'colsample_bynode': 0.6889786121861756, 'subsample': 0.7728468172289669, 'lambda': 1.6392639446056259, 'alpha': 0.009368536527358525, 'num_boost_round': 16}. Best is trial 27 with value: 57.12857065531574.\n"
     ]
    },
    {
     "name": "stdout",
     "output_type": "stream",
     "text": [
      "[21:38:35] WARNING: /Users/runner/miniforge3/conda-bld/xgboost-split_1697107917112/work/src/learner.cc:767: \n",
      "Parameters: { \"num_boost_round\", \"num_leaves\" } are not used.\n",
      "\n"
     ]
    },
    {
     "name": "stderr",
     "output_type": "stream",
     "text": [
      "2023/12/09 21:39:38 WARNING mlflow.utils.autologging_utils: Encountered unexpected error during xgboost autologging: The following failures occurred while performing one or more logging operations: [MlflowException('Failed to perform one or more operations on the run with ID 27da5da21c0e4cb5b330b891f7cfc1c0. Failed operations: [RestException(\"INVALID_PARAMETER_VALUE: Duplicate parameter keys have been submitted: [\\'num_boost_round\\']. Please ensure the request contains only one param value per param key.\")]')]\n"
     ]
    },
    {
     "name": "stdout",
     "output_type": "stream",
     "text": [
      "[21:39:46] WARNING: /Users/runner/miniforge3/conda-bld/xgboost-split_1697107917112/work/src/learner.cc:767: \n",
      "Parameters: { \"num_boost_round\", \"num_leaves\" } are not used.\n",
      "\n"
     ]
    },
    {
     "name": "stderr",
     "output_type": "stream",
     "text": [
      "2023/12/09 21:41:51 WARNING mlflow.utils.autologging_utils: Encountered unexpected error during xgboost autologging: The following failures occurred while performing one or more logging operations: [MlflowException('Failed to perform one or more operations on the run with ID 27da5da21c0e4cb5b330b891f7cfc1c0. Failed operations: [RestException(\"INVALID_PARAMETER_VALUE: Duplicate parameter keys have been submitted: [\\'num_boost_round\\']. Please ensure the request contains only one param value per param key.\")]')]\n"
     ]
    },
    {
     "name": "stdout",
     "output_type": "stream",
     "text": [
      "[21:42:02] WARNING: /Users/runner/miniforge3/conda-bld/xgboost-split_1697107917112/work/src/learner.cc:767: \n",
      "Parameters: { \"num_boost_round\", \"num_leaves\" } are not used.\n",
      "\n"
     ]
    },
    {
     "name": "stderr",
     "output_type": "stream",
     "text": [
      "2023/12/09 21:45:11 WARNING mlflow.utils.autologging_utils: Encountered unexpected error during xgboost autologging: The following failures occurred while performing one or more logging operations: [MlflowException('Failed to perform one or more operations on the run with ID 27da5da21c0e4cb5b330b891f7cfc1c0. Failed operations: [RestException(\"INVALID_PARAMETER_VALUE: Duplicate parameter keys have been submitted: [\\'num_boost_round\\']. Please ensure the request contains only one param value per param key.\")]')]\n",
      "[I 2023-12-09 21:45:15,547] Trial 28 finished with value: 58.36245662708209 and parameters: {'n_estimators': 96, 'eta': 0.055480130327323206, 'num_leaves': 38, 'max_depth': 12, 'min_child_weight': 0.030564997431284664, 'colsample_bytree': 0.903662364016301, 'colsample_bylevel': 0.7037692542867907, 'colsample_bynode': 0.6925468219051479, 'subsample': 0.7789700874980744, 'lambda': 1.536382441184661, 'alpha': 0.008448046843349143, 'num_boost_round': 22}. Best is trial 27 with value: 57.12857065531574.\n"
     ]
    },
    {
     "name": "stdout",
     "output_type": "stream",
     "text": [
      "[21:45:17] WARNING: /Users/runner/miniforge3/conda-bld/xgboost-split_1697107917112/work/src/learner.cc:767: \n",
      "Parameters: { \"num_boost_round\", \"num_leaves\" } are not used.\n",
      "\n"
     ]
    },
    {
     "name": "stderr",
     "output_type": "stream",
     "text": [
      "2023/12/09 21:46:41 WARNING mlflow.utils.autologging_utils: Encountered unexpected error during xgboost autologging: The following failures occurred while performing one or more logging operations: [MlflowException('Failed to perform one or more operations on the run with ID c30b8b8e903e42389a4eb751b2fd9149. Failed operations: [RestException(\"INVALID_PARAMETER_VALUE: Duplicate parameter keys have been submitted: [\\'num_boost_round\\']. Please ensure the request contains only one param value per param key.\")]')]\n"
     ]
    },
    {
     "name": "stdout",
     "output_type": "stream",
     "text": [
      "[21:46:49] WARNING: /Users/runner/miniforge3/conda-bld/xgboost-split_1697107917112/work/src/learner.cc:767: \n",
      "Parameters: { \"num_boost_round\", \"num_leaves\" } are not used.\n",
      "\n"
     ]
    },
    {
     "name": "stderr",
     "output_type": "stream",
     "text": [
      "2023/12/09 21:49:34 WARNING mlflow.utils.autologging_utils: Encountered unexpected error during xgboost autologging: The following failures occurred while performing one or more logging operations: [MlflowException('Failed to perform one or more operations on the run with ID c30b8b8e903e42389a4eb751b2fd9149. Failed operations: [RestException(\"INVALID_PARAMETER_VALUE: Duplicate parameter keys have been submitted: [\\'num_boost_round\\']. Please ensure the request contains only one param value per param key.\")]')]\n"
     ]
    },
    {
     "name": "stdout",
     "output_type": "stream",
     "text": [
      "[21:49:45] WARNING: /Users/runner/miniforge3/conda-bld/xgboost-split_1697107917112/work/src/learner.cc:767: \n",
      "Parameters: { \"num_boost_round\", \"num_leaves\" } are not used.\n",
      "\n"
     ]
    },
    {
     "name": "stderr",
     "output_type": "stream",
     "text": [
      "2023/12/09 21:53:59 WARNING mlflow.utils.autologging_utils: Encountered unexpected error during xgboost autologging: The following failures occurred while performing one or more logging operations: [MlflowException('Failed to perform one or more operations on the run with ID c30b8b8e903e42389a4eb751b2fd9149. Failed operations: [RestException(\"INVALID_PARAMETER_VALUE: Duplicate parameter keys have been submitted: [\\'num_boost_round\\']. Please ensure the request contains only one param value per param key.\")]')]\n",
      "[I 2023-12-09 21:54:03,062] Trial 29 finished with value: 59.92649174419015 and parameters: {'n_estimators': 98, 'eta': 0.051748107303210084, 'num_leaves': 36, 'max_depth': 15, 'min_child_weight': 0.03169741458099846, 'colsample_bytree': 0.9196495701503655, 'colsample_bylevel': 0.6685265627269996, 'colsample_bynode': 0.6859097251112315, 'subsample': 0.8153537846101216, 'lambda': 1.555884792907771, 'alpha': 0.022540296362289356, 'num_boost_round': 25}. Best is trial 27 with value: 57.12857065531574.\n"
     ]
    },
    {
     "name": "stdout",
     "output_type": "stream",
     "text": [
      "[21:54:05] WARNING: /Users/runner/miniforge3/conda-bld/xgboost-split_1697107917112/work/src/learner.cc:767: \n",
      "Parameters: { \"num_boost_round\", \"num_leaves\" } are not used.\n",
      "\n"
     ]
    },
    {
     "name": "stderr",
     "output_type": "stream",
     "text": [
      "2023/12/09 21:55:31 WARNING mlflow.utils.autologging_utils: Encountered unexpected error during xgboost autologging: The following failures occurred while performing one or more logging operations: [MlflowException('Failed to perform one or more operations on the run with ID 28788dcea62a411683911c6d6a703131. Failed operations: [RestException(\"INVALID_PARAMETER_VALUE: Duplicate parameter keys have been submitted: [\\'num_boost_round\\']. Please ensure the request contains only one param value per param key.\")]')]\n"
     ]
    },
    {
     "name": "stdout",
     "output_type": "stream",
     "text": [
      "[21:55:39] WARNING: /Users/runner/miniforge3/conda-bld/xgboost-split_1697107917112/work/src/learner.cc:767: \n",
      "Parameters: { \"num_boost_round\", \"num_leaves\" } are not used.\n",
      "\n"
     ]
    },
    {
     "name": "stderr",
     "output_type": "stream",
     "text": [
      "2023/12/09 21:58:29 WARNING mlflow.utils.autologging_utils: Encountered unexpected error during xgboost autologging: The following failures occurred while performing one or more logging operations: [MlflowException('Failed to perform one or more operations on the run with ID 28788dcea62a411683911c6d6a703131. Failed operations: [RestException(\"INVALID_PARAMETER_VALUE: Duplicate parameter keys have been submitted: [\\'num_boost_round\\']. Please ensure the request contains only one param value per param key.\")]')]\n"
     ]
    },
    {
     "name": "stdout",
     "output_type": "stream",
     "text": [
      "[21:58:38] WARNING: /Users/runner/miniforge3/conda-bld/xgboost-split_1697107917112/work/src/learner.cc:767: \n",
      "Parameters: { \"num_boost_round\", \"num_leaves\" } are not used.\n",
      "\n"
     ]
    },
    {
     "name": "stderr",
     "output_type": "stream",
     "text": [
      "2023/12/09 22:02:56 WARNING mlflow.utils.autologging_utils: Encountered unexpected error during xgboost autologging: The following failures occurred while performing one or more logging operations: [MlflowException('Failed to perform one or more operations on the run with ID 28788dcea62a411683911c6d6a703131. Failed operations: [RestException(\"INVALID_PARAMETER_VALUE: Duplicate parameter keys have been submitted: [\\'num_boost_round\\']. Please ensure the request contains only one param value per param key.\")]')]\n",
      "[I 2023-12-09 22:03:00,151] Trial 30 finished with value: 57.14788332553007 and parameters: {'n_estimators': 126, 'eta': 0.03922470070341286, 'num_leaves': 33, 'max_depth': 12, 'min_child_weight': 0.029840476902261468, 'colsample_bytree': 0.9297588980881293, 'colsample_bylevel': 0.7063441649667652, 'colsample_bynode': 0.716869151842243, 'subsample': 0.7678989871740348, 'lambda': 1.2619558051861708, 'alpha': 0.012227807338627841, 'num_boost_round': 20}. Best is trial 27 with value: 57.12857065531574.\n"
     ]
    },
    {
     "name": "stdout",
     "output_type": "stream",
     "text": [
      "[22:03:02] WARNING: /Users/runner/miniforge3/conda-bld/xgboost-split_1697107917112/work/src/learner.cc:767: \n",
      "Parameters: { \"num_boost_round\", \"num_leaves\" } are not used.\n",
      "\n"
     ]
    },
    {
     "name": "stderr",
     "output_type": "stream",
     "text": [
      "2023/12/09 22:04:28 WARNING mlflow.utils.autologging_utils: Encountered unexpected error during xgboost autologging: The following failures occurred while performing one or more logging operations: [MlflowException('Failed to perform one or more operations on the run with ID a2ca85cf93ab48a29c6cce33ffb0cb50. Failed operations: [RestException(\"INVALID_PARAMETER_VALUE: Duplicate parameter keys have been submitted: [\\'num_boost_round\\']. Please ensure the request contains only one param value per param key.\")]')]\n"
     ]
    },
    {
     "name": "stdout",
     "output_type": "stream",
     "text": [
      "[22:04:36] WARNING: /Users/runner/miniforge3/conda-bld/xgboost-split_1697107917112/work/src/learner.cc:767: \n",
      "Parameters: { \"num_boost_round\", \"num_leaves\" } are not used.\n",
      "\n"
     ]
    },
    {
     "name": "stderr",
     "output_type": "stream",
     "text": [
      "2023/12/09 22:07:24 WARNING mlflow.utils.autologging_utils: Encountered unexpected error during xgboost autologging: The following failures occurred while performing one or more logging operations: [MlflowException('Failed to perform one or more operations on the run with ID a2ca85cf93ab48a29c6cce33ffb0cb50. Failed operations: [RestException(\"INVALID_PARAMETER_VALUE: Duplicate parameter keys have been submitted: [\\'num_boost_round\\']. Please ensure the request contains only one param value per param key.\")]')]\n"
     ]
    },
    {
     "name": "stdout",
     "output_type": "stream",
     "text": [
      "[22:07:35] WARNING: /Users/runner/miniforge3/conda-bld/xgboost-split_1697107917112/work/src/learner.cc:767: \n",
      "Parameters: { \"num_boost_round\", \"num_leaves\" } are not used.\n",
      "\n"
     ]
    },
    {
     "name": "stderr",
     "output_type": "stream",
     "text": [
      "2023/12/09 22:11:51 WARNING mlflow.utils.autologging_utils: Encountered unexpected error during xgboost autologging: The following failures occurred while performing one or more logging operations: [MlflowException('Failed to perform one or more operations on the run with ID a2ca85cf93ab48a29c6cce33ffb0cb50. Failed operations: [RestException(\"INVALID_PARAMETER_VALUE: Duplicate parameter keys have been submitted: [\\'num_boost_round\\']. Please ensure the request contains only one param value per param key.\")]')]\n",
      "[I 2023-12-09 22:11:54,791] Trial 31 finished with value: 57.05648716686634 and parameters: {'n_estimators': 122, 'eta': 0.041159428141083886, 'num_leaves': 34, 'max_depth': 12, 'min_child_weight': 0.031507317401508694, 'colsample_bytree': 0.9229606824866499, 'colsample_bylevel': 0.7064194229926998, 'colsample_bynode': 0.7158440177982559, 'subsample': 0.7769186287426424, 'lambda': 1.2908697628355246, 'alpha': 0.009465232755839163, 'num_boost_round': 19}. Best is trial 31 with value: 57.05648716686634.\n"
     ]
    },
    {
     "name": "stdout",
     "output_type": "stream",
     "text": [
      "[22:11:57] WARNING: /Users/runner/miniforge3/conda-bld/xgboost-split_1697107917112/work/src/learner.cc:767: \n",
      "Parameters: { \"num_boost_round\", \"num_leaves\" } are not used.\n",
      "\n"
     ]
    },
    {
     "name": "stderr",
     "output_type": "stream",
     "text": [
      "2023/12/09 22:13:17 WARNING mlflow.utils.autologging_utils: Encountered unexpected error during xgboost autologging: The following failures occurred while performing one or more logging operations: [MlflowException('Failed to perform one or more operations on the run with ID 08139694ec774617a05fda8cb55dfb2b. Failed operations: [RestException(\"INVALID_PARAMETER_VALUE: Duplicate parameter keys have been submitted: [\\'num_boost_round\\']. Please ensure the request contains only one param value per param key.\")]')]\n"
     ]
    },
    {
     "name": "stdout",
     "output_type": "stream",
     "text": [
      "[22:13:25] WARNING: /Users/runner/miniforge3/conda-bld/xgboost-split_1697107917112/work/src/learner.cc:767: \n",
      "Parameters: { \"num_boost_round\", \"num_leaves\" } are not used.\n",
      "\n"
     ]
    },
    {
     "name": "stderr",
     "output_type": "stream",
     "text": [
      "2023/12/09 22:16:02 WARNING mlflow.utils.autologging_utils: Encountered unexpected error during xgboost autologging: The following failures occurred while performing one or more logging operations: [MlflowException('Failed to perform one or more operations on the run with ID 08139694ec774617a05fda8cb55dfb2b. Failed operations: [RestException(\"INVALID_PARAMETER_VALUE: Duplicate parameter keys have been submitted: [\\'num_boost_round\\']. Please ensure the request contains only one param value per param key.\")]')]\n"
     ]
    },
    {
     "name": "stdout",
     "output_type": "stream",
     "text": [
      "[22:16:13] WARNING: /Users/runner/miniforge3/conda-bld/xgboost-split_1697107917112/work/src/learner.cc:767: \n",
      "Parameters: { \"num_boost_round\", \"num_leaves\" } are not used.\n",
      "\n"
     ]
    },
    {
     "name": "stderr",
     "output_type": "stream",
     "text": [
      "2023/12/09 22:20:14 WARNING mlflow.utils.autologging_utils: Encountered unexpected error during xgboost autologging: The following failures occurred while performing one or more logging operations: [MlflowException('Failed to perform one or more operations on the run with ID 08139694ec774617a05fda8cb55dfb2b. Failed operations: [RestException(\"INVALID_PARAMETER_VALUE: Duplicate parameter keys have been submitted: [\\'num_boost_round\\']. Please ensure the request contains only one param value per param key.\")]')]\n",
      "[I 2023-12-09 22:20:18,389] Trial 32 finished with value: 57.594293413672084 and parameters: {'n_estimators': 122, 'eta': 0.03928547547709896, 'num_leaves': 33, 'max_depth': 11, 'min_child_weight': 0.027980501325838895, 'colsample_bytree': 0.9874694083346504, 'colsample_bylevel': 0.7154004196412146, 'colsample_bynode': 0.7191222857592704, 'subsample': 0.8324052142497748, 'lambda': 1.1831193696788533, 'alpha': 0.010905864242411883, 'num_boost_round': 20}. Best is trial 31 with value: 57.05648716686634.\n"
     ]
    },
    {
     "name": "stdout",
     "output_type": "stream",
     "text": [
      "[22:20:20] WARNING: /Users/runner/miniforge3/conda-bld/xgboost-split_1697107917112/work/src/learner.cc:767: \n",
      "Parameters: { \"num_boost_round\", \"num_leaves\" } are not used.\n",
      "\n"
     ]
    },
    {
     "name": "stderr",
     "output_type": "stream",
     "text": [
      "2023/12/09 22:22:29 WARNING mlflow.utils.autologging_utils: Encountered unexpected error during xgboost autologging: The following failures occurred while performing one or more logging operations: [MlflowException('Failed to perform one or more operations on the run with ID 690a0fdf8e504d3dbf4929b307fa19b7. Failed operations: [RestException(\"INVALID_PARAMETER_VALUE: Duplicate parameter keys have been submitted: [\\'num_boost_round\\']. Please ensure the request contains only one param value per param key.\")]')]\n"
     ]
    },
    {
     "name": "stdout",
     "output_type": "stream",
     "text": [
      "[22:22:38] WARNING: /Users/runner/miniforge3/conda-bld/xgboost-split_1697107917112/work/src/learner.cc:767: \n",
      "Parameters: { \"num_boost_round\", \"num_leaves\" } are not used.\n",
      "\n"
     ]
    },
    {
     "name": "stderr",
     "output_type": "stream",
     "text": [
      "2023/12/09 22:26:52 WARNING mlflow.utils.autologging_utils: Encountered unexpected error during xgboost autologging: The following failures occurred while performing one or more logging operations: [MlflowException('Failed to perform one or more operations on the run with ID 690a0fdf8e504d3dbf4929b307fa19b7. Failed operations: [RestException(\"INVALID_PARAMETER_VALUE: Duplicate parameter keys have been submitted: [\\'num_boost_round\\']. Please ensure the request contains only one param value per param key.\")]')]\n"
     ]
    },
    {
     "name": "stdout",
     "output_type": "stream",
     "text": [
      "[22:27:04] WARNING: /Users/runner/miniforge3/conda-bld/xgboost-split_1697107917112/work/src/learner.cc:767: \n",
      "Parameters: { \"num_boost_round\", \"num_leaves\" } are not used.\n",
      "\n"
     ]
    },
    {
     "name": "stderr",
     "output_type": "stream",
     "text": [
      "2023/12/09 22:33:30 WARNING mlflow.utils.autologging_utils: Encountered unexpected error during xgboost autologging: The following failures occurred while performing one or more logging operations: [MlflowException('Failed to perform one or more operations on the run with ID 690a0fdf8e504d3dbf4929b307fa19b7. Failed operations: [RestException(\"INVALID_PARAMETER_VALUE: Duplicate parameter keys have been submitted: [\\'num_boost_round\\']. Please ensure the request contains only one param value per param key.\")]')]\n",
      "[I 2023-12-09 22:33:34,981] Trial 33 finished with value: 59.29531452049374 and parameters: {'n_estimators': 129, 'eta': 0.03714140496061684, 'num_leaves': 33, 'max_depth': 15, 'min_child_weight': 0.03799711813097755, 'colsample_bytree': 0.9833836345820283, 'colsample_bylevel': 0.7202423724379589, 'colsample_bynode': 0.7269053652706522, 'subsample': 0.8349316272575732, 'lambda': 1.1418152438001463, 'alpha': 0.017584632896750593, 'num_boost_round': 27}. Best is trial 31 with value: 57.05648716686634.\n"
     ]
    }
   ],
   "source": [
    "xgb = XGBoostForecaster()\n",
    "\n",
    "xgb.train_model(\n",
    "    train_df=df_train,\n",
    "    target_col=\"target\",\n",
    "    model_name=\"xgboost_enefit\",\n",
    "    exclude_cols=not_feature_columns+to_drop_cols,\n",
    "    categorical_features=cat_columns\n",
    ")"
   ]
  }
 ],
 "metadata": {
  "kernelspec": {
   "display_name": "enefit",
   "language": "python",
   "name": "python3"
  },
  "language_info": {
   "codemirror_mode": {
    "name": "ipython",
    "version": 3
   },
   "file_extension": ".py",
   "mimetype": "text/x-python",
   "name": "python",
   "nbconvert_exporter": "python",
   "pygments_lexer": "ipython3",
   "version": "3.11.0"
  }
 },
 "nbformat": 4,
 "nbformat_minor": 2
}
